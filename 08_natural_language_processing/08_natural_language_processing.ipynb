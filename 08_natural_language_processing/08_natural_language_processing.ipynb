{
  "nbformat": 4,
  "nbformat_minor": 0,
  "metadata": {
    "colab": {
      "provenance": [],
      "authorship_tag": "ABX9TyMoZ8Znv09/25y2yLmcwNcY"
    },
    "kernelspec": {
      "name": "python3",
      "display_name": "Python 3"
    },
    "language_info": {
      "name": "python"
    },
    "accelerator": "GPU",
    "gpuClass": "standard"
  },
  "cells": [
    {
      "cell_type": "markdown",
      "source": [
        "# Natural Language Processing with TensorFlow"
      ],
      "metadata": {
        "id": "WMEGNXItVj1t"
      }
    },
    {
      "cell_type": "markdown",
      "source": [
        "Goal is to derive information from natural language (text or speech).\n",
        "- Examples of natural language processing (NLP) and natural language problems (NLU):\n",
        "  - Clssification\n",
        "  - Text Generation\n",
        "  - Machine Translation\n",
        "  - Voice Assistants\n",
        "\n",
        "Steps:\n",
        "- Text -> Turn into numbers -> Build model -> Train model to find patterns -> Use patterns (make predictions)\n",
        "\n",
        "\n"
      ],
      "metadata": {
        "id": "aYT0TL2YXE-h"
      }
    },
    {
      "cell_type": "markdown",
      "source": [
        "What we're going to cover:\n",
        "- Download text dataset\n",
        "- Visualize text data\n",
        "- Convert text into numbers using tokenization\n",
        "- Turn tokenized text into an embedding\n",
        "- Modelling a text dataset\n",
        "  - Start with baseline (TF-IDF)\n",
        "  - Build serveral deep learning text models\n",
        "  - Dense, LSTM, GRU, Conv1D, Transfer Learning\n",
        "- Compare performance of each models\n",
        "- Combine model into an emsemble\n",
        "- Saving and loading a trained model\n",
        "- Find the most wrng predictions"
      ],
      "metadata": {
        "id": "12dyZbKTX-jL"
      }
    },
    {
      "cell_type": "markdown",
      "source": [
        "# Check for GPU"
      ],
      "metadata": {
        "id": "f_RmepPGYfx8"
      }
    },
    {
      "cell_type": "code",
      "source": [
        "!nvidia-smi -L"
      ],
      "metadata": {
        "colab": {
          "base_uri": "https://localhost:8080/"
        },
        "id": "as4_6OEIYjo7",
        "outputId": "3a1f949e-907b-426b-cd6c-60987ca03756"
      },
      "execution_count": null,
      "outputs": [
        {
          "output_type": "stream",
          "name": "stdout",
          "text": [
            "GPU 0: Tesla T4 (UUID: GPU-b8ea9b01-d464-4692-5e27-5f2a1a731d04)\n"
          ]
        }
      ]
    },
    {
      "cell_type": "markdown",
      "source": [
        "# Get helper functions"
      ],
      "metadata": {
        "id": "9KBxHF5NYlyc"
      }
    },
    {
      "cell_type": "code",
      "source": [
        "# Download helper functions script\n",
        "!wget https://raw.githubusercontent.com/mrdbourke/tensorflow-deep-learning/main/extras/helper_functions.py"
      ],
      "metadata": {
        "colab": {
          "base_uri": "https://localhost:8080/"
        },
        "id": "mh8wuWqTYsuK",
        "outputId": "4aac95b2-3187-4ff1-9375-269590c55719"
      },
      "execution_count": null,
      "outputs": [
        {
          "output_type": "stream",
          "name": "stdout",
          "text": [
            "--2023-03-11 01:31:38--  https://raw.githubusercontent.com/mrdbourke/tensorflow-deep-learning/main/extras/helper_functions.py\n",
            "Resolving raw.githubusercontent.com (raw.githubusercontent.com)... 185.199.108.133, 185.199.109.133, 185.199.110.133, ...\n",
            "Connecting to raw.githubusercontent.com (raw.githubusercontent.com)|185.199.108.133|:443... connected.\n",
            "HTTP request sent, awaiting response... 200 OK\n",
            "Length: 10246 (10K) [text/plain]\n",
            "Saving to: ‘helper_functions.py’\n",
            "\n",
            "helper_functions.py 100%[===================>]  10.01K  --.-KB/s    in 0s      \n",
            "\n",
            "2023-03-11 01:31:38 (87.8 MB/s) - ‘helper_functions.py’ saved [10246/10246]\n",
            "\n"
          ]
        }
      ]
    },
    {
      "cell_type": "code",
      "source": [
        "# Import helper functions\n",
        "from helper_functions import unzip_data, create_tensorboard_callback, plot_loss_curves, compare_historys"
      ],
      "metadata": {
        "id": "O6ddlQzcYt4D"
      },
      "execution_count": null,
      "outputs": []
    },
    {
      "cell_type": "markdown",
      "source": [
        "# Download the text dataset"
      ],
      "metadata": {
        "id": "p8ZZf2jmY5Qb"
      }
    },
    {
      "cell_type": "markdown",
      "source": [
        "Dataset Info: [Real or Not?](https://www.kaggle.com/c/nlp-getting-started/data) dataset from Kaggle which contains text-based Tweets about natural disasters\n",
        "\n",
        "Example of Real Disaster Tweet:\n",
        "- \"Jetstar and Virgin forced to cancel Bali flights again because of ash from Mount Raung volcano\"\n",
        "\n",
        "Example of NOT Real Disaster Tweet (could be anything):\n",
        "- \"'Education is the most powerful weapon which you can use to change the world.' Nelson #Mandela #quote\""
      ],
      "metadata": {
        "id": "DavzWOrxZMjk"
      }
    },
    {
      "cell_type": "code",
      "source": [
        "# Download data (same as from Kaggle)\n",
        "!wget \"https://storage.googleapis.com/ztm_tf_course/nlp_getting_started.zip\"\n",
        "\n",
        "# Unzip data\n",
        "unzip_data(\"nlp_getting_started.zip\")"
      ],
      "metadata": {
        "colab": {
          "base_uri": "https://localhost:8080/"
        },
        "id": "0mbFNmXlY8ta",
        "outputId": "acdfc47d-3aa6-40b0-f393-b33b0d2242fe"
      },
      "execution_count": null,
      "outputs": [
        {
          "output_type": "stream",
          "name": "stdout",
          "text": [
            "--2023-03-11 01:31:40--  https://storage.googleapis.com/ztm_tf_course/nlp_getting_started.zip\n",
            "Resolving storage.googleapis.com (storage.googleapis.com)... 142.251.10.128, 142.251.12.128, 172.217.194.128, ...\n",
            "Connecting to storage.googleapis.com (storage.googleapis.com)|142.251.10.128|:443... connected.\n",
            "HTTP request sent, awaiting response... 200 OK\n",
            "Length: 607343 (593K) [application/zip]\n",
            "Saving to: ‘nlp_getting_started.zip’\n",
            "\n",
            "nlp_getting_started 100%[===================>] 593.11K  --.-KB/s    in 0.006s  \n",
            "\n",
            "2023-03-11 01:31:41 (90.3 MB/s) - ‘nlp_getting_started.zip’ saved [607343/607343]\n",
            "\n"
          ]
        }
      ]
    },
    {
      "cell_type": "markdown",
      "source": [
        "# Visualizing text dataset"
      ],
      "metadata": {
        "id": "TTKjc7J7abXM"
      }
    },
    {
      "cell_type": "code",
      "source": [
        "# Turn .csv file into pandas DataFrame\n",
        "\n",
        "import pandas as pd\n",
        "\n",
        "train_df = pd.read_csv('train.csv')\n",
        "test_df = pd.read_csv('test.csv')\n",
        "\n",
        "train_df.head()"
      ],
      "metadata": {
        "colab": {
          "base_uri": "https://localhost:8080/",
          "height": 206
        },
        "id": "LHj_FmOaazvT",
        "outputId": "aca66151-eba2-4d94-9b1c-c8ae0a3c4fa9"
      },
      "execution_count": null,
      "outputs": [
        {
          "output_type": "execute_result",
          "data": {
            "text/plain": [
              "   id keyword location                                               text  \\\n",
              "0   1     NaN      NaN  Our Deeds are the Reason of this #earthquake M...   \n",
              "1   4     NaN      NaN             Forest fire near La Ronge Sask. Canada   \n",
              "2   5     NaN      NaN  All residents asked to 'shelter in place' are ...   \n",
              "3   6     NaN      NaN  13,000 people receive #wildfires evacuation or...   \n",
              "4   7     NaN      NaN  Just got sent this photo from Ruby #Alaska as ...   \n",
              "\n",
              "   target  \n",
              "0       1  \n",
              "1       1  \n",
              "2       1  \n",
              "3       1  \n",
              "4       1  "
            ],
            "text/html": [
              "\n",
              "  <div id=\"df-43040ff2-b249-4852-bb46-53599fc24ed4\">\n",
              "    <div class=\"colab-df-container\">\n",
              "      <div>\n",
              "<style scoped>\n",
              "    .dataframe tbody tr th:only-of-type {\n",
              "        vertical-align: middle;\n",
              "    }\n",
              "\n",
              "    .dataframe tbody tr th {\n",
              "        vertical-align: top;\n",
              "    }\n",
              "\n",
              "    .dataframe thead th {\n",
              "        text-align: right;\n",
              "    }\n",
              "</style>\n",
              "<table border=\"1\" class=\"dataframe\">\n",
              "  <thead>\n",
              "    <tr style=\"text-align: right;\">\n",
              "      <th></th>\n",
              "      <th>id</th>\n",
              "      <th>keyword</th>\n",
              "      <th>location</th>\n",
              "      <th>text</th>\n",
              "      <th>target</th>\n",
              "    </tr>\n",
              "  </thead>\n",
              "  <tbody>\n",
              "    <tr>\n",
              "      <th>0</th>\n",
              "      <td>1</td>\n",
              "      <td>NaN</td>\n",
              "      <td>NaN</td>\n",
              "      <td>Our Deeds are the Reason of this #earthquake M...</td>\n",
              "      <td>1</td>\n",
              "    </tr>\n",
              "    <tr>\n",
              "      <th>1</th>\n",
              "      <td>4</td>\n",
              "      <td>NaN</td>\n",
              "      <td>NaN</td>\n",
              "      <td>Forest fire near La Ronge Sask. Canada</td>\n",
              "      <td>1</td>\n",
              "    </tr>\n",
              "    <tr>\n",
              "      <th>2</th>\n",
              "      <td>5</td>\n",
              "      <td>NaN</td>\n",
              "      <td>NaN</td>\n",
              "      <td>All residents asked to 'shelter in place' are ...</td>\n",
              "      <td>1</td>\n",
              "    </tr>\n",
              "    <tr>\n",
              "      <th>3</th>\n",
              "      <td>6</td>\n",
              "      <td>NaN</td>\n",
              "      <td>NaN</td>\n",
              "      <td>13,000 people receive #wildfires evacuation or...</td>\n",
              "      <td>1</td>\n",
              "    </tr>\n",
              "    <tr>\n",
              "      <th>4</th>\n",
              "      <td>7</td>\n",
              "      <td>NaN</td>\n",
              "      <td>NaN</td>\n",
              "      <td>Just got sent this photo from Ruby #Alaska as ...</td>\n",
              "      <td>1</td>\n",
              "    </tr>\n",
              "  </tbody>\n",
              "</table>\n",
              "</div>\n",
              "      <button class=\"colab-df-convert\" onclick=\"convertToInteractive('df-43040ff2-b249-4852-bb46-53599fc24ed4')\"\n",
              "              title=\"Convert this dataframe to an interactive table.\"\n",
              "              style=\"display:none;\">\n",
              "        \n",
              "  <svg xmlns=\"http://www.w3.org/2000/svg\" height=\"24px\"viewBox=\"0 0 24 24\"\n",
              "       width=\"24px\">\n",
              "    <path d=\"M0 0h24v24H0V0z\" fill=\"none\"/>\n",
              "    <path d=\"M18.56 5.44l.94 2.06.94-2.06 2.06-.94-2.06-.94-.94-2.06-.94 2.06-2.06.94zm-11 1L8.5 8.5l.94-2.06 2.06-.94-2.06-.94L8.5 2.5l-.94 2.06-2.06.94zm10 10l.94 2.06.94-2.06 2.06-.94-2.06-.94-.94-2.06-.94 2.06-2.06.94z\"/><path d=\"M17.41 7.96l-1.37-1.37c-.4-.4-.92-.59-1.43-.59-.52 0-1.04.2-1.43.59L10.3 9.45l-7.72 7.72c-.78.78-.78 2.05 0 2.83L4 21.41c.39.39.9.59 1.41.59.51 0 1.02-.2 1.41-.59l7.78-7.78 2.81-2.81c.8-.78.8-2.07 0-2.86zM5.41 20L4 18.59l7.72-7.72 1.47 1.35L5.41 20z\"/>\n",
              "  </svg>\n",
              "      </button>\n",
              "      \n",
              "  <style>\n",
              "    .colab-df-container {\n",
              "      display:flex;\n",
              "      flex-wrap:wrap;\n",
              "      gap: 12px;\n",
              "    }\n",
              "\n",
              "    .colab-df-convert {\n",
              "      background-color: #E8F0FE;\n",
              "      border: none;\n",
              "      border-radius: 50%;\n",
              "      cursor: pointer;\n",
              "      display: none;\n",
              "      fill: #1967D2;\n",
              "      height: 32px;\n",
              "      padding: 0 0 0 0;\n",
              "      width: 32px;\n",
              "    }\n",
              "\n",
              "    .colab-df-convert:hover {\n",
              "      background-color: #E2EBFA;\n",
              "      box-shadow: 0px 1px 2px rgba(60, 64, 67, 0.3), 0px 1px 3px 1px rgba(60, 64, 67, 0.15);\n",
              "      fill: #174EA6;\n",
              "    }\n",
              "\n",
              "    [theme=dark] .colab-df-convert {\n",
              "      background-color: #3B4455;\n",
              "      fill: #D2E3FC;\n",
              "    }\n",
              "\n",
              "    [theme=dark] .colab-df-convert:hover {\n",
              "      background-color: #434B5C;\n",
              "      box-shadow: 0px 1px 3px 1px rgba(0, 0, 0, 0.15);\n",
              "      filter: drop-shadow(0px 1px 2px rgba(0, 0, 0, 0.3));\n",
              "      fill: #FFFFFF;\n",
              "    }\n",
              "  </style>\n",
              "\n",
              "      <script>\n",
              "        const buttonEl =\n",
              "          document.querySelector('#df-43040ff2-b249-4852-bb46-53599fc24ed4 button.colab-df-convert');\n",
              "        buttonEl.style.display =\n",
              "          google.colab.kernel.accessAllowed ? 'block' : 'none';\n",
              "\n",
              "        async function convertToInteractive(key) {\n",
              "          const element = document.querySelector('#df-43040ff2-b249-4852-bb46-53599fc24ed4');\n",
              "          const dataTable =\n",
              "            await google.colab.kernel.invokeFunction('convertToInteractive',\n",
              "                                                     [key], {});\n",
              "          if (!dataTable) return;\n",
              "\n",
              "          const docLinkHtml = 'Like what you see? Visit the ' +\n",
              "            '<a target=\"_blank\" href=https://colab.research.google.com/notebooks/data_table.ipynb>data table notebook</a>'\n",
              "            + ' to learn more about interactive tables.';\n",
              "          element.innerHTML = '';\n",
              "          dataTable['output_type'] = 'display_data';\n",
              "          await google.colab.output.renderOutput(dataTable, element);\n",
              "          const docLink = document.createElement('div');\n",
              "          docLink.innerHTML = docLinkHtml;\n",
              "          element.appendChild(docLink);\n",
              "        }\n",
              "      </script>\n",
              "    </div>\n",
              "  </div>\n",
              "  "
            ]
          },
          "metadata": {},
          "execution_count": 6
        }
      ]
    },
    {
      "cell_type": "code",
      "source": [
        "# Shuffle training dataframe\n",
        "train_df_shuffled = train_df.sample(frac=1, random_state=42) \n",
        "\n",
        "train_df_shuffled.head()"
      ],
      "metadata": {
        "colab": {
          "base_uri": "https://localhost:8080/",
          "height": 206
        },
        "id": "0gTvrpTLbSEp",
        "outputId": "1b1a6003-d05b-4fd9-c1c0-1a5c34470be9"
      },
      "execution_count": null,
      "outputs": [
        {
          "output_type": "execute_result",
          "data": {
            "text/plain": [
              "        id      keyword               location  \\\n",
              "2644  3796  destruction                    NaN   \n",
              "2227  3185       deluge                    NaN   \n",
              "5448  7769       police                     UK   \n",
              "132    191   aftershock                    NaN   \n",
              "6845  9810       trauma  Montgomery County, MD   \n",
              "\n",
              "                                                   text  target  \n",
              "2644  So you have a new weapon that can cause un-ima...       1  \n",
              "2227  The f$&amp;@ing things I do for #GISHWHES Just...       0  \n",
              "5448  DT @georgegalloway: RT @Galloway4Mayor: ÛÏThe...       1  \n",
              "132   Aftershock back to school kick off was great. ...       0  \n",
              "6845  in response to trauma Children of Addicts deve...       0  "
            ],
            "text/html": [
              "\n",
              "  <div id=\"df-087b659a-d762-4011-b0f4-94423df2e62f\">\n",
              "    <div class=\"colab-df-container\">\n",
              "      <div>\n",
              "<style scoped>\n",
              "    .dataframe tbody tr th:only-of-type {\n",
              "        vertical-align: middle;\n",
              "    }\n",
              "\n",
              "    .dataframe tbody tr th {\n",
              "        vertical-align: top;\n",
              "    }\n",
              "\n",
              "    .dataframe thead th {\n",
              "        text-align: right;\n",
              "    }\n",
              "</style>\n",
              "<table border=\"1\" class=\"dataframe\">\n",
              "  <thead>\n",
              "    <tr style=\"text-align: right;\">\n",
              "      <th></th>\n",
              "      <th>id</th>\n",
              "      <th>keyword</th>\n",
              "      <th>location</th>\n",
              "      <th>text</th>\n",
              "      <th>target</th>\n",
              "    </tr>\n",
              "  </thead>\n",
              "  <tbody>\n",
              "    <tr>\n",
              "      <th>2644</th>\n",
              "      <td>3796</td>\n",
              "      <td>destruction</td>\n",
              "      <td>NaN</td>\n",
              "      <td>So you have a new weapon that can cause un-ima...</td>\n",
              "      <td>1</td>\n",
              "    </tr>\n",
              "    <tr>\n",
              "      <th>2227</th>\n",
              "      <td>3185</td>\n",
              "      <td>deluge</td>\n",
              "      <td>NaN</td>\n",
              "      <td>The f$&amp;amp;@ing things I do for #GISHWHES Just...</td>\n",
              "      <td>0</td>\n",
              "    </tr>\n",
              "    <tr>\n",
              "      <th>5448</th>\n",
              "      <td>7769</td>\n",
              "      <td>police</td>\n",
              "      <td>UK</td>\n",
              "      <td>DT @georgegalloway: RT @Galloway4Mayor: ÛÏThe...</td>\n",
              "      <td>1</td>\n",
              "    </tr>\n",
              "    <tr>\n",
              "      <th>132</th>\n",
              "      <td>191</td>\n",
              "      <td>aftershock</td>\n",
              "      <td>NaN</td>\n",
              "      <td>Aftershock back to school kick off was great. ...</td>\n",
              "      <td>0</td>\n",
              "    </tr>\n",
              "    <tr>\n",
              "      <th>6845</th>\n",
              "      <td>9810</td>\n",
              "      <td>trauma</td>\n",
              "      <td>Montgomery County, MD</td>\n",
              "      <td>in response to trauma Children of Addicts deve...</td>\n",
              "      <td>0</td>\n",
              "    </tr>\n",
              "  </tbody>\n",
              "</table>\n",
              "</div>\n",
              "      <button class=\"colab-df-convert\" onclick=\"convertToInteractive('df-087b659a-d762-4011-b0f4-94423df2e62f')\"\n",
              "              title=\"Convert this dataframe to an interactive table.\"\n",
              "              style=\"display:none;\">\n",
              "        \n",
              "  <svg xmlns=\"http://www.w3.org/2000/svg\" height=\"24px\"viewBox=\"0 0 24 24\"\n",
              "       width=\"24px\">\n",
              "    <path d=\"M0 0h24v24H0V0z\" fill=\"none\"/>\n",
              "    <path d=\"M18.56 5.44l.94 2.06.94-2.06 2.06-.94-2.06-.94-.94-2.06-.94 2.06-2.06.94zm-11 1L8.5 8.5l.94-2.06 2.06-.94-2.06-.94L8.5 2.5l-.94 2.06-2.06.94zm10 10l.94 2.06.94-2.06 2.06-.94-2.06-.94-.94-2.06-.94 2.06-2.06.94z\"/><path d=\"M17.41 7.96l-1.37-1.37c-.4-.4-.92-.59-1.43-.59-.52 0-1.04.2-1.43.59L10.3 9.45l-7.72 7.72c-.78.78-.78 2.05 0 2.83L4 21.41c.39.39.9.59 1.41.59.51 0 1.02-.2 1.41-.59l7.78-7.78 2.81-2.81c.8-.78.8-2.07 0-2.86zM5.41 20L4 18.59l7.72-7.72 1.47 1.35L5.41 20z\"/>\n",
              "  </svg>\n",
              "      </button>\n",
              "      \n",
              "  <style>\n",
              "    .colab-df-container {\n",
              "      display:flex;\n",
              "      flex-wrap:wrap;\n",
              "      gap: 12px;\n",
              "    }\n",
              "\n",
              "    .colab-df-convert {\n",
              "      background-color: #E8F0FE;\n",
              "      border: none;\n",
              "      border-radius: 50%;\n",
              "      cursor: pointer;\n",
              "      display: none;\n",
              "      fill: #1967D2;\n",
              "      height: 32px;\n",
              "      padding: 0 0 0 0;\n",
              "      width: 32px;\n",
              "    }\n",
              "\n",
              "    .colab-df-convert:hover {\n",
              "      background-color: #E2EBFA;\n",
              "      box-shadow: 0px 1px 2px rgba(60, 64, 67, 0.3), 0px 1px 3px 1px rgba(60, 64, 67, 0.15);\n",
              "      fill: #174EA6;\n",
              "    }\n",
              "\n",
              "    [theme=dark] .colab-df-convert {\n",
              "      background-color: #3B4455;\n",
              "      fill: #D2E3FC;\n",
              "    }\n",
              "\n",
              "    [theme=dark] .colab-df-convert:hover {\n",
              "      background-color: #434B5C;\n",
              "      box-shadow: 0px 1px 3px 1px rgba(0, 0, 0, 0.15);\n",
              "      filter: drop-shadow(0px 1px 2px rgba(0, 0, 0, 0.3));\n",
              "      fill: #FFFFFF;\n",
              "    }\n",
              "  </style>\n",
              "\n",
              "      <script>\n",
              "        const buttonEl =\n",
              "          document.querySelector('#df-087b659a-d762-4011-b0f4-94423df2e62f button.colab-df-convert');\n",
              "        buttonEl.style.display =\n",
              "          google.colab.kernel.accessAllowed ? 'block' : 'none';\n",
              "\n",
              "        async function convertToInteractive(key) {\n",
              "          const element = document.querySelector('#df-087b659a-d762-4011-b0f4-94423df2e62f');\n",
              "          const dataTable =\n",
              "            await google.colab.kernel.invokeFunction('convertToInteractive',\n",
              "                                                     [key], {});\n",
              "          if (!dataTable) return;\n",
              "\n",
              "          const docLinkHtml = 'Like what you see? Visit the ' +\n",
              "            '<a target=\"_blank\" href=https://colab.research.google.com/notebooks/data_table.ipynb>data table notebook</a>'\n",
              "            + ' to learn more about interactive tables.';\n",
              "          element.innerHTML = '';\n",
              "          dataTable['output_type'] = 'display_data';\n",
              "          await google.colab.output.renderOutput(dataTable, element);\n",
              "          const docLink = document.createElement('div');\n",
              "          docLink.innerHTML = docLinkHtml;\n",
              "          element.appendChild(docLink);\n",
              "        }\n",
              "      </script>\n",
              "    </div>\n",
              "  </div>\n",
              "  "
            ]
          },
          "metadata": {},
          "execution_count": 7
        }
      ]
    },
    {
      "cell_type": "markdown",
      "source": [
        "Inputs (text column) -> Machine Learning Algorithm -> Outputs (target column)"
      ],
      "metadata": {
        "id": "PJl18uaJcByv"
      }
    },
    {
      "cell_type": "code",
      "source": [
        "# The TEST data doesn't have a target column (our goal is to predict this column)\n",
        "test_df.head()"
      ],
      "metadata": {
        "colab": {
          "base_uri": "https://localhost:8080/",
          "height": 206
        },
        "id": "uaDzqZSCgj4d",
        "outputId": "6810e4ea-bbd4-4519-b7ef-1c3be52acabc"
      },
      "execution_count": null,
      "outputs": [
        {
          "output_type": "execute_result",
          "data": {
            "text/plain": [
              "   id keyword location                                               text\n",
              "0   0     NaN      NaN                 Just happened a terrible car crash\n",
              "1   2     NaN      NaN  Heard about #earthquake is different cities, s...\n",
              "2   3     NaN      NaN  there is a forest fire at spot pond, geese are...\n",
              "3   9     NaN      NaN           Apocalypse lighting. #Spokane #wildfires\n",
              "4  11     NaN      NaN      Typhoon Soudelor kills 28 in China and Taiwan"
            ],
            "text/html": [
              "\n",
              "  <div id=\"df-04c3ea76-8dbc-4dda-ae9c-1619222f9648\">\n",
              "    <div class=\"colab-df-container\">\n",
              "      <div>\n",
              "<style scoped>\n",
              "    .dataframe tbody tr th:only-of-type {\n",
              "        vertical-align: middle;\n",
              "    }\n",
              "\n",
              "    .dataframe tbody tr th {\n",
              "        vertical-align: top;\n",
              "    }\n",
              "\n",
              "    .dataframe thead th {\n",
              "        text-align: right;\n",
              "    }\n",
              "</style>\n",
              "<table border=\"1\" class=\"dataframe\">\n",
              "  <thead>\n",
              "    <tr style=\"text-align: right;\">\n",
              "      <th></th>\n",
              "      <th>id</th>\n",
              "      <th>keyword</th>\n",
              "      <th>location</th>\n",
              "      <th>text</th>\n",
              "    </tr>\n",
              "  </thead>\n",
              "  <tbody>\n",
              "    <tr>\n",
              "      <th>0</th>\n",
              "      <td>0</td>\n",
              "      <td>NaN</td>\n",
              "      <td>NaN</td>\n",
              "      <td>Just happened a terrible car crash</td>\n",
              "    </tr>\n",
              "    <tr>\n",
              "      <th>1</th>\n",
              "      <td>2</td>\n",
              "      <td>NaN</td>\n",
              "      <td>NaN</td>\n",
              "      <td>Heard about #earthquake is different cities, s...</td>\n",
              "    </tr>\n",
              "    <tr>\n",
              "      <th>2</th>\n",
              "      <td>3</td>\n",
              "      <td>NaN</td>\n",
              "      <td>NaN</td>\n",
              "      <td>there is a forest fire at spot pond, geese are...</td>\n",
              "    </tr>\n",
              "    <tr>\n",
              "      <th>3</th>\n",
              "      <td>9</td>\n",
              "      <td>NaN</td>\n",
              "      <td>NaN</td>\n",
              "      <td>Apocalypse lighting. #Spokane #wildfires</td>\n",
              "    </tr>\n",
              "    <tr>\n",
              "      <th>4</th>\n",
              "      <td>11</td>\n",
              "      <td>NaN</td>\n",
              "      <td>NaN</td>\n",
              "      <td>Typhoon Soudelor kills 28 in China and Taiwan</td>\n",
              "    </tr>\n",
              "  </tbody>\n",
              "</table>\n",
              "</div>\n",
              "      <button class=\"colab-df-convert\" onclick=\"convertToInteractive('df-04c3ea76-8dbc-4dda-ae9c-1619222f9648')\"\n",
              "              title=\"Convert this dataframe to an interactive table.\"\n",
              "              style=\"display:none;\">\n",
              "        \n",
              "  <svg xmlns=\"http://www.w3.org/2000/svg\" height=\"24px\"viewBox=\"0 0 24 24\"\n",
              "       width=\"24px\">\n",
              "    <path d=\"M0 0h24v24H0V0z\" fill=\"none\"/>\n",
              "    <path d=\"M18.56 5.44l.94 2.06.94-2.06 2.06-.94-2.06-.94-.94-2.06-.94 2.06-2.06.94zm-11 1L8.5 8.5l.94-2.06 2.06-.94-2.06-.94L8.5 2.5l-.94 2.06-2.06.94zm10 10l.94 2.06.94-2.06 2.06-.94-2.06-.94-.94-2.06-.94 2.06-2.06.94z\"/><path d=\"M17.41 7.96l-1.37-1.37c-.4-.4-.92-.59-1.43-.59-.52 0-1.04.2-1.43.59L10.3 9.45l-7.72 7.72c-.78.78-.78 2.05 0 2.83L4 21.41c.39.39.9.59 1.41.59.51 0 1.02-.2 1.41-.59l7.78-7.78 2.81-2.81c.8-.78.8-2.07 0-2.86zM5.41 20L4 18.59l7.72-7.72 1.47 1.35L5.41 20z\"/>\n",
              "  </svg>\n",
              "      </button>\n",
              "      \n",
              "  <style>\n",
              "    .colab-df-container {\n",
              "      display:flex;\n",
              "      flex-wrap:wrap;\n",
              "      gap: 12px;\n",
              "    }\n",
              "\n",
              "    .colab-df-convert {\n",
              "      background-color: #E8F0FE;\n",
              "      border: none;\n",
              "      border-radius: 50%;\n",
              "      cursor: pointer;\n",
              "      display: none;\n",
              "      fill: #1967D2;\n",
              "      height: 32px;\n",
              "      padding: 0 0 0 0;\n",
              "      width: 32px;\n",
              "    }\n",
              "\n",
              "    .colab-df-convert:hover {\n",
              "      background-color: #E2EBFA;\n",
              "      box-shadow: 0px 1px 2px rgba(60, 64, 67, 0.3), 0px 1px 3px 1px rgba(60, 64, 67, 0.15);\n",
              "      fill: #174EA6;\n",
              "    }\n",
              "\n",
              "    [theme=dark] .colab-df-convert {\n",
              "      background-color: #3B4455;\n",
              "      fill: #D2E3FC;\n",
              "    }\n",
              "\n",
              "    [theme=dark] .colab-df-convert:hover {\n",
              "      background-color: #434B5C;\n",
              "      box-shadow: 0px 1px 3px 1px rgba(0, 0, 0, 0.15);\n",
              "      filter: drop-shadow(0px 1px 2px rgba(0, 0, 0, 0.3));\n",
              "      fill: #FFFFFF;\n",
              "    }\n",
              "  </style>\n",
              "\n",
              "      <script>\n",
              "        const buttonEl =\n",
              "          document.querySelector('#df-04c3ea76-8dbc-4dda-ae9c-1619222f9648 button.colab-df-convert');\n",
              "        buttonEl.style.display =\n",
              "          google.colab.kernel.accessAllowed ? 'block' : 'none';\n",
              "\n",
              "        async function convertToInteractive(key) {\n",
              "          const element = document.querySelector('#df-04c3ea76-8dbc-4dda-ae9c-1619222f9648');\n",
              "          const dataTable =\n",
              "            await google.colab.kernel.invokeFunction('convertToInteractive',\n",
              "                                                     [key], {});\n",
              "          if (!dataTable) return;\n",
              "\n",
              "          const docLinkHtml = 'Like what you see? Visit the ' +\n",
              "            '<a target=\"_blank\" href=https://colab.research.google.com/notebooks/data_table.ipynb>data table notebook</a>'\n",
              "            + ' to learn more about interactive tables.';\n",
              "          element.innerHTML = '';\n",
              "          dataTable['output_type'] = 'display_data';\n",
              "          await google.colab.output.renderOutput(dataTable, element);\n",
              "          const docLink = document.createElement('div');\n",
              "          docLink.innerHTML = docLinkHtml;\n",
              "          element.appendChild(docLink);\n",
              "        }\n",
              "      </script>\n",
              "    </div>\n",
              "  </div>\n",
              "  "
            ]
          },
          "metadata": {},
          "execution_count": 8
        }
      ]
    },
    {
      "cell_type": "code",
      "source": [
        "# How many examples of each class?\n",
        "train_df.target.value_counts()"
      ],
      "metadata": {
        "colab": {
          "base_uri": "https://localhost:8080/"
        },
        "id": "G9Gq3KT4g-m8",
        "outputId": "d52d2c53-0812-43a4-8c70-b0103a8683ff"
      },
      "execution_count": null,
      "outputs": [
        {
          "output_type": "execute_result",
          "data": {
            "text/plain": [
              "0    4342\n",
              "1    3271\n",
              "Name: target, dtype: int64"
            ]
          },
          "metadata": {},
          "execution_count": 9
        }
      ]
    },
    {
      "cell_type": "markdown",
      "source": [
        "We have two different values (0 - not disaster, 1 - real disaster) so we're dealing with binary classification"
      ],
      "metadata": {
        "id": "OHSjSgEBhe0C"
      }
    },
    {
      "cell_type": "code",
      "source": [
        "# How many samples total?\n",
        "print(f\"Total training samples: {len(train_df)}\")\n",
        "print(f\"Total test samples: {len(test_df)}\")\n",
        "print(f\"Total samples: {len(train_df) + len(test_df)}\")"
      ],
      "metadata": {
        "colab": {
          "base_uri": "https://localhost:8080/"
        },
        "id": "Ppq9HxGth65w",
        "outputId": "96f19fe1-a65b-4dfc-dbb8-be0c63b4b763"
      },
      "execution_count": null,
      "outputs": [
        {
          "output_type": "stream",
          "name": "stdout",
          "text": [
            "Total training samples: 7613\n",
            "Total test samples: 3263\n",
            "Total samples: 10876\n"
          ]
        }
      ]
    },
    {
      "cell_type": "code",
      "source": [
        "# Visualize random training samples in batches of 5\n",
        "\n",
        "import random\n",
        "\n",
        "random_index = random.randint(0, len(train_df)-5) # Get single index that is not higher than total number of samples\n",
        "for row in train_df_shuffled[['text', 'target']][random_index:random_index+5].itertuples():\n",
        "  _, text, target = row\n",
        "  print(f\"Target: {target}\", \"(real disaster)\" if target > 0 else \"(not real disaster)\")\n",
        "  print(f\"Text:\\n{text}\\n\")\n",
        "  print(\"-----\\n\")"
      ],
      "metadata": {
        "colab": {
          "base_uri": "https://localhost:8080/"
        },
        "id": "QOlV7fdSiGs9",
        "outputId": "98a16078-e3be-48f0-c219-feb750bbb506"
      },
      "execution_count": null,
      "outputs": [
        {
          "output_type": "stream",
          "name": "stdout",
          "text": [
            "Target: 1 (real disaster)\n",
            "Text:\n",
            "the pastor was not in the scene of the accident......who was the owner of the range rover ?\n",
            "\n",
            "-----\n",
            "\n",
            "Target: 1 (real disaster)\n",
            "Text:\n",
            "The shooting or the airplane accident  https://t.co/iECc1JDOub\n",
            "\n",
            "-----\n",
            "\n",
            "Target: 1 (real disaster)\n",
            "Text:\n",
            "@Eazzy_P we will never know what would have happened but the govt seemed to think that their beliefs warranted the deaths of innocent japs\n",
            "\n",
            "-----\n",
            "\n",
            "Target: 1 (real disaster)\n",
            "Text:\n",
            "Happy no one was hurt when #wmata train derailed. Also the express bus is so much better than metro rail http://t.co/7cEhNV3DKy @fox5newsdc\n",
            "\n",
            "-----\n",
            "\n",
            "Target: 0 (not real disaster)\n",
            "Text:\n",
            "Yessum I'm traumatised ??\n",
            "\n",
            "-----\n",
            "\n"
          ]
        }
      ]
    },
    {
      "cell_type": "markdown",
      "source": [
        "# Split data into training and validation sets\n"
      ],
      "metadata": {
        "id": "UAFL06s-j7dJ"
      }
    },
    {
      "cell_type": "markdown",
      "source": [
        "Since test set has no labels and we need a way to evaluate the trained model, we'll split training data and create validation set.\n",
        "\n",
        "Train model on training set and see how it performs on unseen data using validation set using Scikit-Learn's train_test_split()."
      ],
      "metadata": {
        "id": "36ZuHVNhkPwX"
      }
    },
    {
      "cell_type": "code",
      "source": [
        "from sklearn.model_selection import train_test_split\n",
        "\n",
        "# Use train_test_split to split training data into training and validation sets\n",
        "train_sentences, val_sentences, train_labels, val_labels = train_test_split(train_df_shuffled[\"text\"].to_numpy(),\n",
        "                                                                            train_df_shuffled[\"target\"].to_numpy(),\n",
        "                                                                            test_size=0.1, # dedicate 10% of samples to validation set\n",
        "                                                                            random_state=42)"
      ],
      "metadata": {
        "id": "KlKENET1lDDy"
      },
      "execution_count": null,
      "outputs": []
    },
    {
      "cell_type": "code",
      "source": [
        "# Check the lengths\n",
        "len(train_sentences), len(train_labels), len(val_sentences), len(val_labels)"
      ],
      "metadata": {
        "colab": {
          "base_uri": "https://localhost:8080/"
        },
        "id": "1AOpV_bwlw3C",
        "outputId": "a15cd086-5218-45ce-ca84-ff35f78638c4"
      },
      "execution_count": null,
      "outputs": [
        {
          "output_type": "execute_result",
          "data": {
            "text/plain": [
              "(6851, 6851, 762, 762)"
            ]
          },
          "metadata": {},
          "execution_count": 13
        }
      ]
    },
    {
      "cell_type": "code",
      "source": [
        "# View the first 10 training text sentences and their labels\n",
        "train_sentences[:10], train_labels[:10]"
      ],
      "metadata": {
        "colab": {
          "base_uri": "https://localhost:8080/"
        },
        "id": "0kR3I4qpnldb",
        "outputId": "2ce03dc7-806a-4645-f008-1f5c9393747d"
      },
      "execution_count": null,
      "outputs": [
        {
          "output_type": "execute_result",
          "data": {
            "text/plain": [
              "(array(['@mogacola @zamtriossu i screamed after hitting tweet',\n",
              "        'Imagine getting flattened by Kurt Zouma',\n",
              "        '@Gurmeetramrahim #MSGDoing111WelfareWorks Green S welfare force ke appx 65000 members har time disaster victim ki help ke liye tyar hai....',\n",
              "        \"@shakjn @C7 @Magnums im shaking in fear he's gonna hack the planet\",\n",
              "        'Somehow find you and I collide http://t.co/Ee8RpOahPk',\n",
              "        '@EvaHanderek @MarleyKnysh great times until the bus driver held us hostage in the mall parking lot lmfao',\n",
              "        'destroy the free fandom honestly',\n",
              "        'Weapons stolen from National Guard Armory in New Albany still missing #Gunsense http://t.co/lKNU8902JE',\n",
              "        '@wfaaweather Pete when will the heat wave pass? Is it really going to be mid month? Frisco Boy Scouts have a canoe trip in Okla.',\n",
              "        'Patient-reported outcomes in long-term survivors of metastatic colorectal cancer - British Journal of Surgery http://t.co/5Yl4DC1Tqt'],\n",
              "       dtype=object), array([0, 0, 1, 0, 0, 1, 1, 0, 1, 1]))"
            ]
          },
          "metadata": {},
          "execution_count": 14
        }
      ]
    },
    {
      "cell_type": "markdown",
      "source": [
        "# Converting text into numbers"
      ],
      "metadata": {
        "id": "oEVLrOkEoRUw"
      }
    },
    {
      "cell_type": "markdown",
      "source": [
        "Two main concepts in NLP for turning text into numbers:\n",
        "- Tokenization - A straight mapping from word to character or sub-word into numerical value. Three main levels of tokenization:\n",
        "  - **Word-level tokenization** with the sentence \"I love TensorFlow\" might result in \"I\" being 0, \"love\" being 1 and \"TensorFlow\" being 2. In this case, every **word** in a sequence considered a **single token**.\n",
        "  - **Character-level tokenization**, such as converting the letters A-Z to values 1-26. In this case, every **character** in a sequence considered a **single token**.\n",
        "  - **Sub-word tokenization** is in between word-level and character-level tokenization. It involves breaking invidual words into smaller parts and then converting those smaller parts into numbers. For example, \"my favourite food is pineapple pizza\" might become \"my, fav, avour, rite, fo, oo, od, is, pin, ine, app, le, piz, za\". After doing this, these sub-words would then be mapped to a numerical value. In this case, every **word** could be considered **multiple tokens**.\n",
        "\n",
        "- **Embeddings** - An embedding is a representation of natural language which can be learned. Representation comes in the form of a feature vector. For example, the word \"dance\" could be represented by the 5-dimensional vector [-0.8547, 0.4559, -0.3332, 0.9877, 0.1112]. It's important to note here, the size of the feature vector is tuneable. There are two ways to use embeddings:\n",
        "  - **Create your own embedding** - Once your text has been turned into numbers (required for an embedding), you can put them through an embedding layer (such as tf.keras.layers.Embedding) and an embedding representation will be learned during model training.\n",
        "  - **Reuse a pre-learned embedding** - Many pre-trained embeddings exist online. These pre-trained embeddings have often been learned on large corpuses of text (such as all of Wikipedia) and thus have a good underlying representation of natural language. You can use a pre-trained embedding to initialize your model and fine-tune it to your own specific task."
      ],
      "metadata": {
        "id": "L5iA_pMFofEY"
      }
    },
    {
      "cell_type": "markdown",
      "source": [
        "![08-tokenization-vs-embedding.png](data:image/png;base64,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)"
      ],
      "metadata": {
        "id": "2sBxsZQioxav"
      }
    },
    {
      "cell_type": "markdown",
      "source": [
        "# Text Vectorization (tokenization)\n",
        "\n",
        "* Mapping words to numbers\n",
        "\n",
        "To tokenize our words, we'll use the helpful preprocessing layer:\n",
        "tf.keraslayers.experimental.preprocessing.TextVectorization\n",
        "\n",
        "TextVectorization has the following parameters:\n",
        "- **max_tokens** - the max number of words in your vocabulary (20000 or number of unique words in the text), includes value for out of vocabulary (OOV) token\n",
        "- standardize - method for standardizing text. Default is '**lower_and_strip_punctuation**', which turn text into lowercase and removes all punctuations\n",
        "- **split** - how we want to split text, default is 'whitespace' which splits on spaces\n",
        "-  **ngrams** - how many words per token split. ngrams=2 splits token into continuous sequences of 2\n",
        "- **output_mode** - how to output tokens. Can be 'int' (integer mapping), 'binary' (one-hot encoding), 'count' or 'tf-idf'\n",
        "- **output_sequence_length** - length of teokenized sequence to output. For example, if output_sequence_length=150, all tokenized sequences will be 150 tokens long\n",
        "- **pad_to_max_tokens** - defaults to False. If True, the output feature axis will be padded to max_tokens even if the number of unique tokens in the vocvabulary is less than max_tokens. Only valid in certain modes"
      ],
      "metadata": {
        "id": "l8QaJV3Kp8aT"
      }
    },
    {
      "cell_type": "code",
      "source": [
        "import tensorflow as tf\n",
        "from tensorflow.keras.layers.experimental.preprocessing import TextVectorization\n",
        "\n",
        "# Use the default TextVectorization variables\n",
        "text_vectorizer = TextVectorization(max_tokens=None, # how many words in the vocabulary (all of the different words in your text)\n",
        "                                    standardize=\"lower_and_strip_punctuation\", # process the text\n",
        "                                    split=\"whitespace\", # how to split tokens\n",
        "                                    ngrams=None, # create groups of n-words?\n",
        "                                    output_mode=\"int\", # how to map tokens to numbers\n",
        "                                    output_sequence_length=None) # how long should the output sequence of tokens be?\n",
        "                                    # pad_to_max_tokens=True) # Not valid if using max_tokens=None"
      ],
      "metadata": {
        "id": "TqoYXhhotsSs"
      },
      "execution_count": null,
      "outputs": []
    },
    {
      "cell_type": "code",
      "source": [
        "# Find average number of tokens (words) in training Tweets\n",
        "round(sum([len(i.split()) for i in train_sentences])/len(train_sentences))"
      ],
      "metadata": {
        "colab": {
          "base_uri": "https://localhost:8080/"
        },
        "id": "LaMrtOWCt-o5",
        "outputId": "20a65da7-422b-4fcd-e810-0f256daa5a82"
      },
      "execution_count": null,
      "outputs": [
        {
          "output_type": "execute_result",
          "data": {
            "text/plain": [
              "15"
            ]
          },
          "metadata": {},
          "execution_count": 16
        }
      ]
    },
    {
      "cell_type": "code",
      "source": [
        "# Setup text vectorization with custom variables\n",
        "\n",
        "max_vocab_length = 10000 # max number of words to have in our vocabulary\n",
        "max_length = 15 # max length our sequences will be (e.g. how many words from a Tweet does our model see?)\n",
        "\n",
        "text_vectorizer = TextVectorization(max_tokens=max_vocab_length,\n",
        "                                    output_mode=\"int\",\n",
        "                                    output_sequence_length=max_length)"
      ],
      "metadata": {
        "id": "OFfEVSiluWt6"
      },
      "execution_count": null,
      "outputs": []
    },
    {
      "cell_type": "code",
      "source": [
        "# Fit the text vectorizer to the training text\n",
        "text_vectorizer.adapt(train_sentences)"
      ],
      "metadata": {
        "id": "ZpRAT7zcuiJx"
      },
      "execution_count": null,
      "outputs": []
    },
    {
      "cell_type": "code",
      "source": [
        "# Create sample sentence and tokenize it\n",
        "sample_sentence = \"There's a flood in my street!\"\n",
        "text_vectorizer([sample_sentence])"
      ],
      "metadata": {
        "colab": {
          "base_uri": "https://localhost:8080/"
        },
        "id": "KyrEWYBhupDR",
        "outputId": "6d4843e2-aa19-4058-d79c-9a2d7c69cbb2"
      },
      "execution_count": null,
      "outputs": [
        {
          "output_type": "execute_result",
          "data": {
            "text/plain": [
              "<tf.Tensor: shape=(1, 15), dtype=int64, numpy=\n",
              "array([[264,   3, 232,   4,  13, 698,   0,   0,   0,   0,   0,   0,   0,\n",
              "          0,   0]])>"
            ]
          },
          "metadata": {},
          "execution_count": 19
        }
      ]
    },
    {
      "cell_type": "markdown",
      "source": [
        "The 0's at the end of the returned tensor, this is because we set output_sequence_length=15, meaning no matter the size of the sequence we pass to text_vectorizer, it always returns a sequence with a length of 15."
      ],
      "metadata": {
        "id": "aI0xUPtZu3mI"
      }
    },
    {
      "cell_type": "code",
      "source": [
        "# Try text_vectorizer on random sentences\n",
        "\n",
        "# Choose a random sentence from the training dataset and tokenize it\n",
        "random_sentence = random.choice(train_sentences)\n",
        "print(f\"Original text:\\n{random_sentence}\")\n",
        "print(\"\\nVectorized version:\")\n",
        "text_vectorizer([random_sentence])"
      ],
      "metadata": {
        "colab": {
          "base_uri": "https://localhost:8080/"
        },
        "id": "YXjmaNgWwEh5",
        "outputId": "9eac10fc-645b-40af-c89f-8a472d307fa6"
      },
      "execution_count": null,
      "outputs": [
        {
          "output_type": "stream",
          "name": "stdout",
          "text": [
            "Original text:\n",
            "Rescue of the day: ItÛªs World Cat Day Saturday Aug 8th Black Black/White Cats just $5 http://t.co/oqb7DaSMVy #NewBeginningsAnimalRescue\n",
            "\n",
            "Vectorized version:\n"
          ]
        },
        {
          "output_type": "execute_result",
          "data": {
            "text/plain": [
              "<tf.Tensor: shape=(1, 15), dtype=int64, numpy=\n",
              "array([[ 389,    6,    2,  101, 1829,  107, 1427,  101, 1601,  795, 6299,\n",
              "         159,    1, 3122,   29]])>"
            ]
          },
          "metadata": {},
          "execution_count": 20
        }
      ]
    },
    {
      "cell_type": "code",
      "source": [
        "# Get the unique words in the vocabulary\n",
        "words_in_vocab = text_vectorizer.get_vocabulary()\n",
        "top_5_words = words_in_vocab[:5] # most common tokens (notice the [UNK] token for \"unknown\" words)\n",
        "bottom_5_words = words_in_vocab[-5:] # least common tokens\n",
        "\n",
        "print(f\"Number of words in vocab: {len(words_in_vocab)}\")\n",
        "print(f\"Top 5 most common words: {top_5_words}\") \n",
        "print(f\"Bottom 5 least common words: {bottom_5_words}\")"
      ],
      "metadata": {
        "colab": {
          "base_uri": "https://localhost:8080/"
        },
        "id": "Tm1y66XOwJjz",
        "outputId": "b3307148-93a8-4f7f-9252-8280be086403"
      },
      "execution_count": null,
      "outputs": [
        {
          "output_type": "stream",
          "name": "stdout",
          "text": [
            "Number of words in vocab: 10000\n",
            "Top 5 most common words: ['', '[UNK]', 'the', 'a', 'in']\n",
            "Bottom 5 least common words: ['pages', 'paeds', 'pads', 'padres', 'paddytomlinson1']\n"
          ]
        }
      ]
    },
    {
      "cell_type": "markdown",
      "source": [
        "# Creating an Embedding using an Embedding Layer"
      ],
      "metadata": {
        "id": "iszEgBw6wng3"
      }
    },
    {
      "cell_type": "markdown",
      "source": [
        "The powerful thing about an embedding is it can be learned during training. This means rather than just being static (e.g. 1 = I, 2 = love, 3 = TensorFlow), a word's numeric representation can be improved as a model goes through data samples.\n",
        "\n",
        "Using tf.keras.layers.Embedding layer with parameters:\n",
        "- input_dim - size of the vocabulary (e.g. len(text_vectorizer.get_vocabulary())\n",
        "- output_dim - size of the output embedding vectory (a value of 100 outputs a feature vector of size 100 for each word)\n",
        "- embeddings_initializer - how to initalize the embeddings matrix, default is 'uniform' which randomly initalizes embedding matrix with uniform distribution\n",
        "- input_length - length of sequences being passed to embedding layer"
      ],
      "metadata": {
        "id": "gYL6e0q4wztR"
      }
    },
    {
      "cell_type": "code",
      "source": [
        "tf.random.set_seed(42)\n",
        "\n",
        "from tensorflow.keras import layers\n",
        "\n",
        "embedding = layers.Embedding(input_dim=max_vocab_length, # input shape\n",
        "                             output_dim=128, # set size of embedding vector\n",
        "                             embeddings_initializer='uniform', # default, initlize randomly\n",
        "                             input_length=max_length, # set length of each input\n",
        "                             name='embedding_1')\n",
        "\n",
        "embedding"
      ],
      "metadata": {
        "colab": {
          "base_uri": "https://localhost:8080/"
        },
        "id": "ZaiRcdQl3ob4",
        "outputId": "2cd1ddce-175f-4a0e-fa35-5ae2ffd5dfdf"
      },
      "execution_count": null,
      "outputs": [
        {
          "output_type": "execute_result",
          "data": {
            "text/plain": [
              "<keras.layers.core.embedding.Embedding at 0x7f31faa244f0>"
            ]
          },
          "metadata": {},
          "execution_count": 22
        }
      ]
    },
    {
      "cell_type": "code",
      "source": [
        "# Get random sentence from training set\n",
        "random_sentence = random.choice(train_sentences)\n",
        "print(f\"Original Text:\\n{random_sentence}\")\n",
        "print(\"\\nEmbedded Version:\")\n",
        "\n",
        "# Embed the random sentence (turn it into numerical representation)\n",
        "sample_embed = embedding(text_vectorizer([random_sentence]))\n",
        "sample_embed"
      ],
      "metadata": {
        "colab": {
          "base_uri": "https://localhost:8080/"
        },
        "id": "yTSxVYBn5dhB",
        "outputId": "a124c450-e99a-4408-b65e-f51843a93ef2"
      },
      "execution_count": null,
      "outputs": [
        {
          "output_type": "stream",
          "name": "stdout",
          "text": [
            "Original Text:\n",
            "I hope you fall off a cliff\n",
            "\n",
            "Embedded Version:\n"
          ]
        },
        {
          "output_type": "execute_result",
          "data": {
            "text/plain": [
              "<tf.Tensor: shape=(1, 15, 128), dtype=float32, numpy=\n",
              "array([[[ 0.04103336, -0.01640569,  0.00574566, ...,  0.03157944,\n",
              "         -0.01967673,  0.02831472],\n",
              "        [-0.01371578,  0.01037283, -0.0083914 , ..., -0.01023718,\n",
              "         -0.04569119, -0.03872215],\n",
              "        [ 0.04263156,  0.02586242, -0.04443915, ...,  0.00462294,\n",
              "         -0.04120865,  0.03633659],\n",
              "        ...,\n",
              "        [ 0.00110061, -0.03142865, -0.0472449 , ..., -0.03238927,\n",
              "          0.03456515, -0.00085422],\n",
              "        [ 0.00110061, -0.03142865, -0.0472449 , ..., -0.03238927,\n",
              "          0.03456515, -0.00085422],\n",
              "        [ 0.00110061, -0.03142865, -0.0472449 , ..., -0.03238927,\n",
              "          0.03456515, -0.00085422]]], dtype=float32)>"
            ]
          },
          "metadata": {},
          "execution_count": 23
        }
      ]
    },
    {
      "cell_type": "code",
      "source": [
        "# Check out a single token's embedding\n",
        "sample_embed[0][0]"
      ],
      "metadata": {
        "colab": {
          "base_uri": "https://localhost:8080/"
        },
        "id": "9eIcaRM-6HNn",
        "outputId": "1fb70816-2e07-4fd9-9d83-ab635611dca7"
      },
      "execution_count": null,
      "outputs": [
        {
          "output_type": "execute_result",
          "data": {
            "text/plain": [
              "<tf.Tensor: shape=(128,), dtype=float32, numpy=\n",
              "array([ 0.04103336, -0.01640569,  0.00574566,  0.04370384,  0.00623636,\n",
              "       -0.03014178,  0.02959466,  0.01687719,  0.00375198,  0.03016329,\n",
              "        0.01045568,  0.03721381,  0.03307918,  0.01948922,  0.03441486,\n",
              "        0.02514229, -0.04128275, -0.02581101, -0.0014215 ,  0.01220934,\n",
              "       -0.03073773,  0.02843075, -0.04094055, -0.0177065 ,  0.0489924 ,\n",
              "        0.01083765,  0.03249446, -0.00369344,  0.00498511, -0.01298587,\n",
              "       -0.04364786, -0.04029129, -0.01738679, -0.03474847, -0.02219129,\n",
              "       -0.04189867, -0.00998266, -0.03331019,  0.04205698,  0.01414986,\n",
              "       -0.03787477,  0.01479467, -0.0110325 ,  0.02383847,  0.03592349,\n",
              "       -0.02848831, -0.02614238,  0.02996418, -0.04769492,  0.02100209,\n",
              "       -0.0480875 ,  0.04300192,  0.0169195 ,  0.02907591, -0.0162432 ,\n",
              "       -0.01261894,  0.00563883,  0.02801472,  0.02295286, -0.03253563,\n",
              "        0.00715225,  0.00578561, -0.04546499, -0.04261115, -0.02570205,\n",
              "       -0.00753815, -0.04883552, -0.02643575,  0.04622506, -0.04316002,\n",
              "       -0.01703992, -0.02772169,  0.00104558, -0.01382892, -0.01907202,\n",
              "       -0.0282429 ,  0.01673634,  0.04670918, -0.03296842,  0.02700238,\n",
              "        0.0403957 ,  0.00729797, -0.03465841,  0.03182239,  0.01562091,\n",
              "        0.02919742, -0.04158242, -0.01716815,  0.04435125,  0.03951725,\n",
              "       -0.00087601,  0.03952075,  0.01960293,  0.03337309,  0.03058681,\n",
              "        0.00581767, -0.01303818,  0.01786162,  0.04144844,  0.02860555,\n",
              "       -0.00374604,  0.01219482,  0.00161598, -0.03088155, -0.00044712,\n",
              "        0.00309383,  0.02797855,  0.0121094 , -0.04400122,  0.00598092,\n",
              "        0.0204041 , -0.02272785,  0.01037508,  0.01668296, -0.03524328,\n",
              "       -0.02320257, -0.01960242, -0.03561621, -0.0420912 ,  0.01692512,\n",
              "       -0.04316213,  0.01733866, -0.03522833,  0.04372599, -0.04290217,\n",
              "        0.03157944, -0.01967673,  0.02831472], dtype=float32)>"
            ]
          },
          "metadata": {},
          "execution_count": 24
        }
      ]
    },
    {
      "cell_type": "markdown",
      "source": [
        "# Modelling a text dataset"
      ],
      "metadata": {
        "id": "yzKO-0PD6PxO"
      }
    },
    {
      "cell_type": "markdown",
      "source": [
        "Will be building the following models:\n",
        "\n",
        "- Model 0: Naive Bayes (baseline)\n",
        "- Model 1: Feed-forward neural network (dense model)\n",
        "- Model 2: LSTM model\n",
        "- Model 3: GRU model\n",
        "- Model 4: Bidirectional-LSTM model\n",
        "- Model 5: 1D Convolutional Neural Network\n",
        "- Model 6: TensorFlow Hub Pretrained Feature Extractor\n",
        "- Model 7: Same as #6 but with only 10% of training data\n",
        "\n",
        "Steps for each model:\n",
        "1. Construct the model\n",
        "2. Train the model\n",
        "3. Make prediction with model\n",
        "4. Track prediction evaluation metrics for later comparison"
      ],
      "metadata": {
        "id": "dc0x476G6V9V"
      }
    },
    {
      "cell_type": "markdown",
      "source": [
        "# Model 0 - Baseline"
      ],
      "metadata": {
        "id": "THW-wwYVHKlD"
      }
    },
    {
      "cell_type": "markdown",
      "source": [
        "Benchmark for future experiment to improve upon.\n",
        "\n",
        "Using TF-IDF (Term frequency-inverse document frequency) formula to convert words into numbers and then model them with the Multinominal Naive Bayes algorithm. "
      ],
      "metadata": {
        "id": "PCUkV4mfHTmk"
      }
    },
    {
      "cell_type": "code",
      "source": [
        "from sklearn.feature_extraction.text import TfidfVectorizer\n",
        "from sklearn.naive_bayes import MultinomialNB\n",
        "from sklearn.pipeline import Pipeline\n",
        "\n",
        "# Create tokenization and modelling pipeline\n",
        "model_0 = Pipeline([\n",
        "    ('tfidf', TfidfVectorizer()), # convert words to number using tfidf\n",
        "    ('clf', MultinomialNB()) # model the text\n",
        "])\n",
        "\n",
        "# Fit the pipeline to the training data\n",
        "model_0.fit(train_sentences, train_labels)"
      ],
      "metadata": {
        "colab": {
          "base_uri": "https://localhost:8080/",
          "height": 126
        },
        "id": "CHgf7-alHnVC",
        "outputId": "81c43777-7020-4078-9ec5-e7027e78cdf4"
      },
      "execution_count": null,
      "outputs": [
        {
          "output_type": "execute_result",
          "data": {
            "text/plain": [
              "Pipeline(steps=[('tfidf', TfidfVectorizer()), ('clf', MultinomialNB())])"
            ],
            "text/html": [
              "<style>#sk-container-id-1 {color: black;background-color: white;}#sk-container-id-1 pre{padding: 0;}#sk-container-id-1 div.sk-toggleable {background-color: white;}#sk-container-id-1 label.sk-toggleable__label {cursor: pointer;display: block;width: 100%;margin-bottom: 0;padding: 0.3em;box-sizing: border-box;text-align: center;}#sk-container-id-1 label.sk-toggleable__label-arrow:before {content: \"▸\";float: left;margin-right: 0.25em;color: #696969;}#sk-container-id-1 label.sk-toggleable__label-arrow:hover:before {color: black;}#sk-container-id-1 div.sk-estimator:hover label.sk-toggleable__label-arrow:before {color: black;}#sk-container-id-1 div.sk-toggleable__content {max-height: 0;max-width: 0;overflow: hidden;text-align: left;background-color: #f0f8ff;}#sk-container-id-1 div.sk-toggleable__content pre {margin: 0.2em;color: black;border-radius: 0.25em;background-color: #f0f8ff;}#sk-container-id-1 input.sk-toggleable__control:checked~div.sk-toggleable__content {max-height: 200px;max-width: 100%;overflow: auto;}#sk-container-id-1 input.sk-toggleable__control:checked~label.sk-toggleable__label-arrow:before {content: \"▾\";}#sk-container-id-1 div.sk-estimator input.sk-toggleable__control:checked~label.sk-toggleable__label {background-color: #d4ebff;}#sk-container-id-1 div.sk-label input.sk-toggleable__control:checked~label.sk-toggleable__label {background-color: #d4ebff;}#sk-container-id-1 input.sk-hidden--visually {border: 0;clip: rect(1px 1px 1px 1px);clip: rect(1px, 1px, 1px, 1px);height: 1px;margin: -1px;overflow: hidden;padding: 0;position: absolute;width: 1px;}#sk-container-id-1 div.sk-estimator {font-family: monospace;background-color: #f0f8ff;border: 1px dotted black;border-radius: 0.25em;box-sizing: border-box;margin-bottom: 0.5em;}#sk-container-id-1 div.sk-estimator:hover {background-color: #d4ebff;}#sk-container-id-1 div.sk-parallel-item::after {content: \"\";width: 100%;border-bottom: 1px solid gray;flex-grow: 1;}#sk-container-id-1 div.sk-label:hover label.sk-toggleable__label {background-color: #d4ebff;}#sk-container-id-1 div.sk-serial::before {content: \"\";position: absolute;border-left: 1px solid gray;box-sizing: border-box;top: 0;bottom: 0;left: 50%;z-index: 0;}#sk-container-id-1 div.sk-serial {display: flex;flex-direction: column;align-items: center;background-color: white;padding-right: 0.2em;padding-left: 0.2em;position: relative;}#sk-container-id-1 div.sk-item {position: relative;z-index: 1;}#sk-container-id-1 div.sk-parallel {display: flex;align-items: stretch;justify-content: center;background-color: white;position: relative;}#sk-container-id-1 div.sk-item::before, #sk-container-id-1 div.sk-parallel-item::before {content: \"\";position: absolute;border-left: 1px solid gray;box-sizing: border-box;top: 0;bottom: 0;left: 50%;z-index: -1;}#sk-container-id-1 div.sk-parallel-item {display: flex;flex-direction: column;z-index: 1;position: relative;background-color: white;}#sk-container-id-1 div.sk-parallel-item:first-child::after {align-self: flex-end;width: 50%;}#sk-container-id-1 div.sk-parallel-item:last-child::after {align-self: flex-start;width: 50%;}#sk-container-id-1 div.sk-parallel-item:only-child::after {width: 0;}#sk-container-id-1 div.sk-dashed-wrapped {border: 1px dashed gray;margin: 0 0.4em 0.5em 0.4em;box-sizing: border-box;padding-bottom: 0.4em;background-color: white;}#sk-container-id-1 div.sk-label label {font-family: monospace;font-weight: bold;display: inline-block;line-height: 1.2em;}#sk-container-id-1 div.sk-label-container {text-align: center;}#sk-container-id-1 div.sk-container {/* jupyter's `normalize.less` sets `[hidden] { display: none; }` but bootstrap.min.css set `[hidden] { display: none !important; }` so we also need the `!important` here to be able to override the default hidden behavior on the sphinx rendered scikit-learn.org. See: https://github.com/scikit-learn/scikit-learn/issues/21755 */display: inline-block !important;position: relative;}#sk-container-id-1 div.sk-text-repr-fallback {display: none;}</style><div id=\"sk-container-id-1\" class=\"sk-top-container\"><div class=\"sk-text-repr-fallback\"><pre>Pipeline(steps=[(&#x27;tfidf&#x27;, TfidfVectorizer()), (&#x27;clf&#x27;, MultinomialNB())])</pre><b>In a Jupyter environment, please rerun this cell to show the HTML representation or trust the notebook. <br />On GitHub, the HTML representation is unable to render, please try loading this page with nbviewer.org.</b></div><div class=\"sk-container\" hidden><div class=\"sk-item sk-dashed-wrapped\"><div class=\"sk-label-container\"><div class=\"sk-label sk-toggleable\"><input class=\"sk-toggleable__control sk-hidden--visually\" id=\"sk-estimator-id-1\" type=\"checkbox\" ><label for=\"sk-estimator-id-1\" class=\"sk-toggleable__label sk-toggleable__label-arrow\">Pipeline</label><div class=\"sk-toggleable__content\"><pre>Pipeline(steps=[(&#x27;tfidf&#x27;, TfidfVectorizer()), (&#x27;clf&#x27;, MultinomialNB())])</pre></div></div></div><div class=\"sk-serial\"><div class=\"sk-item\"><div class=\"sk-estimator sk-toggleable\"><input class=\"sk-toggleable__control sk-hidden--visually\" id=\"sk-estimator-id-2\" type=\"checkbox\" ><label for=\"sk-estimator-id-2\" class=\"sk-toggleable__label sk-toggleable__label-arrow\">TfidfVectorizer</label><div class=\"sk-toggleable__content\"><pre>TfidfVectorizer()</pre></div></div></div><div class=\"sk-item\"><div class=\"sk-estimator sk-toggleable\"><input class=\"sk-toggleable__control sk-hidden--visually\" id=\"sk-estimator-id-3\" type=\"checkbox\" ><label for=\"sk-estimator-id-3\" class=\"sk-toggleable__label sk-toggleable__label-arrow\">MultinomialNB</label><div class=\"sk-toggleable__content\"><pre>MultinomialNB()</pre></div></div></div></div></div></div></div>"
            ]
          },
          "metadata": {},
          "execution_count": 25
        }
      ]
    },
    {
      "cell_type": "code",
      "source": [
        "# Evaluate model and find baseline metrics\n",
        "baseline_score = model_0.score(val_sentences, val_labels)\n",
        "print(f\"Our baseline model achieves an accuracy of: {baseline_score*100:.2f}%\")"
      ],
      "metadata": {
        "colab": {
          "base_uri": "https://localhost:8080/"
        },
        "id": "R-IkOA_wIOMS",
        "outputId": "1b6101af-e475-451e-840a-034a36f05045"
      },
      "execution_count": null,
      "outputs": [
        {
          "output_type": "stream",
          "name": "stdout",
          "text": [
            "Our baseline model achieves an accuracy of: 79.27%\n"
          ]
        }
      ]
    },
    {
      "cell_type": "code",
      "source": [
        "# Make predictions with baseline model\n",
        "baseline_preds = model_0.predict(val_sentences)\n",
        "baseline_preds[:20]"
      ],
      "metadata": {
        "colab": {
          "base_uri": "https://localhost:8080/"
        },
        "id": "3tcG9fRiI_be",
        "outputId": "0d8462fd-9c62-47d0-e603-63d8ec82caea"
      },
      "execution_count": null,
      "outputs": [
        {
          "output_type": "execute_result",
          "data": {
            "text/plain": [
              "array([1, 1, 1, 0, 0, 1, 1, 1, 1, 0, 0, 1, 0, 0, 0, 0, 0, 0, 0, 1])"
            ]
          },
          "metadata": {},
          "execution_count": 27
        }
      ]
    },
    {
      "cell_type": "markdown",
      "source": [
        "## Creating an evaluation function for our model experiments"
      ],
      "metadata": {
        "id": "HaBeKCkKJJEF"
      }
    },
    {
      "cell_type": "code",
      "source": [
        "# Function to evaluate: accuracy, precision, recall, f1-score\n",
        "from sklearn.metrics import accuracy_score, precision_recall_fscore_support\n",
        "\n",
        "def calculate_results(y_true, y_pred):\n",
        "  \"\"\"\n",
        "  Calculates model accuracy, precision, recall and f1 score of a binary classification model.\n",
        "\n",
        "  Args:\n",
        "  -----\n",
        "  y_true = true labels in the form of a 1D array\n",
        "  y_pred = predicted labels in the form of a 1D array\n",
        "\n",
        "  Returns a dictionary of accuracy, precision, recall, f1-score.\n",
        "  \"\"\"\n",
        "  # Calculate model accuracy\n",
        "  model_accuracy = accuracy_score(y_true, y_pred) * 100\n",
        "  # Calculate model precision, recall and f1 score using \"weighted\" average\n",
        "  model_precision, model_recall, model_f1, _ = precision_recall_fscore_support(y_true, y_pred, average=\"weighted\")\n",
        "  model_results = {\"accuracy\": model_accuracy,\n",
        "                   \"precision\": model_precision,\n",
        "                   \"recall\": model_recall,\n",
        "                   \"f1\": model_f1}\n",
        "  return model_results"
      ],
      "metadata": {
        "id": "BT9l13Z8JQGy"
      },
      "execution_count": null,
      "outputs": []
    },
    {
      "cell_type": "code",
      "source": [
        "# Get baseline results\n",
        "baseline_results = calculate_results(y_true=val_labels,\n",
        "                                     y_pred=baseline_preds)\n",
        "\n",
        "baseline_results"
      ],
      "metadata": {
        "colab": {
          "base_uri": "https://localhost:8080/"
        },
        "id": "aS5LxW0LJeRl",
        "outputId": "c0a8972c-4e21-41ea-d4c7-61abf4b7608b"
      },
      "execution_count": null,
      "outputs": [
        {
          "output_type": "execute_result",
          "data": {
            "text/plain": [
              "{'accuracy': 79.26509186351706,\n",
              " 'precision': 0.8111390004213173,\n",
              " 'recall': 0.7926509186351706,\n",
              " 'f1': 0.7862189758049549}"
            ]
          },
          "metadata": {},
          "execution_count": 29
        }
      ]
    },
    {
      "cell_type": "markdown",
      "source": [
        "# Model 1 - Simple dense model\n",
        "- Single layer model\n",
        "  - Take text as input\n",
        "  - Tokenize text \n",
        "  - Create embedding\n",
        "  - Find average of embedding (using Global Average Pooling)\n",
        "  - Pass the average through fully connected layer with sigmoid activation function"
      ],
      "metadata": {
        "id": "CTN9O6a-Jm_c"
      }
    },
    {
      "cell_type": "code",
      "source": [
        "# Create tensorboard callback to track results (need to create a new one for each model)\n",
        "from helper_functions import create_tensorboard_callback\n",
        "\n",
        "# Create directory to save TensorBoard logs\n",
        "SAVE_DIR = \"model_logs\""
      ],
      "metadata": {
        "id": "-usMYvj7KH_I"
      },
      "execution_count": null,
      "outputs": []
    },
    {
      "cell_type": "code",
      "source": [
        "# Build model with Functional API\n",
        "\n",
        "from tensorflow.keras import layers\n",
        "\n",
        "inputs = layers.Input(shape=(1,), dtype='string') # input consist of 1-dimensional strings\n",
        "x = text_vectorizer(inputs) # turn input text into numbers\n",
        "x = embedding(x) # create embedding of numerized numbers\n",
        "x = layers.GlobalAveragePooling1D()(x) # lower dimensionality of the embedding\n",
        "outputs = layers.Dense(1, activation='sigmoid')(x) # create output layer, using sigmoid acitivation since we're looking for binary oupuut\n",
        "model_1 = tf.keras.Model(inputs, outputs, name='model_1_dense') # construct the model"
      ],
      "metadata": {
        "id": "9-W80P5YLSqu"
      },
      "execution_count": null,
      "outputs": []
    },
    {
      "cell_type": "code",
      "source": [
        "# Compile the model\n",
        "model_1.compile(loss='binary_crossentropy',\n",
        "                optimizer=tf.keras.optimizers.Adam(),\n",
        "                metrics=['accuracy'])"
      ],
      "metadata": {
        "id": "64rP2qbSMAGz"
      },
      "execution_count": null,
      "outputs": []
    },
    {
      "cell_type": "code",
      "source": [
        "# Get a summary of the model\n",
        "model_1.summary()"
      ],
      "metadata": {
        "colab": {
          "base_uri": "https://localhost:8080/"
        },
        "id": "aeJN3ULJNeYj",
        "outputId": "488e057c-af05-4eb3-e885-46e978e44db9"
      },
      "execution_count": null,
      "outputs": [
        {
          "output_type": "stream",
          "name": "stdout",
          "text": [
            "Model: \"model_1_dense\"\n",
            "_________________________________________________________________\n",
            " Layer (type)                Output Shape              Param #   \n",
            "=================================================================\n",
            " input_1 (InputLayer)        [(None, 1)]               0         \n",
            "                                                                 \n",
            " text_vectorization_1 (TextV  (None, 15)               0         \n",
            " ectorization)                                                   \n",
            "                                                                 \n",
            " embedding_1 (Embedding)     (None, 15, 128)           1280000   \n",
            "                                                                 \n",
            " global_average_pooling1d (G  (None, 128)              0         \n",
            " lobalAveragePooling1D)                                          \n",
            "                                                                 \n",
            " dense (Dense)               (None, 1)                 129       \n",
            "                                                                 \n",
            "=================================================================\n",
            "Total params: 1,280,129\n",
            "Trainable params: 1,280,129\n",
            "Non-trainable params: 0\n",
            "_________________________________________________________________\n"
          ]
        }
      ]
    },
    {
      "cell_type": "markdown",
      "source": [
        "Earlier, we created an embedding of size 128 (output_dim=128) for a vocabulary of size 10,000 (input_dim=10000), hence 1,280,000 trainable parameters."
      ],
      "metadata": {
        "id": "n7CkBvzhNlWV"
      }
    },
    {
      "cell_type": "code",
      "source": [
        "# Fit the model\n",
        "model_1_history = model_1.fit(train_sentences,\n",
        "                              train_labels,\n",
        "                              epochs=5,\n",
        "                              validation_data=(val_sentences, val_labels),\n",
        "                              callbacks=[create_tensorboard_callback(dir_name=SAVE_DIR,\n",
        "                                                                     experiment_name='simple_dense_model')])"
      ],
      "metadata": {
        "colab": {
          "base_uri": "https://localhost:8080/"
        },
        "id": "gk-VNy7qOVAo",
        "outputId": "ab6cee8b-605d-4b2b-a262-2891fead24b8"
      },
      "execution_count": null,
      "outputs": [
        {
          "output_type": "stream",
          "name": "stdout",
          "text": [
            "Saving TensorBoard log files to: model_logs/simple_dense_model/20230311-013144\n",
            "Epoch 1/5\n",
            "215/215 [==============================] - 17s 48ms/step - loss: 0.6109 - accuracy: 0.6930 - val_loss: 0.5375 - val_accuracy: 0.7533\n",
            "Epoch 2/5\n",
            "215/215 [==============================] - 2s 10ms/step - loss: 0.4421 - accuracy: 0.8202 - val_loss: 0.4697 - val_accuracy: 0.7848\n",
            "Epoch 3/5\n",
            "215/215 [==============================] - 2s 9ms/step - loss: 0.3470 - accuracy: 0.8603 - val_loss: 0.4595 - val_accuracy: 0.7900\n",
            "Epoch 4/5\n",
            "215/215 [==============================] - 2s 7ms/step - loss: 0.2854 - accuracy: 0.8921 - val_loss: 0.4645 - val_accuracy: 0.7900\n",
            "Epoch 5/5\n",
            "215/215 [==============================] - 2s 8ms/step - loss: 0.2384 - accuracy: 0.9120 - val_loss: 0.4768 - val_accuracy: 0.7861\n"
          ]
        }
      ]
    },
    {
      "cell_type": "code",
      "source": [
        "# Check the results\n",
        "model_1.evaluate(val_sentences, val_labels)"
      ],
      "metadata": {
        "colab": {
          "base_uri": "https://localhost:8080/"
        },
        "id": "Io_H8RBRO28G",
        "outputId": "61445997-e140-4103-f416-40ad598a5391"
      },
      "execution_count": null,
      "outputs": [
        {
          "output_type": "stream",
          "name": "stdout",
          "text": [
            "24/24 [==============================] - 0s 3ms/step - loss: 0.4768 - accuracy: 0.7861\n"
          ]
        },
        {
          "output_type": "execute_result",
          "data": {
            "text/plain": [
              "[0.47680848836898804, 0.7860892415046692]"
            ]
          },
          "metadata": {},
          "execution_count": 35
        }
      ]
    },
    {
      "cell_type": "code",
      "source": [
        "embedding.weights"
      ],
      "metadata": {
        "colab": {
          "base_uri": "https://localhost:8080/"
        },
        "id": "ZyqiqIzgPEjw",
        "outputId": "a06c2ac4-a3d9-4322-fcbb-2d235a9e0ade"
      },
      "execution_count": null,
      "outputs": [
        {
          "output_type": "execute_result",
          "data": {
            "text/plain": [
              "[<tf.Variable 'embedding_1/embeddings:0' shape=(10000, 128) dtype=float32, numpy=\n",
              " array([[-0.01823848, -0.01200925, -0.0349535 , ..., -0.05258809,\n",
              "          0.05439589, -0.01908756],\n",
              "        [-0.0381569 ,  0.02717221,  0.04026397, ..., -0.0226392 ,\n",
              "         -0.0402771 ,  0.00825667],\n",
              "        [-0.00059621,  0.02905944, -0.00174699, ..., -0.03388616,\n",
              "          0.06405567, -0.00689092],\n",
              "        ...,\n",
              "        [ 0.01662019, -0.03566371,  0.04471388, ...,  0.04758598,\n",
              "          0.03284648,  0.03781432],\n",
              "        [ 0.00601653,  0.01127666,  0.07517993, ..., -0.05377894,\n",
              "          0.00326244, -0.01344333],\n",
              "        [-0.06094168,  0.02889675,  0.11631177, ..., -0.11120845,\n",
              "          0.04717845, -0.1129824 ]], dtype=float32)>]"
            ]
          },
          "metadata": {},
          "execution_count": 36
        }
      ]
    },
    {
      "cell_type": "code",
      "source": [
        "embed_weights = model_1.get_layer(\"embedding_1\").get_weights()[0]\n",
        "print(embed_weights.shape)"
      ],
      "metadata": {
        "colab": {
          "base_uri": "https://localhost:8080/"
        },
        "id": "9-9CVfGJPIUw",
        "outputId": "4db0d1b3-9c3d-4948-9eaa-d8c3048338d1"
      },
      "execution_count": null,
      "outputs": [
        {
          "output_type": "stream",
          "name": "stdout",
          "text": [
            "(10000, 128)\n"
          ]
        }
      ]
    },
    {
      "cell_type": "code",
      "source": [
        "# # View tensorboard logs of transfer learning modelling experiments (should be 4 models)\n",
        "# # Upload TensorBoard dev records\n",
        "# !tensorboard dev upload --logdir ./model_logs \\\n",
        "#   --name \"First deep model on text data\" \\\n",
        "#   --description \"Trying a dense model with an embedding layer\" \\\n",
        "#   --one_shot # exits the uploader when upload has finished"
      ],
      "metadata": {
        "id": "vA35YUpBPJxX"
      },
      "execution_count": null,
      "outputs": []
    },
    {
      "cell_type": "code",
      "source": [
        "# View the TensorBoard.dev experiment here: https://tensorboard.dev/experiment/gNmaAlupRF6pRSyGgN9Pxg/"
      ],
      "metadata": {
        "id": "3LpGwf0gQ4Fh"
      },
      "execution_count": null,
      "outputs": []
    },
    {
      "cell_type": "code",
      "source": [
        "# Make predictions (in the form of probabilities since using sigmoid activation function)\n",
        "model_1_pred_probs = model_1.predict(val_sentences)\n",
        "model_1_pred_probs[:10] # Get first 10 probabilities"
      ],
      "metadata": {
        "colab": {
          "base_uri": "https://localhost:8080/"
        },
        "id": "y-VXlzyxQ_2p",
        "outputId": "da75dedf-5d77-497b-a4ca-0997756edaae"
      },
      "execution_count": null,
      "outputs": [
        {
          "output_type": "stream",
          "name": "stdout",
          "text": [
            "24/24 [==============================] - 0s 2ms/step\n"
          ]
        },
        {
          "output_type": "execute_result",
          "data": {
            "text/plain": [
              "array([[0.40985224],\n",
              "       [0.74843174],\n",
              "       [0.9977849 ],\n",
              "       [0.10875904],\n",
              "       [0.10331105],\n",
              "       [0.93593925],\n",
              "       [0.9134329 ],\n",
              "       [0.99287534],\n",
              "       [0.96853954],\n",
              "       [0.2637537 ]], dtype=float32)"
            ]
          },
          "metadata": {},
          "execution_count": 41
        }
      ]
    },
    {
      "cell_type": "markdown",
      "source": [
        "To convert back to prediction classes, use tf.round(). Prediction probabilities below 0.5 will be rounded to 0 and above 0.5 will be rounded to 1"
      ],
      "metadata": {
        "id": "V4gwaISdROKA"
      }
    },
    {
      "cell_type": "code",
      "source": [
        "# Turn prediction probabilities into single-dimension tensor of floats\n",
        "model_1_preds = tf.squeeze(tf.round(model_1_pred_probs)) # squeeze removes single dimensions\n",
        "model_1_preds[:20]"
      ],
      "metadata": {
        "colab": {
          "base_uri": "https://localhost:8080/"
        },
        "id": "5Xj-I9jeRh8G",
        "outputId": "3fcf66ff-abf6-4d7b-edf2-67030e068388"
      },
      "execution_count": null,
      "outputs": [
        {
          "output_type": "execute_result",
          "data": {
            "text/plain": [
              "<tf.Tensor: shape=(20,), dtype=float32, numpy=\n",
              "array([0., 1., 1., 0., 0., 1., 1., 1., 1., 0., 0., 1., 0., 0., 0., 0., 0.,\n",
              "       0., 0., 1.], dtype=float32)>"
            ]
          },
          "metadata": {},
          "execution_count": 42
        }
      ]
    },
    {
      "cell_type": "code",
      "source": [
        "# Use calculate_results() function to compare to ground truths\n",
        "model_1_results = calculate_results(y_true=val_labels,\n",
        "                                    y_pred=model_1_preds)\n",
        "\n",
        "model_1_results"
      ],
      "metadata": {
        "colab": {
          "base_uri": "https://localhost:8080/"
        },
        "id": "kQKxklKPRvg9",
        "outputId": "78de7b1d-563a-44f2-efdb-c882dc28a542"
      },
      "execution_count": null,
      "outputs": [
        {
          "output_type": "execute_result",
          "data": {
            "text/plain": [
              "{'accuracy': 78.60892388451444,\n",
              " 'precision': 0.7903277546022673,\n",
              " 'recall': 0.7860892388451444,\n",
              " 'f1': 0.7832971347503846}"
            ]
          },
          "metadata": {},
          "execution_count": 43
        }
      ]
    },
    {
      "cell_type": "markdown",
      "source": [
        "Compare first deep model (model_1) with baseline model (model_0)\n"
      ],
      "metadata": {
        "id": "fBbbtsyQSEs8"
      }
    },
    {
      "cell_type": "code",
      "source": [
        "# Is simple Keras model better than baseline model?\n",
        "\n",
        "import numpy as np\n",
        "\n",
        "np.array(list(model_1_results.values())) > np.array(list(baseline_results.values()))\n"
      ],
      "metadata": {
        "colab": {
          "base_uri": "https://localhost:8080/"
        },
        "id": "bSc1_Zg0Sb6U",
        "outputId": "71e03fed-2d5a-402a-e661-eee4311e8fe2"
      },
      "execution_count": null,
      "outputs": [
        {
          "output_type": "execute_result",
          "data": {
            "text/plain": [
              "array([False, False, False, False])"
            ]
          },
          "metadata": {},
          "execution_count": 44
        }
      ]
    },
    {
      "cell_type": "code",
      "source": [
        "# Create a helper function to compare our baseline results to new model results\n",
        "def compare_baseline_to_new_results(baseline_results, new_model_results):\n",
        "  for key, value in baseline_results.items():\n",
        "    print(f\"Baseline {key}: {value:.2f}, New {key}: {new_model_results[key]:.2f}, Difference: {new_model_results[key]-value:.2f}\")"
      ],
      "metadata": {
        "id": "3u02Ycx6Srdb"
      },
      "execution_count": null,
      "outputs": []
    },
    {
      "cell_type": "code",
      "source": [
        "# Compare simple Keras model (model_1) with baseline (model_0)\n",
        "compare_baseline_to_new_results(baseline_results=baseline_results, \n",
        "                                new_model_results=model_1_results)"
      ],
      "metadata": {
        "colab": {
          "base_uri": "https://localhost:8080/"
        },
        "id": "bivEisQzS0qS",
        "outputId": "87e1a24e-4efc-43d3-873c-faa82fbe6a3c"
      },
      "execution_count": null,
      "outputs": [
        {
          "output_type": "stream",
          "name": "stdout",
          "text": [
            "Baseline accuracy: 79.27, New accuracy: 78.61, Difference: -0.66\n",
            "Baseline precision: 0.81, New precision: 0.79, Difference: -0.02\n",
            "Baseline recall: 0.79, New recall: 0.79, Difference: -0.01\n",
            "Baseline f1: 0.79, New f1: 0.78, Difference: -0.00\n"
          ]
        }
      ]
    },
    {
      "cell_type": "markdown",
      "source": [
        "# Visualizing learned embeddings\n"
      ],
      "metadata": {
        "id": "qYIuhkbAS9CZ"
      }
    },
    {
      "cell_type": "markdown",
      "source": [
        "First model (model_1) contained an embedding layer (embedding) which learned a way of representing words as feature vectors by passing over the training data."
      ],
      "metadata": {
        "id": "rmneeMcCTLWZ"
      }
    },
    {
      "cell_type": "code",
      "source": [
        "# Get the vocabulary from the text vectorization layer\n",
        "words_in_vocab = text_vectorizer.get_vocabulary()\n",
        "len(words_in_vocab), words_in_vocab[:10]"
      ],
      "metadata": {
        "colab": {
          "base_uri": "https://localhost:8080/"
        },
        "id": "h4XqHsfKTYKn",
        "outputId": "39985cab-5884-477c-dd94-45bccd512170"
      },
      "execution_count": null,
      "outputs": [
        {
          "output_type": "execute_result",
          "data": {
            "text/plain": [
              "(10000, ['', '[UNK]', 'the', 'a', 'in', 'to', 'of', 'and', 'i', 'is'])"
            ]
          },
          "metadata": {},
          "execution_count": 47
        }
      ]
    },
    {
      "cell_type": "code",
      "source": [
        "model_1.summary()"
      ],
      "metadata": {
        "colab": {
          "base_uri": "https://localhost:8080/"
        },
        "id": "nmHyVnl3TZnP",
        "outputId": "519344f9-914e-4f11-aefe-2b4d705065e7"
      },
      "execution_count": null,
      "outputs": [
        {
          "output_type": "stream",
          "name": "stdout",
          "text": [
            "Model: \"model_1_dense\"\n",
            "_________________________________________________________________\n",
            " Layer (type)                Output Shape              Param #   \n",
            "=================================================================\n",
            " input_1 (InputLayer)        [(None, 1)]               0         \n",
            "                                                                 \n",
            " text_vectorization_1 (TextV  (None, 15)               0         \n",
            " ectorization)                                                   \n",
            "                                                                 \n",
            " embedding_1 (Embedding)     (None, 15, 128)           1280000   \n",
            "                                                                 \n",
            " global_average_pooling1d (G  (None, 128)              0         \n",
            " lobalAveragePooling1D)                                          \n",
            "                                                                 \n",
            " dense (Dense)               (None, 1)                 129       \n",
            "                                                                 \n",
            "=================================================================\n",
            "Total params: 1,280,129\n",
            "Trainable params: 1,280,129\n",
            "Non-trainable params: 0\n",
            "_________________________________________________________________\n"
          ]
        }
      ]
    },
    {
      "cell_type": "code",
      "source": [
        "# Get the weight matrix of embedding layer \n",
        "# (these are the numerical patterns between the text in the training dataset the model has learned)\n",
        "embed_weights = model_1.get_layer(\"embedding_1\").get_weights()[0]\n",
        "\n",
        "print(embed_weights.shape) # same size as vocab size and embedding_dim (each word is a embedding_dim size vector)"
      ],
      "metadata": {
        "colab": {
          "base_uri": "https://localhost:8080/"
        },
        "id": "4RKafJxKTgmn",
        "outputId": "3f53f83d-fdc9-4fbb-df51-98b44b82a500"
      },
      "execution_count": null,
      "outputs": [
        {
          "output_type": "stream",
          "name": "stdout",
          "text": [
            "(10000, 128)\n"
          ]
        }
      ]
    },
    {
      "cell_type": "markdown",
      "source": [
        "Use the Embedding Projector tool to visualize our embedding\n",
        "\n",
        "To use the Embedding Projector tool, we need two files:\n",
        "\n",
        "- The embedding vectors (same as embedding weights).\n",
        "- The meta data of the embedding vectors (the words they represent - our vocabulary).\n",
        "\n",
        "Right now, we've got of these files as Python objects. To download them to file, we're going to use the code example available on the TensorFlow word embeddings tutorial page."
      ],
      "metadata": {
        "id": "28M5AFopTykm"
      }
    },
    {
      "cell_type": "code",
      "source": [
        "# # Code below is adapted from: https://www.tensorflow.org/tutorials/text/word_embeddings#retrieve_the_trained_word_embeddings_and_save_them_to_disk\n",
        "# import io\n",
        "\n",
        "# # Create output writers\n",
        "# out_v = io.open(\"embedding_vectors.tsv\", \"w\", encoding=\"utf-8\")\n",
        "# out_m = io.open(\"embedding_metadata.tsv\", \"w\", encoding=\"utf-8\")\n",
        "\n",
        "# # Write embedding vectors and words to file\n",
        "# for num, word in enumerate(words_in_vocab):\n",
        "#   if num == 0: \n",
        "#      continue # skip padding token\n",
        "#   vec = embed_weights[num]\n",
        "#   out_m.write(word + \"\\n\") # write words to file\n",
        "#   out_v.write(\"\\t\".join([str(x) for x in vec]) + \"\\n\") # write corresponding word vector to file\n",
        "# out_v.close()\n",
        "# out_m.close()\n",
        "\n",
        "# # Download files locally to upload to Embedding Projector\n",
        "# try:\n",
        "#   from google.colab import files\n",
        "# except ImportError:\n",
        "#   pass\n",
        "# else:\n",
        "#   files.download(\"embedding_vectors.tsv\")\n",
        "#   files.download(\"embedding_metadata.tsv\")"
      ],
      "metadata": {
        "id": "sR9iIKOqT36e"
      },
      "execution_count": null,
      "outputs": []
    },
    {
      "cell_type": "markdown",
      "source": [
        "\n",
        "Once you've downloaded the embedding_vectors.tsv and embedding_metadata.tsv by running the above function, you can visualize them using Embedding Vector tool:\n",
        "\n",
        "1. Go to http://projector.tensorflow.org/\n",
        "2. Click on \"Load data\"\n",
        "3. Upload the two files you downloaded (embedding_vectors.tsv and embedding_metadata.tsv)\n",
        "4. Explore\n",
        "5. Optional: You can share the data you've created by clicking \"Publish\""
      ],
      "metadata": {
        "id": "cpB6ENZvUIzV"
      }
    },
    {
      "cell_type": "markdown",
      "source": [
        "# Recurrent Neural Networks (RNN's)"
      ],
      "metadata": {
        "id": "yh6nPoxfU16L"
      }
    },
    {
      "cell_type": "markdown",
      "source": [
        "Premise of an RNN: use information from past to help you with future. Take input (x) and compute an output (y) based on all previous inputs.\n",
        "\n",
        "When an RNN looks at a sequence of text (already in numerical form), the patterns it learns are continually updated based on the order of the sequence.\n",
        "\n",
        "Take two sentences:\n",
        "- Massive earthquake last week, no?\n",
        "- No massive earthquake last week.\n",
        "\n",
        "Both contain exactly the same words but have different meaning. The order of the words determines the meaning.\n",
        "\n",
        "RNN can be used for number of sequence-based problems:\n",
        "- **One to one**: one input, one output, (e.g. classification)\n",
        "- **One to many**: one input, many ouput, (e.g. image captioning - image input, text as output)\n",
        "- **Many to one**: many inputs, one output, (e.g. text classification - classfying Tweet as real diaster or not real diaster)\n",
        "- **Many to many**: many inputs, many outputs, (e.g. machine translation - English to Spanish, Speech to Text)\n",
        "\n",
        "RNN Variants\n",
        "- Long short-term memory cells (LSTMs)\n",
        "- Gated Recurrent Units (GRUs)\n",
        "- Bidirectional RNN's (passes forward and backward along a sequence, left to right and right to left)"
      ],
      "metadata": {
        "id": "DYM7jRKXVChO"
      }
    },
    {
      "cell_type": "markdown",
      "source": [
        "# Model 2: Long Short-term Memory Cells (LSTM)"
      ],
      "metadata": {
        "id": "cxuEBYK_FoxF"
      }
    },
    {
      "cell_type": "markdown",
      "source": [
        "Similar structure to model_1:\n",
        "\n",
        "Input (text) -> Tokenize -> Embedding -> Layers (+ LSTM layer) -> Output (label probability)\n",
        "\n",
        "**Note**: Will be creating another *embedding layer* for this model to prevent reusing trained embeddings (prevent data leakage between models). Can reuse the *text_vectorizer layer* since it doesn't get updated during training."
      ],
      "metadata": {
        "id": "pPEtoJF8Fwin"
      }
    },
    {
      "cell_type": "code",
      "source": [
        "# Set random seed and create embedding layer \n",
        "\n",
        "from tensorflow.keras import layers\n",
        "\n",
        "tf.random.set_seed(42)\n",
        "model_2_embedding = layers.Embedding(input_dim=max_vocab_length,\n",
        "                                     output_dim=128,\n",
        "                                     embeddings_initializer='uniform',\n",
        "                                     input_length=max_length,\n",
        "                                     name='embedding_2')\n",
        "\n",
        "# Create LSTM model\n",
        "inputs = layers.Input(shape=(1,), dtype='string')\n",
        "x = text_vectorizer(inputs)\n",
        "x = model_2_embedding(x)\n",
        "print(x.shape)\n",
        "\n",
        "# x = layers.LSTM(64, return_sequences=True)(x) # return vector for each word in the Tweet (you can stack RNN cells as long as return_sequences=True)\n",
        "x = layers.LSTM(64)(x) # return vector for whole sequence\n",
        "print(x.shape)\n",
        "\n",
        "# x = layers.Dense(64, activation=\"relu\")(x) # optional dense layer on top of output of LSTM cell\n",
        "outputs = layers.Dense(1, activation=\"sigmoid\")(x)\n",
        "model_2 = tf.keras.Model(inputs, outputs, name=\"model_2_LSTM\")\n"
      ],
      "metadata": {
        "colab": {
          "base_uri": "https://localhost:8080/"
        },
        "id": "QE5axvpPGs3a",
        "outputId": "5c01e30e-0dbe-42a0-c0b7-82f02ab2b366"
      },
      "execution_count": null,
      "outputs": [
        {
          "output_type": "stream",
          "name": "stdout",
          "text": [
            "(None, 15, 128)\n",
            "(None, 64)\n"
          ]
        }
      ]
    },
    {
      "cell_type": "code",
      "source": [
        "# Compile model\n",
        "model_2.compile(loss=\"binary_crossentropy\",\n",
        "                optimizer=tf.keras.optimizers.Adam(),\n",
        "                metrics=[\"accuracy\"])"
      ],
      "metadata": {
        "id": "o7Hog8ZBJhcN"
      },
      "execution_count": null,
      "outputs": []
    },
    {
      "cell_type": "code",
      "source": [
        "# Get summary\n",
        "model_2.summary()"
      ],
      "metadata": {
        "colab": {
          "base_uri": "https://localhost:8080/"
        },
        "id": "hg-s68wBKBYx",
        "outputId": "e2959a83-ea05-4240-90b7-645213f6ced3"
      },
      "execution_count": null,
      "outputs": [
        {
          "output_type": "stream",
          "name": "stdout",
          "text": [
            "Model: \"model_2_LSTM\"\n",
            "_________________________________________________________________\n",
            " Layer (type)                Output Shape              Param #   \n",
            "=================================================================\n",
            " input_2 (InputLayer)        [(None, 1)]               0         \n",
            "                                                                 \n",
            " text_vectorization_1 (TextV  (None, 15)               0         \n",
            " ectorization)                                                   \n",
            "                                                                 \n",
            " embedding_2 (Embedding)     (None, 15, 128)           1280000   \n",
            "                                                                 \n",
            " lstm (LSTM)                 (None, 64)                49408     \n",
            "                                                                 \n",
            " dense_1 (Dense)             (None, 1)                 65        \n",
            "                                                                 \n",
            "=================================================================\n",
            "Total params: 1,329,473\n",
            "Trainable params: 1,329,473\n",
            "Non-trainable params: 0\n",
            "_________________________________________________________________\n"
          ]
        }
      ]
    },
    {
      "cell_type": "code",
      "source": [
        "# Fit model\n",
        "model_2_history = model_2.fit(train_sentences,\n",
        "                              train_labels,\n",
        "                              epochs=5,\n",
        "                              validation_data=(val_sentences, val_labels),\n",
        "                              callbacks=[create_tensorboard_callback(SAVE_DIR, \n",
        "                                                                     \"LSTM\")])"
      ],
      "metadata": {
        "colab": {
          "base_uri": "https://localhost:8080/"
        },
        "id": "Ain1ksGOKJ8b",
        "outputId": "6996b217-f7de-40dd-ea7a-93b93d03e0ff"
      },
      "execution_count": null,
      "outputs": [
        {
          "output_type": "stream",
          "name": "stdout",
          "text": [
            "Saving TensorBoard log files to: model_logs/LSTM/20230311-013228\n",
            "Epoch 1/5\n",
            "215/215 [==============================] - 12s 36ms/step - loss: 0.5089 - accuracy: 0.7447 - val_loss: 0.4560 - val_accuracy: 0.7743\n",
            "Epoch 2/5\n",
            "215/215 [==============================] - 3s 15ms/step - loss: 0.3167 - accuracy: 0.8713 - val_loss: 0.5124 - val_accuracy: 0.7822\n",
            "Epoch 3/5\n",
            "215/215 [==============================] - 4s 18ms/step - loss: 0.2188 - accuracy: 0.9165 - val_loss: 0.5862 - val_accuracy: 0.7690\n",
            "Epoch 4/5\n",
            "215/215 [==============================] - 3s 12ms/step - loss: 0.1525 - accuracy: 0.9460 - val_loss: 0.6300 - val_accuracy: 0.7769\n",
            "Epoch 5/5\n",
            "215/215 [==============================] - 2s 8ms/step - loss: 0.1057 - accuracy: 0.9603 - val_loss: 0.8910 - val_accuracy: 0.7533\n"
          ]
        }
      ]
    },
    {
      "cell_type": "code",
      "source": [
        "# Make predictions on the validation dataset\n",
        "model_2_pred_probs = model_2.predict(val_sentences)\n",
        "model_2_pred_probs.shape, model_2_pred_probs[:10] # view the first 10 predictions"
      ],
      "metadata": {
        "colab": {
          "base_uri": "https://localhost:8080/"
        },
        "id": "MxdlGq5lKmVA",
        "outputId": "b6a3aa4f-e9b8-45cb-8f29-3e757eb4b279"
      },
      "execution_count": null,
      "outputs": [
        {
          "output_type": "stream",
          "name": "stdout",
          "text": [
            "24/24 [==============================] - 0s 3ms/step\n"
          ]
        },
        {
          "output_type": "execute_result",
          "data": {
            "text/plain": [
              "((762, 1), array([[0.03209433],\n",
              "        [0.74889463],\n",
              "        [0.99920887],\n",
              "        [0.05804041],\n",
              "        [0.00405108],\n",
              "        [0.9995328 ],\n",
              "        [0.9371083 ],\n",
              "        [0.9997116 ],\n",
              "        [0.9994881 ],\n",
              "        [0.26522827]], dtype=float32))"
            ]
          },
          "metadata": {},
          "execution_count": 55
        }
      ]
    },
    {
      "cell_type": "markdown",
      "source": [
        "Turn prediction probabilities into prediction classes by rounding to the nearest integer "
      ],
      "metadata": {
        "id": "inRr0KAdVLxO"
      }
    },
    {
      "cell_type": "code",
      "source": [
        "# Round out predictions and reduce to 1-dimensional array\n",
        "model_2_preds = tf.squeeze(tf.round(model_2_pred_probs))\n",
        "model_2_preds[:10]"
      ],
      "metadata": {
        "colab": {
          "base_uri": "https://localhost:8080/"
        },
        "id": "KIf2Jlx_K8N5",
        "outputId": "bfb57f66-e597-4b70-c1ef-cb960f9c9295"
      },
      "execution_count": null,
      "outputs": [
        {
          "output_type": "execute_result",
          "data": {
            "text/plain": [
              "<tf.Tensor: shape=(10,), dtype=float32, numpy=array([0., 1., 1., 0., 0., 1., 1., 1., 1., 0.], dtype=float32)>"
            ]
          },
          "metadata": {},
          "execution_count": 56
        }
      ]
    },
    {
      "cell_type": "markdown",
      "source": [
        "Use calculate_results() function to evaluate LSTM model\n",
        "\n",
        "Use compare_baseline_to_new_results() function to compare it to baseline model"
      ],
      "metadata": {
        "id": "kWYrhoDvLRwv"
      }
    },
    {
      "cell_type": "code",
      "source": [
        "# Calculate LSTM model results\n",
        "model_2_results = calculate_results(y_true=val_labels,\n",
        "                                    y_pred=model_2_preds)\n",
        "\n",
        "model_2_results"
      ],
      "metadata": {
        "colab": {
          "base_uri": "https://localhost:8080/"
        },
        "id": "MhM3eBVDVj-i",
        "outputId": "8900eb99-5591-4426-9531-02dc3d35c989"
      },
      "execution_count": null,
      "outputs": [
        {
          "output_type": "execute_result",
          "data": {
            "text/plain": [
              "{'accuracy': 75.32808398950131,\n",
              " 'precision': 0.7532724967249331,\n",
              " 'recall': 0.7532808398950132,\n",
              " 'f1': 0.7519259238014133}"
            ]
          },
          "metadata": {},
          "execution_count": 57
        }
      ]
    },
    {
      "cell_type": "code",
      "source": [
        "# Compare model 2 to baseline\n",
        "compare_baseline_to_new_results(baseline_results, model_2_results)"
      ],
      "metadata": {
        "colab": {
          "base_uri": "https://localhost:8080/"
        },
        "id": "9GRrNp3uWDQF",
        "outputId": "2f168cb1-37d9-4859-8238-a5d0a302c6c4"
      },
      "execution_count": null,
      "outputs": [
        {
          "output_type": "stream",
          "name": "stdout",
          "text": [
            "Baseline accuracy: 79.27, New accuracy: 75.33, Difference: -3.94\n",
            "Baseline precision: 0.81, New precision: 0.75, Difference: -0.06\n",
            "Baseline recall: 0.79, New recall: 0.75, Difference: -0.04\n",
            "Baseline f1: 0.79, New f1: 0.75, Difference: -0.03\n"
          ]
        }
      ]
    },
    {
      "cell_type": "markdown",
      "source": [
        "# Model 3: Gated Recurrent Unit (GRU)"
      ],
      "metadata": {
        "id": "lwyXpAIFYlns"
      }
    },
    {
      "cell_type": "markdown",
      "source": [
        "GRU layer has similar features to that of LSTM layer but with less parameters\n",
        "\n",
        "Architecture similar to previous models:\n",
        "\n",
        "Input (text) -> Tokenize -> Embedding -> Layers (+GRU Layer) -> Output (label probability)"
      ],
      "metadata": {
        "id": "UfyPPAMjYtZb"
      }
    },
    {
      "cell_type": "code",
      "source": [
        "# Set random seed and create embedding layer\n",
        "from tensorflow.keras import layers\n",
        "\n",
        "tf.random.set_seed(42)\n",
        "\n",
        "model_3_embedding = layers.Embedding(input_dim=max_vocab_length,\n",
        "                                     output_dim=128,\n",
        "                                     embeddings_initializer='uniform',\n",
        "                                     input_length=max_length,\n",
        "                                     name='embedding_3')\n",
        "\n",
        "# Build an RNN using the GRU layer\n",
        "inputs = layers.Input(shape=(1,), dtype='string')\n",
        "x = text_vectorizer(inputs)\n",
        "x = model_3_embedding(x)\n",
        "\n",
        "# x = layers.GRU(64, return_sequences=True) # stacking recurrent cells requires return_sequences=True\n",
        "x = layers.GRU(64)(x) \n",
        "\n",
        "# x = layers.Dense(64, activation=\"relu\")(x) # optional dense layer after GRU cell\n",
        "outputs = layers.Dense(1, activation=\"sigmoid\")(x)\n",
        "model_3 = tf.keras.Model(inputs, outputs, name=\"model_3_GRU\")"
      ],
      "metadata": {
        "id": "gLYhS_QsZEfg"
      },
      "execution_count": null,
      "outputs": []
    },
    {
      "cell_type": "code",
      "source": [
        "# Compile GRU model\n",
        "model_3.compile(loss=\"binary_crossentropy\",\n",
        "                optimizer=tf.keras.optimizers.Adam(),\n",
        "                metrics=[\"accuracy\"])"
      ],
      "metadata": {
        "id": "ydSgsnYEcllJ"
      },
      "execution_count": null,
      "outputs": []
    },
    {
      "cell_type": "code",
      "source": [
        "# Get a summary of the GRU model\n",
        "model_3.summary()"
      ],
      "metadata": {
        "colab": {
          "base_uri": "https://localhost:8080/"
        },
        "id": "byQ0h-4YcxW4",
        "outputId": "62b12da5-5113-4801-f59e-a5da2d28dd4a"
      },
      "execution_count": null,
      "outputs": [
        {
          "output_type": "stream",
          "name": "stdout",
          "text": [
            "Model: \"model_3_GRU\"\n",
            "_________________________________________________________________\n",
            " Layer (type)                Output Shape              Param #   \n",
            "=================================================================\n",
            " input_3 (InputLayer)        [(None, 1)]               0         \n",
            "                                                                 \n",
            " text_vectorization_1 (TextV  (None, 15)               0         \n",
            " ectorization)                                                   \n",
            "                                                                 \n",
            " embedding_3 (Embedding)     (None, 15, 128)           1280000   \n",
            "                                                                 \n",
            " gru (GRU)                   (None, 64)                37248     \n",
            "                                                                 \n",
            " dense_2 (Dense)             (None, 1)                 65        \n",
            "                                                                 \n",
            "=================================================================\n",
            "Total params: 1,317,313\n",
            "Trainable params: 1,317,313\n",
            "Non-trainable params: 0\n",
            "_________________________________________________________________\n"
          ]
        }
      ]
    },
    {
      "cell_type": "code",
      "source": [
        "# Fit model\n",
        "model_3_history = model_3.fit(train_sentences,\n",
        "                              train_labels,\n",
        "                              epochs=5,\n",
        "                              validation_data=(val_sentences, val_labels),\n",
        "                              callbacks=[create_tensorboard_callback(SAVE_DIR, \"GRU\")])"
      ],
      "metadata": {
        "colab": {
          "base_uri": "https://localhost:8080/"
        },
        "id": "YVJe1vSqcyp4",
        "outputId": "9939e99b-e40c-47be-986a-569cf076f6ac"
      },
      "execution_count": null,
      "outputs": [
        {
          "output_type": "stream",
          "name": "stdout",
          "text": [
            "Saving TensorBoard log files to: model_logs/GRU/20230311-013312\n",
            "Epoch 1/5\n",
            "215/215 [==============================] - 10s 37ms/step - loss: 0.5204 - accuracy: 0.7365 - val_loss: 0.4541 - val_accuracy: 0.7743\n",
            "Epoch 2/5\n",
            "215/215 [==============================] - 2s 9ms/step - loss: 0.3168 - accuracy: 0.8742 - val_loss: 0.4964 - val_accuracy: 0.7795\n",
            "Epoch 3/5\n",
            "215/215 [==============================] - 2s 9ms/step - loss: 0.2189 - accuracy: 0.9183 - val_loss: 0.5665 - val_accuracy: 0.7717\n",
            "Epoch 4/5\n",
            "215/215 [==============================] - 2s 8ms/step - loss: 0.1616 - accuracy: 0.9422 - val_loss: 0.6116 - val_accuracy: 0.7808\n",
            "Epoch 5/5\n",
            "215/215 [==============================] - 2s 8ms/step - loss: 0.1239 - accuracy: 0.9566 - val_loss: 0.6138 - val_accuracy: 0.7703\n"
          ]
        }
      ]
    },
    {
      "cell_type": "code",
      "source": [
        "# Make predictions on the validation data\n",
        "model_3_pred_probs = model_3.predict(val_sentences)\n",
        "model_3_pred_probs.shape, model_3_pred_probs[:10]"
      ],
      "metadata": {
        "colab": {
          "base_uri": "https://localhost:8080/"
        },
        "id": "p-Cr3oQoc2P4",
        "outputId": "d2a1d7dd-e9cd-4c09-f8b7-eeb6f4cc3137"
      },
      "execution_count": null,
      "outputs": [
        {
          "output_type": "stream",
          "name": "stdout",
          "text": [
            "24/24 [==============================] - 0s 3ms/step\n"
          ]
        },
        {
          "output_type": "execute_result",
          "data": {
            "text/plain": [
              "((762, 1), array([[0.26678908],\n",
              "        [0.84260666],\n",
              "        [0.99702245],\n",
              "        [0.12396857],\n",
              "        [0.01037136],\n",
              "        [0.992257  ],\n",
              "        [0.6497923 ],\n",
              "        [0.99799216],\n",
              "        [0.9976672 ],\n",
              "        [0.5193843 ]], dtype=float32))"
            ]
          },
          "metadata": {},
          "execution_count": 63
        }
      ]
    },
    {
      "cell_type": "code",
      "source": [
        "# Convert prediction probabilities to prediction classes\n",
        "model_3_preds = tf.squeeze(tf.round(model_3_pred_probs))\n",
        "model_3_preds[:10]"
      ],
      "metadata": {
        "colab": {
          "base_uri": "https://localhost:8080/"
        },
        "id": "R87kzB41c53w",
        "outputId": "a4991ab1-6c39-4cdb-a295-24402564d038"
      },
      "execution_count": null,
      "outputs": [
        {
          "output_type": "execute_result",
          "data": {
            "text/plain": [
              "<tf.Tensor: shape=(10,), dtype=float32, numpy=array([0., 1., 1., 0., 0., 1., 1., 1., 1., 1.], dtype=float32)>"
            ]
          },
          "metadata": {},
          "execution_count": 64
        }
      ]
    },
    {
      "cell_type": "code",
      "source": [
        "# Calcuate model_3 results\n",
        "model_3_results = calculate_results(y_true=val_labels, \n",
        "                                    y_pred=model_3_preds)\n",
        "\n",
        "model_3_results"
      ],
      "metadata": {
        "colab": {
          "base_uri": "https://localhost:8080/"
        },
        "id": "s1F4iVljc66H",
        "outputId": "9bcd60d8-2283-4795-cd68-6a869e2aea12"
      },
      "execution_count": null,
      "outputs": [
        {
          "output_type": "execute_result",
          "data": {
            "text/plain": [
              "{'accuracy': 77.03412073490814,\n",
              " 'precision': 0.7702878929185921,\n",
              " 'recall': 0.7703412073490814,\n",
              " 'f1': 0.769333028556703}"
            ]
          },
          "metadata": {},
          "execution_count": 65
        }
      ]
    },
    {
      "cell_type": "code",
      "source": [
        "# Compare to baseline\n",
        "compare_baseline_to_new_results(baseline_results, model_3_results)"
      ],
      "metadata": {
        "colab": {
          "base_uri": "https://localhost:8080/"
        },
        "id": "C2oMoguWc8ZY",
        "outputId": "fb696358-7229-4356-e596-eba3fa74970c"
      },
      "execution_count": null,
      "outputs": [
        {
          "output_type": "stream",
          "name": "stdout",
          "text": [
            "Baseline accuracy: 79.27, New accuracy: 77.03, Difference: -2.23\n",
            "Baseline precision: 0.81, New precision: 0.77, Difference: -0.04\n",
            "Baseline recall: 0.79, New recall: 0.77, Difference: -0.02\n",
            "Baseline f1: 0.79, New f1: 0.77, Difference: -0.02\n"
          ]
        }
      ]
    },
    {
      "cell_type": "markdown",
      "source": [
        "# Model 4: Bidirectional RNN Model"
      ],
      "metadata": {
        "id": "VmPmsxnLc_N4"
      }
    },
    {
      "cell_type": "markdown",
      "source": [
        "A standard RNN will process a sequence from left to right, where as a bidirectional RNN will process the sequence from left to right and then again from right to left.\n",
        "\n",
        "For example, rereading a sentence to get better understanding of text.\n",
        "\n",
        "Improvement trade-off is longer training times and increased model parameters (since model goes left to right and right to left, the number of trainable parameters doubles)."
      ],
      "metadata": {
        "id": "kTgquNCAdFEI"
      }
    },
    {
      "cell_type": "code",
      "source": [
        "# Set random seed and create embedding layer\n",
        "from tensorflow.keras import layers\n",
        "\n",
        "tf.random.set_seed(42)\n",
        "\n",
        "model_4_embedding = layers.Embedding(input_dim=max_vocab_length,\n",
        "                                     output_dim=128,\n",
        "                                     embeddings_initializer=\"uniform\",\n",
        "                                     input_length=max_length,\n",
        "                                     name=\"embedding_4\")\n",
        "\n",
        "# Build a Bidirectional RNN in TensorFlow\n",
        "inputs = layers.Input(shape=(1,), dtype=\"string\")\n",
        "x = text_vectorizer(inputs)\n",
        "x = model_4_embedding(x)\n",
        "\n",
        "# x = layers.Bidirectional(layers.LSTM(64, return_sequences=True))(x) # stacking RNN layers requires return_sequences=True\n",
        "x = layers.Bidirectional(layers.LSTM(64))(x) # bidirectional goes both ways so has double the parameters of a regular LSTM layer\n",
        "\n",
        "outputs = layers.Dense(1, activation=\"sigmoid\")(x)\n",
        "model_4 = tf.keras.Model(inputs, outputs, name=\"model_4_Bidirectional\")"
      ],
      "metadata": {
        "id": "dbt-4FKqdKKH"
      },
      "execution_count": null,
      "outputs": []
    },
    {
      "cell_type": "code",
      "source": [
        "# Compile\n",
        "model_4.compile(loss=\"binary_crossentropy\",\n",
        "                optimizer=tf.keras.optimizers.Adam(),\n",
        "                metrics=[\"accuracy\"])"
      ],
      "metadata": {
        "id": "SD5XkLZdd_aN"
      },
      "execution_count": null,
      "outputs": []
    },
    {
      "cell_type": "code",
      "source": [
        "# Get a summary of our bidirectional model\n",
        "model_4.summary()"
      ],
      "metadata": {
        "colab": {
          "base_uri": "https://localhost:8080/"
        },
        "id": "AgL6sm4seKHs",
        "outputId": "be9270a3-40ff-4e1b-b050-ae1eb28487df"
      },
      "execution_count": null,
      "outputs": [
        {
          "output_type": "stream",
          "name": "stdout",
          "text": [
            "Model: \"model_4_Bidirectional\"\n",
            "_________________________________________________________________\n",
            " Layer (type)                Output Shape              Param #   \n",
            "=================================================================\n",
            " input_4 (InputLayer)        [(None, 1)]               0         \n",
            "                                                                 \n",
            " text_vectorization_1 (TextV  (None, 15)               0         \n",
            " ectorization)                                                   \n",
            "                                                                 \n",
            " embedding_4 (Embedding)     (None, 15, 128)           1280000   \n",
            "                                                                 \n",
            " bidirectional (Bidirectiona  (None, 128)              98816     \n",
            " l)                                                              \n",
            "                                                                 \n",
            " dense_3 (Dense)             (None, 1)                 129       \n",
            "                                                                 \n",
            "=================================================================\n",
            "Total params: 1,378,945\n",
            "Trainable params: 1,378,945\n",
            "Non-trainable params: 0\n",
            "_________________________________________________________________\n"
          ]
        }
      ]
    },
    {
      "cell_type": "code",
      "source": [
        "# Fit the model (takes longer because of the bidirectional layers)\n",
        "model_4_history = model_4.fit(train_sentences,\n",
        "                              train_labels,\n",
        "                              epochs=5,\n",
        "                              validation_data=(val_sentences, val_labels),\n",
        "                              callbacks=[create_tensorboard_callback(SAVE_DIR, \"bidirectional_RNN\")])"
      ],
      "metadata": {
        "colab": {
          "base_uri": "https://localhost:8080/"
        },
        "id": "OfTyFwAheLVV",
        "outputId": "76990f31-e831-4793-ce98-6b724fa79d4c"
      },
      "execution_count": null,
      "outputs": [
        {
          "output_type": "stream",
          "name": "stdout",
          "text": [
            "Saving TensorBoard log files to: model_logs/bidirectional_RNN/20230311-013335\n",
            "Epoch 1/5\n",
            "215/215 [==============================] - 13s 40ms/step - loss: 0.5134 - accuracy: 0.7447 - val_loss: 0.4590 - val_accuracy: 0.7769\n",
            "Epoch 2/5\n",
            "215/215 [==============================] - 2s 11ms/step - loss: 0.3158 - accuracy: 0.8717 - val_loss: 0.5165 - val_accuracy: 0.7756\n",
            "Epoch 3/5\n",
            "215/215 [==============================] - 2s 11ms/step - loss: 0.2133 - accuracy: 0.9184 - val_loss: 0.5664 - val_accuracy: 0.7769\n",
            "Epoch 4/5\n",
            "215/215 [==============================] - 2s 10ms/step - loss: 0.1482 - accuracy: 0.9495 - val_loss: 0.6551 - val_accuracy: 0.7756\n",
            "Epoch 5/5\n",
            "215/215 [==============================] - 3s 14ms/step - loss: 0.1051 - accuracy: 0.9642 - val_loss: 0.6805 - val_accuracy: 0.7677\n"
          ]
        }
      ]
    },
    {
      "cell_type": "code",
      "source": [
        "# Make predictions with bidirectional RNN on the validation data\n",
        "model_4_pred_probs = model_4.predict(val_sentences)\n",
        "model_4_pred_probs[:10]"
      ],
      "metadata": {
        "colab": {
          "base_uri": "https://localhost:8080/"
        },
        "id": "5NfGI5lJeQ6M",
        "outputId": "a8ee7260-2759-4965-98f3-90a5baa50141"
      },
      "execution_count": null,
      "outputs": [
        {
          "output_type": "stream",
          "name": "stdout",
          "text": [
            "24/24 [==============================] - 1s 3ms/step\n"
          ]
        },
        {
          "output_type": "execute_result",
          "data": {
            "text/plain": [
              "array([[0.03139375],\n",
              "       [0.8642959 ],\n",
              "       [0.99840623],\n",
              "       [0.20452482],\n",
              "       [0.00421727],\n",
              "       [0.992228  ],\n",
              "       [0.730115  ],\n",
              "       [0.9994753 ],\n",
              "       [0.99945563],\n",
              "       [0.2876302 ]], dtype=float32)"
            ]
          },
          "metadata": {},
          "execution_count": 71
        }
      ]
    },
    {
      "cell_type": "code",
      "source": [
        "# Convert prediction probabilities to labels\n",
        "model_4_preds = tf.squeeze(tf.round(model_4_pred_probs))\n",
        "model_4_preds[:10]"
      ],
      "metadata": {
        "colab": {
          "base_uri": "https://localhost:8080/"
        },
        "id": "FnSjjrSMeTY0",
        "outputId": "ea7bd8af-f74e-4d6a-f7c8-7827c97d8bc5"
      },
      "execution_count": null,
      "outputs": [
        {
          "output_type": "execute_result",
          "data": {
            "text/plain": [
              "<tf.Tensor: shape=(10,), dtype=float32, numpy=array([0., 1., 1., 0., 0., 1., 1., 1., 1., 0.], dtype=float32)>"
            ]
          },
          "metadata": {},
          "execution_count": 72
        }
      ]
    },
    {
      "cell_type": "code",
      "source": [
        "# Calculate bidirectional RNN model results\n",
        "model_4_results = calculate_results(val_labels, model_4_preds)\n",
        "model_4_results"
      ],
      "metadata": {
        "colab": {
          "base_uri": "https://localhost:8080/"
        },
        "id": "8HEVGbL0eVOU",
        "outputId": "a9eef9ef-cf9e-43ed-9f14-3432972e2de4"
      },
      "execution_count": null,
      "outputs": [
        {
          "output_type": "execute_result",
          "data": {
            "text/plain": [
              "{'accuracy': 76.77165354330708,\n",
              " 'precision': 0.7673361969954392,\n",
              " 'recall': 0.7677165354330708,\n",
              " 'f1': 0.7673012257670172}"
            ]
          },
          "metadata": {},
          "execution_count": 73
        }
      ]
    },
    {
      "cell_type": "code",
      "source": [
        "# Check to see how the bidirectional model performs against the baseline\n",
        "compare_baseline_to_new_results(baseline_results, model_4_results)"
      ],
      "metadata": {
        "colab": {
          "base_uri": "https://localhost:8080/"
        },
        "id": "fHUpRVPpeWCU",
        "outputId": "691df1f4-f9c2-4691-bec6-42b28d41a235"
      },
      "execution_count": null,
      "outputs": [
        {
          "output_type": "stream",
          "name": "stdout",
          "text": [
            "Baseline accuracy: 79.27, New accuracy: 76.77, Difference: -2.49\n",
            "Baseline precision: 0.81, New precision: 0.77, Difference: -0.04\n",
            "Baseline recall: 0.79, New recall: 0.77, Difference: -0.02\n",
            "Baseline f1: 0.79, New f1: 0.77, Difference: -0.02\n"
          ]
        }
      ]
    },
    {
      "cell_type": "markdown",
      "source": [
        "# Convolutional Neural Networks for Text"
      ],
      "metadata": {
        "id": "Bh-D0G17eXBE"
      }
    },
    {
      "cell_type": "markdown",
      "source": [
        "Aside from images, CNNs can also be used for sequences. The difference is that images come in 2-dimensions whereas sequences are usually 1-dimension.\n",
        "\n",
        "Typical CNN archiecture:\n",
        "Inputs (text) -> Tokenization -> Embedding -> Layers -> Outputs (class probabilities)\n",
        "- Instead of LSTRM or GRU layer, use tensorflow.keras.layers.Conv1D() layer followed by tensorflow.keras.layers.GlobalMaxPool1D() layer.\n",
        "\n",
        "CNNs classify text through the following steps:\n",
        "1. 1-dimensional convolving filters used as ngram detectors\n",
        "2. Max-pooling over time extracts the relevant ngrams for making decision\n",
        "3. Rest of the network classifies the text based on this information"
      ],
      "metadata": {
        "id": "KnzJ_kfGecYE"
      }
    },
    {
      "cell_type": "markdown",
      "source": [
        "# Model 5: Conv1D"
      ],
      "metadata": {
        "id": "fjy32EBrfN0I"
      }
    },
    {
      "cell_type": "code",
      "source": [
        "# Set random seed and create embedding layer \n",
        "tf.random.set_seed(42)\n",
        "\n",
        "from tensorflow.keras import layers\n",
        "\n",
        "model_5_embedding = layers.Embedding(input_dim=max_vocab_length,\n",
        "                                     output_dim=128,\n",
        "                                     embeddings_initializer=\"uniform\",\n",
        "                                     input_length=max_length,\n",
        "                                     name=\"embedding_5\")\n",
        "\n",
        "\n",
        "# Create 1-dimensional convolutional layer to model sequences\n",
        "from tensorflow.keras import layers\n",
        "\n",
        "inputs = layers.Input(shape=(1,), dtype=\"string\")\n",
        "x = text_vectorizer(inputs)\n",
        "x = model_5_embedding(x)\n",
        "\n",
        "x = layers.Conv1D(filters=32, kernel_size=5, activation=\"relu\")(x)\n",
        "x = layers.GlobalMaxPool1D()(x)\n",
        "\n",
        "# x = layers.Dense(64, activation=\"relu\")(x) # optional dense layer\n",
        "outputs = layers.Dense(1, activation=\"sigmoid\")(x)\n",
        "model_5 = tf.keras.Model(inputs, outputs, name=\"model_5_Conv1D\")\n",
        "\n",
        "\n",
        "# Compile Conv1D model\n",
        "model_5.compile(loss=\"binary_crossentropy\",\n",
        "                optimizer=tf.keras.optimizers.Adam(),\n",
        "                metrics=[\"accuracy\"])\n",
        "\n",
        "\n",
        "# Get a summary of our 1D convolution model\n",
        "model_5.summary()"
      ],
      "metadata": {
        "colab": {
          "base_uri": "https://localhost:8080/"
        },
        "id": "OPuRGj88f2o_",
        "outputId": "b72496d9-4c6b-48cb-9b75-e0c3d8e5909d"
      },
      "execution_count": null,
      "outputs": [
        {
          "output_type": "stream",
          "name": "stdout",
          "text": [
            "Model: \"model_5_Conv1D\"\n",
            "_________________________________________________________________\n",
            " Layer (type)                Output Shape              Param #   \n",
            "=================================================================\n",
            " input_5 (InputLayer)        [(None, 1)]               0         \n",
            "                                                                 \n",
            " text_vectorization_1 (TextV  (None, 15)               0         \n",
            " ectorization)                                                   \n",
            "                                                                 \n",
            " embedding_5 (Embedding)     (None, 15, 128)           1280000   \n",
            "                                                                 \n",
            " conv1d (Conv1D)             (None, 11, 32)            20512     \n",
            "                                                                 \n",
            " global_max_pooling1d (Globa  (None, 32)               0         \n",
            " lMaxPooling1D)                                                  \n",
            "                                                                 \n",
            " dense_4 (Dense)             (None, 1)                 33        \n",
            "                                                                 \n",
            "=================================================================\n",
            "Total params: 1,300,545\n",
            "Trainable params: 1,300,545\n",
            "Non-trainable params: 0\n",
            "_________________________________________________________________\n"
          ]
        }
      ]
    },
    {
      "cell_type": "code",
      "source": [
        "# Fit the model\n",
        "model_5_history = model_5.fit(train_sentences,\n",
        "                              train_labels,\n",
        "                              epochs=5,\n",
        "                              validation_data=(val_sentences, val_labels),\n",
        "                              callbacks=[create_tensorboard_callback(SAVE_DIR, \n",
        "                                                                     \"Conv1D\")])"
      ],
      "metadata": {
        "colab": {
          "base_uri": "https://localhost:8080/"
        },
        "id": "k7CyCheDgURP",
        "outputId": "2cda635d-b18d-4527-a99a-7bfde05a6798"
      },
      "execution_count": null,
      "outputs": [
        {
          "output_type": "stream",
          "name": "stdout",
          "text": [
            "Saving TensorBoard log files to: model_logs/Conv1D/20230311-013400\n",
            "Epoch 1/5\n",
            "215/215 [==============================] - 13s 36ms/step - loss: 0.5639 - accuracy: 0.7208 - val_loss: 0.4738 - val_accuracy: 0.7782\n",
            "Epoch 2/5\n",
            "215/215 [==============================] - 2s 9ms/step - loss: 0.3427 - accuracy: 0.8594 - val_loss: 0.4760 - val_accuracy: 0.7822\n",
            "Epoch 3/5\n",
            "215/215 [==============================] - 2s 8ms/step - loss: 0.2154 - accuracy: 0.9221 - val_loss: 0.5355 - val_accuracy: 0.7769\n",
            "Epoch 4/5\n",
            "215/215 [==============================] - 1s 7ms/step - loss: 0.1393 - accuracy: 0.9545 - val_loss: 0.6213 - val_accuracy: 0.7795\n",
            "Epoch 5/5\n",
            "215/215 [==============================] - 2s 10ms/step - loss: 0.1000 - accuracy: 0.9675 - val_loss: 0.6681 - val_accuracy: 0.7887\n"
          ]
        }
      ]
    },
    {
      "cell_type": "code",
      "source": [
        "# Make predictions with model_5\n",
        "model_5_pred_probs = model_5.predict(val_sentences)\n",
        "model_5_pred_probs[:10]"
      ],
      "metadata": {
        "colab": {
          "base_uri": "https://localhost:8080/"
        },
        "id": "z4IflvwMgX1X",
        "outputId": "93aa5984-cb5a-49d1-c401-df7273d6b719"
      },
      "execution_count": null,
      "outputs": [
        {
          "output_type": "stream",
          "name": "stdout",
          "text": [
            "24/24 [==============================] - 0s 2ms/step\n"
          ]
        },
        {
          "output_type": "execute_result",
          "data": {
            "text/plain": [
              "array([[0.36238787],\n",
              "       [0.8050988 ],\n",
              "       [0.9999114 ],\n",
              "       [0.0275558 ],\n",
              "       [0.00485579],\n",
              "       [0.9936454 ],\n",
              "       [0.9630304 ],\n",
              "       [0.99828726],\n",
              "       [0.99880564],\n",
              "       [0.21304011]], dtype=float32)"
            ]
          },
          "metadata": {},
          "execution_count": 77
        }
      ]
    },
    {
      "cell_type": "code",
      "source": [
        "# Convert model_5 prediction probabilities to labels\n",
        "model_5_preds = tf.squeeze(tf.round(model_5_pred_probs))\n",
        "model_5_preds[:10]"
      ],
      "metadata": {
        "colab": {
          "base_uri": "https://localhost:8080/"
        },
        "id": "N9GdOs4ngZH2",
        "outputId": "6f9525da-1827-4aee-8cac-91fc2ff7d789"
      },
      "execution_count": null,
      "outputs": [
        {
          "output_type": "execute_result",
          "data": {
            "text/plain": [
              "<tf.Tensor: shape=(10,), dtype=float32, numpy=array([0., 1., 1., 0., 0., 1., 1., 1., 1., 0.], dtype=float32)>"
            ]
          },
          "metadata": {},
          "execution_count": 78
        }
      ]
    },
    {
      "cell_type": "code",
      "source": [
        "# Calculate model_5 evaluation metrics \n",
        "model_5_results = calculate_results(y_true=val_labels, \n",
        "                                    y_pred=model_5_preds)\n",
        "model_5_results"
      ],
      "metadata": {
        "colab": {
          "base_uri": "https://localhost:8080/"
        },
        "id": "ih3yps9Ggban",
        "outputId": "64c1912b-21ed-4d60-e268-6465d8cac8ea"
      },
      "execution_count": null,
      "outputs": [
        {
          "output_type": "execute_result",
          "data": {
            "text/plain": [
              "{'accuracy': 78.87139107611549,\n",
              " 'precision': 0.7953441303708004,\n",
              " 'recall': 0.7887139107611548,\n",
              " 'f1': 0.7852145092095362}"
            ]
          },
          "metadata": {},
          "execution_count": 79
        }
      ]
    },
    {
      "cell_type": "code",
      "source": [
        "# Compare model_5 results to baseline \n",
        "compare_baseline_to_new_results(baseline_results, model_5_results)"
      ],
      "metadata": {
        "colab": {
          "base_uri": "https://localhost:8080/"
        },
        "id": "CIG-uznFgc5m",
        "outputId": "5097cac3-268c-4c7f-f226-75c91aa9f627"
      },
      "execution_count": null,
      "outputs": [
        {
          "output_type": "stream",
          "name": "stdout",
          "text": [
            "Baseline accuracy: 79.27, New accuracy: 78.87, Difference: -0.39\n",
            "Baseline precision: 0.81, New precision: 0.80, Difference: -0.02\n",
            "Baseline recall: 0.79, New recall: 0.79, Difference: -0.00\n",
            "Baseline f1: 0.79, New f1: 0.79, Difference: -0.00\n"
          ]
        }
      ]
    },
    {
      "cell_type": "markdown",
      "source": [
        "# Using Pretrained Embeddings (transfer learning for NLP)"
      ],
      "metadata": {
        "id": "UnRDdyh_gd2e"
      }
    },
    {
      "cell_type": "markdown",
      "source": [
        "Instead of using our own embedding layer, we're going to replace it with pretrained embedding layer.\n",
        "\n",
        "Will be using the [Universal Sentence Encoder](https://aclanthology.org/D18-2029.pdf) from [TensorFlow Hub](https://tfhub.dev/google/universal-sentence-encoder/4)"
      ],
      "metadata": {
        "id": "cLLKwIJ8ghd_"
      }
    },
    {
      "cell_type": "markdown",
      "source": [
        "# Model 6: TensorFlow Hub Pretrained Sentence Encoder"
      ],
      "metadata": {
        "id": "9U1MuFnxHkGX"
      }
    },
    {
      "cell_type": "markdown",
      "source": [
        "Our previous embedding layer - word-level embedding, outputs 128 dimensional vector for each word\n",
        "\n",
        "Universal Sentence Encoder - whole-sentence embedding, outputs 512 dimensional vector for each sentence"
      ],
      "metadata": {
        "id": "Db4pVMMMHzcu"
      }
    },
    {
      "cell_type": "markdown",
      "source": [
        "Encoder/Decoder Model:\n",
        "\n",
        "Input (Sentence) --> Encoder (Embedding Layer) --> Decoder (Dense Layer) --> Outputs\n",
        "\n",
        "Encoder: converts raw data into numerical representation (feature vector)\n",
        "\n",
        "Decorder: converts numerical representation into desired output"
      ],
      "metadata": {
        "id": "a9ALqwvVRt2s"
      }
    },
    {
      "cell_type": "code",
      "source": [
        "# Example of pretrained embedding with universal sentence encoder\n",
        "import tensorflow_hub as hub\n",
        "\n",
        "embed = hub.load(\"https://tfhub.dev/google/universal-sentence-encoder/4\") # load Universal Sentence Encoder\n",
        "embed_samples = embed([sample_sentence,\n",
        "                      \"When you call the universal sentence encoder on a sentence, it turns it into numbers.\"])\n",
        "\n",
        "print(embed_samples[0][:50])"
      ],
      "metadata": {
        "colab": {
          "base_uri": "https://localhost:8080/"
        },
        "id": "tTgpylcJSeRg",
        "outputId": "0a9d0b06-d2f6-4865-caf5-2d91bd5bf3f6"
      },
      "execution_count": null,
      "outputs": [
        {
          "output_type": "stream",
          "name": "stdout",
          "text": [
            "tf.Tensor(\n",
            "[-0.01157028  0.0248591   0.02878048 -0.012715    0.03971538  0.0882776\n",
            "  0.02680984  0.05589836 -0.0106873  -0.00597291  0.00639323 -0.01819518\n",
            "  0.00030813  0.09105888  0.05874644 -0.03180628  0.01512474 -0.05162929\n",
            "  0.00991367 -0.06865347 -0.04209306  0.02678981  0.03011006  0.00321069\n",
            " -0.00337973 -0.04787357  0.0226672  -0.00985925 -0.04063613 -0.01292092\n",
            " -0.04666384  0.05630299 -0.03949255  0.00517686  0.02495829 -0.0701444\n",
            "  0.02871508  0.04947684 -0.00633979 -0.08960192  0.02807118 -0.00808364\n",
            " -0.01360602  0.0599865  -0.10361787 -0.05195374  0.00232954 -0.02332531\n",
            " -0.03758105  0.03327728], shape=(50,), dtype=float32)\n"
          ]
        }
      ]
    },
    {
      "cell_type": "code",
      "source": [
        "# Each sentence has been encoded into a 512 dimension vector\n",
        "embed_samples[0].shape"
      ],
      "metadata": {
        "colab": {
          "base_uri": "https://localhost:8080/"
        },
        "id": "2fRYONA9To6E",
        "outputId": "8dd78f0e-d7d5-46ea-93b8-44ad815f1fc0"
      },
      "execution_count": null,
      "outputs": [
        {
          "output_type": "execute_result",
          "data": {
            "text/plain": [
              "TensorShape([512])"
            ]
          },
          "metadata": {},
          "execution_count": 82
        }
      ]
    },
    {
      "cell_type": "code",
      "source": [
        "# Use this encoding layer in place of our text_vectorizer and embedding layer\n",
        "sentence_encoder_layer = hub.KerasLayer(\"https://tfhub.dev/google/universal-sentence-encoder/4\",\n",
        "                                        input_shape=[], # shape of inputs coming to our model \n",
        "                                        dtype=tf.string, # data type of inputs coming to the USE layer\n",
        "                                        trainable=False, # keep the pretrained weights (we'll create a feature extractor)\n",
        "                                        name=\"USE\") "
      ],
      "metadata": {
        "colab": {
          "base_uri": "https://localhost:8080/"
        },
        "id": "loIWDtD9Tpo-",
        "outputId": "03e11550-0027-4ebf-ec59-d5692a3a0c42"
      },
      "execution_count": null,
      "outputs": [
        {
          "output_type": "stream",
          "name": "stderr",
          "text": [
            "WARNING:tensorflow:Please fix your imports. Module tensorflow.python.training.tracking.data_structures has been moved to tensorflow.python.trackable.data_structures. The old module will be deleted in version 2.11.\n"
          ]
        }
      ]
    },
    {
      "cell_type": "code",
      "source": [
        "# Create model using Sequential API\n",
        "model_6 = tf.keras.Sequential([\n",
        "    sentence_encoder_layer, # Takes sentences as input and encode them into an embedding\n",
        "    layers.Dense(64, activation='relu'),\n",
        "    layers.Dense(1, activation='sigmoid')\n",
        "], name='model_6_USE')\n",
        "\n",
        "# Compile model\n",
        "model_6.compile(loss='binary_crossentropy',\n",
        "                optimizer=tf.keras.optimizers.Adam(),\n",
        "                metrics=['accuracy'])\n",
        "\n",
        "model_6.summary()"
      ],
      "metadata": {
        "colab": {
          "base_uri": "https://localhost:8080/"
        },
        "id": "V3fK_OY6T-Iq",
        "outputId": "d020ccfc-00f9-4db1-fa17-5612867e8df9"
      },
      "execution_count": null,
      "outputs": [
        {
          "output_type": "stream",
          "name": "stderr",
          "text": [
            "WARNING:tensorflow:From /usr/local/lib/python3.9/dist-packages/tensorflow/python/autograph/pyct/static_analysis/liveness.py:83: Analyzer.lamba_check (from tensorflow.python.autograph.pyct.static_analysis.liveness) is deprecated and will be removed after 2023-09-23.\n",
            "Instructions for updating:\n",
            "Lambda fuctions will be no more assumed to be used in the statement where they are used, or at least in the same block. https://github.com/tensorflow/tensorflow/issues/56089\n"
          ]
        },
        {
          "output_type": "stream",
          "name": "stdout",
          "text": [
            "Model: \"model_6_USE\"\n",
            "_________________________________________________________________\n",
            " Layer (type)                Output Shape              Param #   \n",
            "=================================================================\n",
            " USE (KerasLayer)            (None, 512)               256797824 \n",
            "                                                                 \n",
            " dense_5 (Dense)             (None, 64)                32832     \n",
            "                                                                 \n",
            " dense_6 (Dense)             (None, 1)                 65        \n",
            "                                                                 \n",
            "=================================================================\n",
            "Total params: 256,830,721\n",
            "Trainable params: 32,897\n",
            "Non-trainable params: 256,797,824\n",
            "_________________________________________________________________\n"
          ]
        }
      ]
    },
    {
      "cell_type": "code",
      "source": [
        "# Train a classifier on top of pretrained embeddings\n",
        "model_6_history = model_6.fit(train_sentences,\n",
        "                              train_labels,\n",
        "                              epochs=5,\n",
        "                              validation_data=(val_sentences, val_labels),\n",
        "                              callbacks=[create_tensorboard_callback(SAVE_DIR, \n",
        "                                                                     \"tf_hub_sentence_encoder\")])"
      ],
      "metadata": {
        "colab": {
          "base_uri": "https://localhost:8080/"
        },
        "id": "odrWCpNCUm_T",
        "outputId": "b5e50b4a-c390-43d4-8527-7c987556ef73"
      },
      "execution_count": null,
      "outputs": [
        {
          "output_type": "stream",
          "name": "stdout",
          "text": [
            "Saving TensorBoard log files to: model_logs/tf_hub_sentence_encoder/20230311-014045\n",
            "Epoch 1/5\n",
            "215/215 [==============================] - 7s 14ms/step - loss: 0.5029 - accuracy: 0.7837 - val_loss: 0.4486 - val_accuracy: 0.8031\n",
            "Epoch 2/5\n",
            "215/215 [==============================] - 3s 14ms/step - loss: 0.4140 - accuracy: 0.8148 - val_loss: 0.4364 - val_accuracy: 0.8110\n",
            "Epoch 3/5\n",
            "215/215 [==============================] - 3s 15ms/step - loss: 0.3993 - accuracy: 0.8215 - val_loss: 0.4317 - val_accuracy: 0.8136\n",
            "Epoch 4/5\n",
            "215/215 [==============================] - 2s 12ms/step - loss: 0.3918 - accuracy: 0.8269 - val_loss: 0.4272 - val_accuracy: 0.8136\n",
            "Epoch 5/5\n",
            "215/215 [==============================] - 3s 12ms/step - loss: 0.3853 - accuracy: 0.8307 - val_loss: 0.4287 - val_accuracy: 0.8136\n"
          ]
        }
      ]
    },
    {
      "cell_type": "code",
      "source": [
        "# Make predictions with USE TF Hub model\n",
        "model_6_pred_probs = model_6.predict(val_sentences)\n",
        "model_6_pred_probs[:10]"
      ],
      "metadata": {
        "colab": {
          "base_uri": "https://localhost:8080/"
        },
        "id": "opGT8ki7U9NJ",
        "outputId": "ee9f778b-54a2-4663-bdbd-2481f49ebc88"
      },
      "execution_count": null,
      "outputs": [
        {
          "output_type": "stream",
          "name": "stdout",
          "text": [
            "24/24 [==============================] - 1s 21ms/step\n"
          ]
        },
        {
          "output_type": "execute_result",
          "data": {
            "text/plain": [
              "array([[0.15237048],\n",
              "       [0.7461706 ],\n",
              "       [0.9880993 ],\n",
              "       [0.18515763],\n",
              "       [0.71685606],\n",
              "       [0.68722165],\n",
              "       [0.97914094],\n",
              "       [0.9763282 ],\n",
              "       [0.92573094],\n",
              "       [0.08215361]], dtype=float32)"
            ]
          },
          "metadata": {},
          "execution_count": 86
        }
      ]
    },
    {
      "cell_type": "code",
      "source": [
        "# Convert prediction probabilities to labels\n",
        "model_6_preds = tf.squeeze(tf.round(model_6_pred_probs))\n",
        "model_6_preds[:10]"
      ],
      "metadata": {
        "colab": {
          "base_uri": "https://localhost:8080/"
        },
        "id": "ACdCfcD6VTxv",
        "outputId": "a3cfe759-d2d0-487c-d2d5-90472b16dbb9"
      },
      "execution_count": null,
      "outputs": [
        {
          "output_type": "execute_result",
          "data": {
            "text/plain": [
              "<tf.Tensor: shape=(10,), dtype=float32, numpy=array([0., 1., 1., 0., 1., 1., 1., 1., 1., 0.], dtype=float32)>"
            ]
          },
          "metadata": {},
          "execution_count": 87
        }
      ]
    },
    {
      "cell_type": "code",
      "source": [
        "# Calculate model 6 performance metrics\n",
        "model_6_results = calculate_results(val_labels, model_6_preds)\n",
        "model_6_results"
      ],
      "metadata": {
        "colab": {
          "base_uri": "https://localhost:8080/"
        },
        "id": "driGd1fHVe6H",
        "outputId": "e727850e-a1b1-4fcd-8667-4a166072c7e5"
      },
      "execution_count": null,
      "outputs": [
        {
          "output_type": "execute_result",
          "data": {
            "text/plain": [
              "{'accuracy': 81.36482939632546,\n",
              " 'precision': 0.8157623872867286,\n",
              " 'recall': 0.8136482939632546,\n",
              " 'f1': 0.8121626682144012}"
            ]
          },
          "metadata": {},
          "execution_count": 89
        }
      ]
    },
    {
      "cell_type": "code",
      "source": [
        "# Compare TF Hub model to baseline\n",
        "compare_baseline_to_new_results(baseline_results, model_6_results)"
      ],
      "metadata": {
        "colab": {
          "base_uri": "https://localhost:8080/"
        },
        "id": "NIVTJ0E3VWF_",
        "outputId": "f0b4f7af-2868-4fff-834b-a29f2309b794"
      },
      "execution_count": null,
      "outputs": [
        {
          "output_type": "stream",
          "name": "stdout",
          "text": [
            "Baseline accuracy: 79.27, New accuracy: 81.36, Difference: 2.10\n",
            "Baseline precision: 0.81, New precision: 0.82, Difference: 0.00\n",
            "Baseline recall: 0.79, New recall: 0.81, Difference: 0.02\n",
            "Baseline f1: 0.79, New f1: 0.81, Difference: 0.03\n"
          ]
        }
      ]
    },
    {
      "cell_type": "markdown",
      "source": [
        "# Model 7: TensorFlow Hub Pretrained Sentence Encoder 10% of the training data"
      ],
      "metadata": {
        "id": "G9e5yhtpVa6X"
      }
    },
    {
      "cell_type": "markdown",
      "source": [
        "One benefit of using transfer learning models is the ability to get good results with less data"
      ],
      "metadata": {
        "id": "YqnXZqJSVp74"
      }
    },
    {
      "cell_type": "code",
      "source": [
        "# One kind of correct way (there are more) to make data subset (split the already split train_sentences/train_labels)\n",
        "train_sentences_90_percent, train_sentences_10_percent, train_labels_90_percent, train_labels_10_percent = train_test_split(np.array(train_sentences),\n",
        "                                                                                                                            train_labels,\n",
        "                                                                                                                            test_size=0.1,\n",
        "                                                                                                                            random_state=42)\n"
      ],
      "metadata": {
        "id": "ohqhPjj9Vz5H"
      },
      "execution_count": null,
      "outputs": []
    },
    {
      "cell_type": "code",
      "source": [
        "# Check length of 10 percent datasets\n",
        "print(f\"Total training examples: {len(train_sentences)}\")\n",
        "print(f\"Length of 10% training examples: {len(train_sentences_10_percent)}\")"
      ],
      "metadata": {
        "colab": {
          "base_uri": "https://localhost:8080/"
        },
        "id": "6qGIWL5CV999",
        "outputId": "dae64ff8-ec85-460c-d5fc-2aeda05eba53"
      },
      "execution_count": null,
      "outputs": [
        {
          "output_type": "stream",
          "name": "stdout",
          "text": [
            "Total training examples: 6851\n",
            "Length of 10% training examples: 686\n"
          ]
        }
      ]
    },
    {
      "cell_type": "code",
      "source": [
        "# Check the number of targets in our subset of data (this should be close to the distribution of labels in the original train_labels)\n",
        "pd.Series(train_labels_10_percent).value_counts()"
      ],
      "metadata": {
        "colab": {
          "base_uri": "https://localhost:8080/"
        },
        "id": "XVCXnWPXV_Cl",
        "outputId": "0f9302e2-4c8e-4be0-8c9c-84f8d3af71f2"
      },
      "execution_count": null,
      "outputs": [
        {
          "output_type": "execute_result",
          "data": {
            "text/plain": [
              "0    415\n",
              "1    271\n",
              "dtype: int64"
            ]
          },
          "metadata": {},
          "execution_count": 94
        }
      ]
    },
    {
      "cell_type": "markdown",
      "source": [
        "Will now clone previous model (model_6) to get same architecture but reset the learned weights"
      ],
      "metadata": {
        "id": "6BjoFOcWWEqV"
      }
    },
    {
      "cell_type": "code",
      "source": [
        "# Clone model_6 but reset weights\n",
        "model_7 = tf.keras.models.clone_model(model_6)\n",
        "\n",
        "# Compile model\n",
        "model_7.compile(loss=\"binary_crossentropy\",\n",
        "                optimizer=tf.keras.optimizers.Adam(),\n",
        "                metrics=[\"accuracy\"])\n",
        "\n",
        "# Get a summary (will be same as model_6)\n",
        "model_7.summary()"
      ],
      "metadata": {
        "colab": {
          "base_uri": "https://localhost:8080/"
        },
        "id": "XbQ_OVNJWaqi",
        "outputId": "3d7251da-f012-41e3-e2cb-5639bdff594a"
      },
      "execution_count": null,
      "outputs": [
        {
          "output_type": "stream",
          "name": "stdout",
          "text": [
            "Model: \"model_6_USE\"\n",
            "_________________________________________________________________\n",
            " Layer (type)                Output Shape              Param #   \n",
            "=================================================================\n",
            " USE (KerasLayer)            (None, 512)               256797824 \n",
            "                                                                 \n",
            " dense_5 (Dense)             (None, 64)                32832     \n",
            "                                                                 \n",
            " dense_6 (Dense)             (None, 1)                 65        \n",
            "                                                                 \n",
            "=================================================================\n",
            "Total params: 256,830,721\n",
            "Trainable params: 32,897\n",
            "Non-trainable params: 256,797,824\n",
            "_________________________________________________________________\n"
          ]
        }
      ]
    },
    {
      "cell_type": "code",
      "source": [
        "# Fit the model to 10% of the training data\n",
        "model_7_history = model_7.fit(x=train_sentences_10_percent,\n",
        "                              y=train_labels_10_percent,\n",
        "                              epochs=5,\n",
        "                              validation_data=(val_sentences, val_labels),\n",
        "                              callbacks=[create_tensorboard_callback(SAVE_DIR, \"10_percent_tf_hub_sentence_encoder\")])"
      ],
      "metadata": {
        "colab": {
          "base_uri": "https://localhost:8080/"
        },
        "id": "K6yixLAXWb9U",
        "outputId": "e01173fb-0ad2-4e1e-ce0c-3ce7fecf6f80"
      },
      "execution_count": null,
      "outputs": [
        {
          "output_type": "stream",
          "name": "stdout",
          "text": [
            "Saving TensorBoard log files to: model_logs/10_percent_tf_hub_sentence_encoder/20230311-014731\n",
            "Epoch 1/5\n",
            "22/22 [==============================] - 5s 48ms/step - loss: 0.6678 - accuracy: 0.6924 - val_loss: 0.6490 - val_accuracy: 0.6969\n",
            "Epoch 2/5\n",
            "22/22 [==============================] - 1s 27ms/step - loss: 0.5937 - accuracy: 0.8090 - val_loss: 0.5908 - val_accuracy: 0.7493\n",
            "Epoch 3/5\n",
            "22/22 [==============================] - 0s 22ms/step - loss: 0.5168 - accuracy: 0.8251 - val_loss: 0.5387 - val_accuracy: 0.7638\n",
            "Epoch 4/5\n",
            "22/22 [==============================] - 1s 26ms/step - loss: 0.4538 - accuracy: 0.8382 - val_loss: 0.5072 - val_accuracy: 0.7756\n",
            "Epoch 5/5\n",
            "22/22 [==============================] - 1s 26ms/step - loss: 0.4111 - accuracy: 0.8397 - val_loss: 0.4897 - val_accuracy: 0.7848\n"
          ]
        }
      ]
    },
    {
      "cell_type": "code",
      "source": [
        "# Make predictions with the model trained on 10% of the data\n",
        "model_7_pred_probs = model_7.predict(val_sentences)\n",
        "model_7_pred_probs[:10]"
      ],
      "metadata": {
        "colab": {
          "base_uri": "https://localhost:8080/"
        },
        "id": "JIVD4fgyWgY7",
        "outputId": "e572b2db-a6c1-477d-bae1-6cbc0fa850dd"
      },
      "execution_count": null,
      "outputs": [
        {
          "output_type": "stream",
          "name": "stdout",
          "text": [
            "24/24 [==============================] - 1s 21ms/step\n"
          ]
        },
        {
          "output_type": "execute_result",
          "data": {
            "text/plain": [
              "array([[0.25992224],\n",
              "       [0.79688525],\n",
              "       [0.8872845 ],\n",
              "       [0.2685611 ],\n",
              "       [0.5645675 ],\n",
              "       [0.8248176 ],\n",
              "       [0.8153711 ],\n",
              "       [0.83423233],\n",
              "       [0.8411421 ],\n",
              "       [0.10809049]], dtype=float32)"
            ]
          },
          "metadata": {},
          "execution_count": 97
        }
      ]
    },
    {
      "cell_type": "code",
      "source": [
        "# Convert prediction probabilities to labels\n",
        "model_7_preds = tf.squeeze(tf.round(model_7_pred_probs))\n",
        "model_7_preds[:10]"
      ],
      "metadata": {
        "colab": {
          "base_uri": "https://localhost:8080/"
        },
        "id": "mIfjUNZ1Wiaj",
        "outputId": "da739f02-8e5d-496b-a253-8ca353d95099"
      },
      "execution_count": null,
      "outputs": [
        {
          "output_type": "execute_result",
          "data": {
            "text/plain": [
              "<tf.Tensor: shape=(10,), dtype=float32, numpy=array([0., 1., 1., 0., 1., 1., 1., 1., 1., 0.], dtype=float32)>"
            ]
          },
          "metadata": {},
          "execution_count": 98
        }
      ]
    },
    {
      "cell_type": "code",
      "source": [
        "# Calculate model results\n",
        "model_7_results = calculate_results(val_labels, model_7_preds)\n",
        "model_7_results"
      ],
      "metadata": {
        "colab": {
          "base_uri": "https://localhost:8080/"
        },
        "id": "JzYQYfbpWjqM",
        "outputId": "b43393d2-c827-4548-a40a-5047dbf2385e"
      },
      "execution_count": null,
      "outputs": [
        {
          "output_type": "execute_result",
          "data": {
            "text/plain": [
              "{'accuracy': 78.4776902887139,\n",
              " 'precision': 0.7887661817696516,\n",
              " 'recall': 0.7847769028871391,\n",
              " 'f1': 0.7820385831619191}"
            ]
          },
          "metadata": {},
          "execution_count": 99
        }
      ]
    },
    {
      "cell_type": "code",
      "source": [
        "# Compare to baseline\n",
        "compare_baseline_to_new_results(baseline_results, model_7_results)"
      ],
      "metadata": {
        "colab": {
          "base_uri": "https://localhost:8080/"
        },
        "id": "Ol2V-GSGWkhr",
        "outputId": "8bd40b88-7cca-4af6-883e-446806e8bdd0"
      },
      "execution_count": null,
      "outputs": [
        {
          "output_type": "stream",
          "name": "stdout",
          "text": [
            "Baseline accuracy: 79.27, New accuracy: 78.48, Difference: -0.79\n",
            "Baseline precision: 0.81, New precision: 0.79, Difference: -0.02\n",
            "Baseline recall: 0.79, New recall: 0.78, Difference: -0.01\n",
            "Baseline f1: 0.79, New f1: 0.78, Difference: -0.00\n"
          ]
        }
      ]
    },
    {
      "cell_type": "markdown",
      "source": [
        "# Comparing the performance of each of our models"
      ],
      "metadata": {
        "id": "zl7DueXeWmG7"
      }
    },
    {
      "cell_type": "markdown",
      "source": [
        "We trained various models and will not compare the performance of against each other.\n",
        "\n",
        "All the models used the same training data except for model_7 which used only 10% of the training data"
      ],
      "metadata": {
        "id": "TULCJ54yWuHb"
      }
    },
    {
      "cell_type": "code",
      "source": [
        "# Combine model results into a DataFrame\n",
        "all_model_results = pd.DataFrame({\"baseline\": baseline_results,\n",
        "                                  \"simple_dense\": model_1_results,\n",
        "                                  \"lstm\": model_2_results,\n",
        "                                  \"gru\": model_3_results,\n",
        "                                  \"bidirectional\": model_4_results,\n",
        "                                  \"conv1d\": model_5_results,\n",
        "                                  \"tf_hub_sentence_encoder\": model_6_results,\n",
        "                                  \"tf_hub_10_percent_data\": model_7_results})\n",
        "\n",
        "all_model_results = all_model_results.transpose()\n",
        "all_model_results"
      ],
      "metadata": {
        "colab": {
          "base_uri": "https://localhost:8080/",
          "height": 300
        },
        "id": "N6Q40xHWW8WC",
        "outputId": "f48a5a85-5577-4eba-b4e9-023d9985f084"
      },
      "execution_count": null,
      "outputs": [
        {
          "output_type": "execute_result",
          "data": {
            "text/plain": [
              "                          accuracy  precision    recall        f1\n",
              "baseline                 79.265092   0.811139  0.792651  0.786219\n",
              "simple_dense             78.608924   0.790328  0.786089  0.783297\n",
              "lstm                     75.328084   0.753272  0.753281  0.751926\n",
              "gru                      77.034121   0.770288  0.770341  0.769333\n",
              "bidirectional            76.771654   0.767336  0.767717  0.767301\n",
              "conv1d                   78.871391   0.795344  0.788714  0.785215\n",
              "tf_hub_sentence_encoder  81.364829   0.815762  0.813648  0.812163\n",
              "tf_hub_10_percent_data   78.477690   0.788766  0.784777  0.782039"
            ],
            "text/html": [
              "\n",
              "  <div id=\"df-61dc78d1-5058-4f51-9de1-132dec2ddeaf\">\n",
              "    <div class=\"colab-df-container\">\n",
              "      <div>\n",
              "<style scoped>\n",
              "    .dataframe tbody tr th:only-of-type {\n",
              "        vertical-align: middle;\n",
              "    }\n",
              "\n",
              "    .dataframe tbody tr th {\n",
              "        vertical-align: top;\n",
              "    }\n",
              "\n",
              "    .dataframe thead th {\n",
              "        text-align: right;\n",
              "    }\n",
              "</style>\n",
              "<table border=\"1\" class=\"dataframe\">\n",
              "  <thead>\n",
              "    <tr style=\"text-align: right;\">\n",
              "      <th></th>\n",
              "      <th>accuracy</th>\n",
              "      <th>precision</th>\n",
              "      <th>recall</th>\n",
              "      <th>f1</th>\n",
              "    </tr>\n",
              "  </thead>\n",
              "  <tbody>\n",
              "    <tr>\n",
              "      <th>baseline</th>\n",
              "      <td>79.265092</td>\n",
              "      <td>0.811139</td>\n",
              "      <td>0.792651</td>\n",
              "      <td>0.786219</td>\n",
              "    </tr>\n",
              "    <tr>\n",
              "      <th>simple_dense</th>\n",
              "      <td>78.608924</td>\n",
              "      <td>0.790328</td>\n",
              "      <td>0.786089</td>\n",
              "      <td>0.783297</td>\n",
              "    </tr>\n",
              "    <tr>\n",
              "      <th>lstm</th>\n",
              "      <td>75.328084</td>\n",
              "      <td>0.753272</td>\n",
              "      <td>0.753281</td>\n",
              "      <td>0.751926</td>\n",
              "    </tr>\n",
              "    <tr>\n",
              "      <th>gru</th>\n",
              "      <td>77.034121</td>\n",
              "      <td>0.770288</td>\n",
              "      <td>0.770341</td>\n",
              "      <td>0.769333</td>\n",
              "    </tr>\n",
              "    <tr>\n",
              "      <th>bidirectional</th>\n",
              "      <td>76.771654</td>\n",
              "      <td>0.767336</td>\n",
              "      <td>0.767717</td>\n",
              "      <td>0.767301</td>\n",
              "    </tr>\n",
              "    <tr>\n",
              "      <th>conv1d</th>\n",
              "      <td>78.871391</td>\n",
              "      <td>0.795344</td>\n",
              "      <td>0.788714</td>\n",
              "      <td>0.785215</td>\n",
              "    </tr>\n",
              "    <tr>\n",
              "      <th>tf_hub_sentence_encoder</th>\n",
              "      <td>81.364829</td>\n",
              "      <td>0.815762</td>\n",
              "      <td>0.813648</td>\n",
              "      <td>0.812163</td>\n",
              "    </tr>\n",
              "    <tr>\n",
              "      <th>tf_hub_10_percent_data</th>\n",
              "      <td>78.477690</td>\n",
              "      <td>0.788766</td>\n",
              "      <td>0.784777</td>\n",
              "      <td>0.782039</td>\n",
              "    </tr>\n",
              "  </tbody>\n",
              "</table>\n",
              "</div>\n",
              "      <button class=\"colab-df-convert\" onclick=\"convertToInteractive('df-61dc78d1-5058-4f51-9de1-132dec2ddeaf')\"\n",
              "              title=\"Convert this dataframe to an interactive table.\"\n",
              "              style=\"display:none;\">\n",
              "        \n",
              "  <svg xmlns=\"http://www.w3.org/2000/svg\" height=\"24px\"viewBox=\"0 0 24 24\"\n",
              "       width=\"24px\">\n",
              "    <path d=\"M0 0h24v24H0V0z\" fill=\"none\"/>\n",
              "    <path d=\"M18.56 5.44l.94 2.06.94-2.06 2.06-.94-2.06-.94-.94-2.06-.94 2.06-2.06.94zm-11 1L8.5 8.5l.94-2.06 2.06-.94-2.06-.94L8.5 2.5l-.94 2.06-2.06.94zm10 10l.94 2.06.94-2.06 2.06-.94-2.06-.94-.94-2.06-.94 2.06-2.06.94z\"/><path d=\"M17.41 7.96l-1.37-1.37c-.4-.4-.92-.59-1.43-.59-.52 0-1.04.2-1.43.59L10.3 9.45l-7.72 7.72c-.78.78-.78 2.05 0 2.83L4 21.41c.39.39.9.59 1.41.59.51 0 1.02-.2 1.41-.59l7.78-7.78 2.81-2.81c.8-.78.8-2.07 0-2.86zM5.41 20L4 18.59l7.72-7.72 1.47 1.35L5.41 20z\"/>\n",
              "  </svg>\n",
              "      </button>\n",
              "      \n",
              "  <style>\n",
              "    .colab-df-container {\n",
              "      display:flex;\n",
              "      flex-wrap:wrap;\n",
              "      gap: 12px;\n",
              "    }\n",
              "\n",
              "    .colab-df-convert {\n",
              "      background-color: #E8F0FE;\n",
              "      border: none;\n",
              "      border-radius: 50%;\n",
              "      cursor: pointer;\n",
              "      display: none;\n",
              "      fill: #1967D2;\n",
              "      height: 32px;\n",
              "      padding: 0 0 0 0;\n",
              "      width: 32px;\n",
              "    }\n",
              "\n",
              "    .colab-df-convert:hover {\n",
              "      background-color: #E2EBFA;\n",
              "      box-shadow: 0px 1px 2px rgba(60, 64, 67, 0.3), 0px 1px 3px 1px rgba(60, 64, 67, 0.15);\n",
              "      fill: #174EA6;\n",
              "    }\n",
              "\n",
              "    [theme=dark] .colab-df-convert {\n",
              "      background-color: #3B4455;\n",
              "      fill: #D2E3FC;\n",
              "    }\n",
              "\n",
              "    [theme=dark] .colab-df-convert:hover {\n",
              "      background-color: #434B5C;\n",
              "      box-shadow: 0px 1px 3px 1px rgba(0, 0, 0, 0.15);\n",
              "      filter: drop-shadow(0px 1px 2px rgba(0, 0, 0, 0.3));\n",
              "      fill: #FFFFFF;\n",
              "    }\n",
              "  </style>\n",
              "\n",
              "      <script>\n",
              "        const buttonEl =\n",
              "          document.querySelector('#df-61dc78d1-5058-4f51-9de1-132dec2ddeaf button.colab-df-convert');\n",
              "        buttonEl.style.display =\n",
              "          google.colab.kernel.accessAllowed ? 'block' : 'none';\n",
              "\n",
              "        async function convertToInteractive(key) {\n",
              "          const element = document.querySelector('#df-61dc78d1-5058-4f51-9de1-132dec2ddeaf');\n",
              "          const dataTable =\n",
              "            await google.colab.kernel.invokeFunction('convertToInteractive',\n",
              "                                                     [key], {});\n",
              "          if (!dataTable) return;\n",
              "\n",
              "          const docLinkHtml = 'Like what you see? Visit the ' +\n",
              "            '<a target=\"_blank\" href=https://colab.research.google.com/notebooks/data_table.ipynb>data table notebook</a>'\n",
              "            + ' to learn more about interactive tables.';\n",
              "          element.innerHTML = '';\n",
              "          dataTable['output_type'] = 'display_data';\n",
              "          await google.colab.output.renderOutput(dataTable, element);\n",
              "          const docLink = document.createElement('div');\n",
              "          docLink.innerHTML = docLinkHtml;\n",
              "          element.appendChild(docLink);\n",
              "        }\n",
              "      </script>\n",
              "    </div>\n",
              "  </div>\n",
              "  "
            ]
          },
          "metadata": {},
          "execution_count": 101
        }
      ]
    },
    {
      "cell_type": "code",
      "source": [
        "# Reduce the accuracy to same scale as other metrics\n",
        "all_model_results[\"accuracy\"] = all_model_results[\"accuracy\"]/100"
      ],
      "metadata": {
        "id": "7ZCHycyEW-la"
      },
      "execution_count": null,
      "outputs": []
    },
    {
      "cell_type": "code",
      "source": [
        "# Plot and compare all of the model results\n",
        "all_model_results.plot(kind=\"bar\", figsize=(10, 7)).legend(bbox_to_anchor=(1.0, 1.0));"
      ],
      "metadata": {
        "colab": {
          "base_uri": "https://localhost:8080/",
          "height": 546
        },
        "id": "-BSRR605XBsK",
        "outputId": "57913ca3-013f-4de9-c41d-d652f7f42264"
      },
      "execution_count": null,
      "outputs": [
        {
          "output_type": "display_data",
          "data": {
            "text/plain": [
              "<Figure size 720x504 with 1 Axes>"
            ],
            "image/png": "[encoded data removed]"
          },
          "metadata": {
            "needs_background": "light"
          }
        }
      ]
    },
    {
      "cell_type": "markdown",
      "source": [
        "Best performing one seems to be the Universal Sentence Encoder from TensorFlow Hub (model_6) \n",
        "\n",
        "The model that also uses USE but with 10% of training data (model_7) seems to out perform some of the other models"
      ],
      "metadata": {
        "id": "RK271p83XDMS"
      }
    },
    {
      "cell_type": "code",
      "source": [
        "# View only F1 Score(sorted from high to low)\n",
        "all_model_results.sort_values(\"f1\", ascending=False)[\"f1\"].plot(kind=\"bar\", figsize=(10, 7));"
      ],
      "metadata": {
        "colab": {
          "base_uri": "https://localhost:8080/",
          "height": 546
        },
        "id": "W9QEsFxJXV5J",
        "outputId": "0ca1bc5c-d909-4e17-cdf1-c69a80df974f"
      },
      "execution_count": null,
      "outputs": [
        {
          "output_type": "display_data",
          "data": {
            "text/plain": [
              "<Figure size 720x504 with 1 Axes>"
            ],
            "image/png": "[encoded data removed]"
          },
          "metadata": {
            "needs_background": "light"
          }
        }
      ]
    },
    {
      "cell_type": "code",
      "source": [
        "# # View tensorboard logs of transfer learning modelling experiments (should be 4 models)\n",
        "\n",
        "# # Upload TensorBoard dev records\n",
        "# !tensorboard dev upload --logdir ./model_logs \\\n",
        "#   --name \"NLP modelling experiments\" \\\n",
        "#   --description \"A series of different NLP modellings experiments with various models\" \\\n",
        "#   --one_shot # exits the uploader when upload has finished"
      ],
      "metadata": {
        "colab": {
          "base_uri": "https://localhost:8080/"
        },
        "id": "S26pWzxEXafZ",
        "outputId": "eae15d28-712e-4ebf-8368-43dc51e04c33"
      },
      "execution_count": null,
      "outputs": [
        {
          "output_type": "stream",
          "name": "stdout",
          "text": [
            "2023-03-11 01:53:45.048718: W tensorflow/compiler/xla/stream_executor/platform/default/dso_loader.cc:64] Could not load dynamic library 'libnvinfer.so.7'; dlerror: libnvinfer.so.7: cannot open shared object file: No such file or directory; LD_LIBRARY_PATH: /usr/lib64-nvidia\n",
            "2023-03-11 01:53:45.048836: W tensorflow/compiler/xla/stream_executor/platform/default/dso_loader.cc:64] Could not load dynamic library 'libnvinfer_plugin.so.7'; dlerror: libnvinfer_plugin.so.7: cannot open shared object file: No such file or directory; LD_LIBRARY_PATH: /usr/lib64-nvidia\n",
            "2023-03-11 01:53:45.048858: W tensorflow/compiler/tf2tensorrt/utils/py_utils.cc:38] TF-TRT Warning: Cannot dlopen some TensorRT libraries. If you would like to use Nvidia GPU with TensorRT, please make sure the missing libraries mentioned above are installed properly.\n",
            "\n",
            "***** TensorBoard Uploader *****\n",
            "\n",
            "This will upload your TensorBoard logs to https://tensorboard.dev/ from\n",
            "the following directory:\n",
            "\n",
            "./model_logs\n",
            "\n",
            "This TensorBoard will be visible to everyone. Do not upload sensitive\n",
            "data.\n",
            "\n",
            "Your use of this service is subject to Google's Terms of Service\n",
            "<https://policies.google.com/terms> and Privacy Policy\n",
            "<https://policies.google.com/privacy>, and TensorBoard.dev's Terms of Service\n",
            "<https://tensorboard.dev/policy/terms/>.\n",
            "\n",
            "This notice will not be shown again while you are logged into the uploader.\n",
            "To log out, run `tensorboard dev auth revoke`.\n",
            "\n",
            "Continue? (yes/NO) yes\n",
            "\n",
            "To sign in with the TensorBoard uploader:\n",
            "\n",
            "1. On your computer or phone, visit:\n",
            "\n",
            "   https://www.google.com/device\n",
            "\n",
            "2. Sign in with your Google account, then enter:\n",
            "\n",
            "   LCM-JJY-VNX\n",
            "\n",
            "\n",
            "\n",
            "New experiment created. View your TensorBoard at: https://tensorboard.dev/experiment/sYOvVN2TQyC5QRMsZSLrXg/\n",
            "\n",
            "\u001b[1m[2023-03-11T01:54:18]\u001b[0m Started scanning logdir.\n",
            "\u001b[1m[2023-03-11T01:54:30]\u001b[0m Total uploaded: 210 scalars, 0 tensors, 7 binary objects (2.8 MB)\n",
            "\u001b[1m[2023-03-11T01:54:30]\u001b[0m Done scanning logdir.\n",
            "\n",
            "\n",
            "Done. View your TensorBoard at https://tensorboard.dev/experiment/sYOvVN2TQyC5QRMsZSLrXg/\n"
          ]
        }
      ]
    },
    {
      "cell_type": "markdown",
      "source": [
        "# Combining our models (model ensembling/stacking)"
      ],
      "metadata": {
        "id": "DC1nfQLAX6wo"
      }
    },
    {
      "cell_type": "markdown",
      "source": [
        "Many production systems use an **ensemble** (multiple different models combined) of models to make a prediction.\n",
        "\n",
        "The idea behind model stacking is that if several uncorrelated models agree on a prediction, then the prediction must be more robust than a prediction made by a singular model.\n",
        "\n",
        "The keyword in the sentence above is uncorrelated, which is another way of saying, different types of models. For example, in our case, we might combine our baseline, our bidirectional model and our TensorFlow Hub USE model.\n",
        "\n",
        "Think of it as trying to decide where to eat with your friends. If you all have similar tastes, you'll probably all pick the same restaurant. But if you've all got different tastes and still end up picking the same restaurant, the restaurant must be good.\n",
        "\n"
      ],
      "metadata": {
        "id": "uM5mNxaOYH_-"
      }
    },
    {
      "cell_type": "markdown",
      "source": [
        "### Ways of combining models"
      ],
      "metadata": {
        "id": "EnGKcQASYm1N"
      }
    },
    {
      "cell_type": "markdown",
      "source": [
        "1. Averaging - Take the output prediction probabilities of each model for each sample, combine them and then average them.\n",
        "\n",
        "2. Majority Vote (mode) - Make class predictions with each of your models on all samples, the predicted class is the one in majority. \n",
        "  - For example, if three different models predict [1, 0, 1] respectively, the majority class is 1, therefore, that would be the predicted label.\n",
        "\n",
        "3. Model Stacking - Take the ouput of each of your chosen models and use them as input to another model"
      ],
      "metadata": {
        "id": "akRGYq3AYp5F"
      }
    },
    {
      "cell_type": "markdown",
      "source": [
        "### What we're going to build\n"
      ],
      "metadata": {
        "id": "oWpYQkHBZPGI"
      }
    },
    {
      "cell_type": "markdown",
      "source": [
        "Combine baseline model (model_0), LSTM model (model_3) and USE model (model_6) by averaging the combined prediction probabilities of each"
      ],
      "metadata": {
        "id": "7SZKYX9UZTwT"
      }
    },
    {
      "cell_type": "code",
      "source": [
        "# Get mean pred probs for 3 models\n",
        "baseline_pred_probs = np.max(model_0.predict_proba(val_sentences), axis=1) # get the prediction probabilities from baseline model\n",
        "combined_pred_probs = baseline_pred_probs + tf.squeeze(model_2_pred_probs, axis=1) + tf.squeeze(model_6_pred_probs)\n",
        "combined_preds = tf.round(combined_pred_probs/3) # average and round the prediction probabilities to get prediction classes\n",
        "\n",
        "combined_preds[:20]"
      ],
      "metadata": {
        "colab": {
          "base_uri": "https://localhost:8080/"
        },
        "id": "5GahcAJUZhmB",
        "outputId": "e7864d93-1b8e-4ac3-bfbf-6d28150655fb"
      },
      "execution_count": null,
      "outputs": [
        {
          "output_type": "execute_result",
          "data": {
            "text/plain": [
              "<tf.Tensor: shape=(20,), dtype=float32, numpy=\n",
              "array([0., 1., 1., 0., 0., 1., 1., 1., 1., 0., 0., 0., 0., 1., 0., 0., 0.,\n",
              "       0., 0., 1.], dtype=float32)>"
            ]
          },
          "metadata": {},
          "execution_count": 107
        }
      ]
    },
    {
      "cell_type": "code",
      "source": [
        "# Calculate results from averaging the prediction probabilities\n",
        "ensemble_results = calculate_results(val_labels, combined_preds)\n",
        "ensemble_results"
      ],
      "metadata": {
        "colab": {
          "base_uri": "https://localhost:8080/"
        },
        "id": "ZYUDs7CAZoih",
        "outputId": "6ef4adf6-c945-44d6-c63b-98ff254cd9b7"
      },
      "execution_count": null,
      "outputs": [
        {
          "output_type": "execute_result",
          "data": {
            "text/plain": [
              "{'accuracy': 77.55905511811024,\n",
              " 'precision': 0.7753808488127285,\n",
              " 'recall': 0.7755905511811023,\n",
              " 'f1': 0.7754521478817263}"
            ]
          },
          "metadata": {},
          "execution_count": 108
        }
      ]
    },
    {
      "cell_type": "code",
      "source": [
        "# Add our combined model's results to the results DataFrame\n",
        "all_model_results.loc[\"ensemble_results\"] = ensemble_results"
      ],
      "metadata": {
        "id": "QAuUcJ2KZuCJ"
      },
      "execution_count": null,
      "outputs": []
    },
    {
      "cell_type": "code",
      "source": [
        "# Convert the accuracy to the same scale as the rest of the results\n",
        "all_model_results.loc[\"ensemble_results\"][\"accuracy\"] = all_model_results.loc[\"ensemble_results\"][\"accuracy\"]/100"
      ],
      "metadata": {
        "id": "dL4rFtYGZwgh"
      },
      "execution_count": null,
      "outputs": []
    },
    {
      "cell_type": "code",
      "source": [
        "all_model_results"
      ],
      "metadata": {
        "colab": {
          "base_uri": "https://localhost:8080/",
          "height": 332
        },
        "id": "tKTIFuL1Zx9p",
        "outputId": "da22206e-dd88-4d06-d297-234e1f23d072"
      },
      "execution_count": null,
      "outputs": [
        {
          "output_type": "execute_result",
          "data": {
            "text/plain": [
              "                         accuracy  precision    recall        f1\n",
              "baseline                 0.792651   0.811139  0.792651  0.786219\n",
              "simple_dense             0.786089   0.790328  0.786089  0.783297\n",
              "lstm                     0.753281   0.753272  0.753281  0.751926\n",
              "gru                      0.770341   0.770288  0.770341  0.769333\n",
              "bidirectional            0.767717   0.767336  0.767717  0.767301\n",
              "conv1d                   0.788714   0.795344  0.788714  0.785215\n",
              "tf_hub_sentence_encoder  0.813648   0.815762  0.813648  0.812163\n",
              "tf_hub_10_percent_data   0.784777   0.788766  0.784777  0.782039\n",
              "ensemble_results         0.775591   0.775381  0.775591  0.775452"
            ],
            "text/html": [
              "\n",
              "  <div id=\"df-2db5d0e1-38ef-4bd2-be00-788ddb32b2e5\">\n",
              "    <div class=\"colab-df-container\">\n",
              "      <div>\n",
              "<style scoped>\n",
              "    .dataframe tbody tr th:only-of-type {\n",
              "        vertical-align: middle;\n",
              "    }\n",
              "\n",
              "    .dataframe tbody tr th {\n",
              "        vertical-align: top;\n",
              "    }\n",
              "\n",
              "    .dataframe thead th {\n",
              "        text-align: right;\n",
              "    }\n",
              "</style>\n",
              "<table border=\"1\" class=\"dataframe\">\n",
              "  <thead>\n",
              "    <tr style=\"text-align: right;\">\n",
              "      <th></th>\n",
              "      <th>accuracy</th>\n",
              "      <th>precision</th>\n",
              "      <th>recall</th>\n",
              "      <th>f1</th>\n",
              "    </tr>\n",
              "  </thead>\n",
              "  <tbody>\n",
              "    <tr>\n",
              "      <th>baseline</th>\n",
              "      <td>0.792651</td>\n",
              "      <td>0.811139</td>\n",
              "      <td>0.792651</td>\n",
              "      <td>0.786219</td>\n",
              "    </tr>\n",
              "    <tr>\n",
              "      <th>simple_dense</th>\n",
              "      <td>0.786089</td>\n",
              "      <td>0.790328</td>\n",
              "      <td>0.786089</td>\n",
              "      <td>0.783297</td>\n",
              "    </tr>\n",
              "    <tr>\n",
              "      <th>lstm</th>\n",
              "      <td>0.753281</td>\n",
              "      <td>0.753272</td>\n",
              "      <td>0.753281</td>\n",
              "      <td>0.751926</td>\n",
              "    </tr>\n",
              "    <tr>\n",
              "      <th>gru</th>\n",
              "      <td>0.770341</td>\n",
              "      <td>0.770288</td>\n",
              "      <td>0.770341</td>\n",
              "      <td>0.769333</td>\n",
              "    </tr>\n",
              "    <tr>\n",
              "      <th>bidirectional</th>\n",
              "      <td>0.767717</td>\n",
              "      <td>0.767336</td>\n",
              "      <td>0.767717</td>\n",
              "      <td>0.767301</td>\n",
              "    </tr>\n",
              "    <tr>\n",
              "      <th>conv1d</th>\n",
              "      <td>0.788714</td>\n",
              "      <td>0.795344</td>\n",
              "      <td>0.788714</td>\n",
              "      <td>0.785215</td>\n",
              "    </tr>\n",
              "    <tr>\n",
              "      <th>tf_hub_sentence_encoder</th>\n",
              "      <td>0.813648</td>\n",
              "      <td>0.815762</td>\n",
              "      <td>0.813648</td>\n",
              "      <td>0.812163</td>\n",
              "    </tr>\n",
              "    <tr>\n",
              "      <th>tf_hub_10_percent_data</th>\n",
              "      <td>0.784777</td>\n",
              "      <td>0.788766</td>\n",
              "      <td>0.784777</td>\n",
              "      <td>0.782039</td>\n",
              "    </tr>\n",
              "    <tr>\n",
              "      <th>ensemble_results</th>\n",
              "      <td>0.775591</td>\n",
              "      <td>0.775381</td>\n",
              "      <td>0.775591</td>\n",
              "      <td>0.775452</td>\n",
              "    </tr>\n",
              "  </tbody>\n",
              "</table>\n",
              "</div>\n",
              "      <button class=\"colab-df-convert\" onclick=\"convertToInteractive('df-2db5d0e1-38ef-4bd2-be00-788ddb32b2e5')\"\n",
              "              title=\"Convert this dataframe to an interactive table.\"\n",
              "              style=\"display:none;\">\n",
              "        \n",
              "  <svg xmlns=\"http://www.w3.org/2000/svg\" height=\"24px\"viewBox=\"0 0 24 24\"\n",
              "       width=\"24px\">\n",
              "    <path d=\"M0 0h24v24H0V0z\" fill=\"none\"/>\n",
              "    <path d=\"M18.56 5.44l.94 2.06.94-2.06 2.06-.94-2.06-.94-.94-2.06-.94 2.06-2.06.94zm-11 1L8.5 8.5l.94-2.06 2.06-.94-2.06-.94L8.5 2.5l-.94 2.06-2.06.94zm10 10l.94 2.06.94-2.06 2.06-.94-2.06-.94-.94-2.06-.94 2.06-2.06.94z\"/><path d=\"M17.41 7.96l-1.37-1.37c-.4-.4-.92-.59-1.43-.59-.52 0-1.04.2-1.43.59L10.3 9.45l-7.72 7.72c-.78.78-.78 2.05 0 2.83L4 21.41c.39.39.9.59 1.41.59.51 0 1.02-.2 1.41-.59l7.78-7.78 2.81-2.81c.8-.78.8-2.07 0-2.86zM5.41 20L4 18.59l7.72-7.72 1.47 1.35L5.41 20z\"/>\n",
              "  </svg>\n",
              "      </button>\n",
              "      \n",
              "  <style>\n",
              "    .colab-df-container {\n",
              "      display:flex;\n",
              "      flex-wrap:wrap;\n",
              "      gap: 12px;\n",
              "    }\n",
              "\n",
              "    .colab-df-convert {\n",
              "      background-color: #E8F0FE;\n",
              "      border: none;\n",
              "      border-radius: 50%;\n",
              "      cursor: pointer;\n",
              "      display: none;\n",
              "      fill: #1967D2;\n",
              "      height: 32px;\n",
              "      padding: 0 0 0 0;\n",
              "      width: 32px;\n",
              "    }\n",
              "\n",
              "    .colab-df-convert:hover {\n",
              "      background-color: #E2EBFA;\n",
              "      box-shadow: 0px 1px 2px rgba(60, 64, 67, 0.3), 0px 1px 3px 1px rgba(60, 64, 67, 0.15);\n",
              "      fill: #174EA6;\n",
              "    }\n",
              "\n",
              "    [theme=dark] .colab-df-convert {\n",
              "      background-color: #3B4455;\n",
              "      fill: #D2E3FC;\n",
              "    }\n",
              "\n",
              "    [theme=dark] .colab-df-convert:hover {\n",
              "      background-color: #434B5C;\n",
              "      box-shadow: 0px 1px 3px 1px rgba(0, 0, 0, 0.15);\n",
              "      filter: drop-shadow(0px 1px 2px rgba(0, 0, 0, 0.3));\n",
              "      fill: #FFFFFF;\n",
              "    }\n",
              "  </style>\n",
              "\n",
              "      <script>\n",
              "        const buttonEl =\n",
              "          document.querySelector('#df-2db5d0e1-38ef-4bd2-be00-788ddb32b2e5 button.colab-df-convert');\n",
              "        buttonEl.style.display =\n",
              "          google.colab.kernel.accessAllowed ? 'block' : 'none';\n",
              "\n",
              "        async function convertToInteractive(key) {\n",
              "          const element = document.querySelector('#df-2db5d0e1-38ef-4bd2-be00-788ddb32b2e5');\n",
              "          const dataTable =\n",
              "            await google.colab.kernel.invokeFunction('convertToInteractive',\n",
              "                                                     [key], {});\n",
              "          if (!dataTable) return;\n",
              "\n",
              "          const docLinkHtml = 'Like what you see? Visit the ' +\n",
              "            '<a target=\"_blank\" href=https://colab.research.google.com/notebooks/data_table.ipynb>data table notebook</a>'\n",
              "            + ' to learn more about interactive tables.';\n",
              "          element.innerHTML = '';\n",
              "          dataTable['output_type'] = 'display_data';\n",
              "          await google.colab.output.renderOutput(dataTable, element);\n",
              "          const docLink = document.createElement('div');\n",
              "          docLink.innerHTML = docLinkHtml;\n",
              "          element.appendChild(docLink);\n",
              "        }\n",
              "      </script>\n",
              "    </div>\n",
              "  </div>\n",
              "  "
            ]
          },
          "metadata": {},
          "execution_count": 111
        }
      ]
    },
    {
      "cell_type": "markdown",
      "source": [
        "# Saving and loading a trained model"
      ],
      "metadata": {
        "id": "--B3BuLtZzOZ"
      }
    },
    {
      "cell_type": "markdown",
      "source": [
        "Two main ways to save a model in TensorFlow:\n",
        "1. HDF5 format\n",
        "2. SavedModel format (default)"
      ],
      "metadata": {
        "id": "ymfZb7PeZ5HZ"
      }
    },
    {
      "cell_type": "markdown",
      "source": [
        "### HDF5 format"
      ],
      "metadata": {
        "id": "Wz55osk6aJI0"
      }
    },
    {
      "cell_type": "code",
      "source": [
        "# Save TF Hub Sentence Encoder model to HDF5 format\n",
        "model_6.save(\"model_6.h5\")"
      ],
      "metadata": {
        "id": "z9wv-Z8PaB8w"
      },
      "execution_count": null,
      "outputs": []
    },
    {
      "cell_type": "code",
      "source": [
        "# Load model with custom Hub Layer (required with HDF5 format)\n",
        "loaded_model_6 = tf.keras.models.load_model(\"model_6.h5\", \n",
        "                                            custom_objects={\"KerasLayer\": hub.KerasLayer})"
      ],
      "metadata": {
        "id": "LBST_kNAaEME"
      },
      "execution_count": null,
      "outputs": []
    },
    {
      "cell_type": "markdown",
      "source": [
        "### SavedModel Format"
      ],
      "metadata": {
        "id": "w1PM3wZ4aLzh"
      }
    },
    {
      "cell_type": "code",
      "source": [
        "# Save TF Hub Sentence Encoder model to SavedModel format (default)\n",
        "model_6.save(\"model_6_SavedModel_format\")"
      ],
      "metadata": {
        "colab": {
          "base_uri": "https://localhost:8080/"
        },
        "id": "l9dnSUCoaIC4",
        "outputId": "30cd7adb-8499-4817-ef12-a5ff813cf527"
      },
      "execution_count": null,
      "outputs": [
        {
          "output_type": "stream",
          "name": "stderr",
          "text": [
            "WARNING:absl:Function `_wrapped_model` contains input name(s) USE_input with unsupported characters which will be renamed to use_input in the SavedModel.\n"
          ]
        }
      ]
    },
    {
      "cell_type": "code",
      "source": [
        "# Load TF Hub Sentence Encoder SavedModel\n",
        "loaded_model_6_SavedModel = tf.keras.models.load_model(\"model_6_SavedModel_format\")"
      ],
      "metadata": {
        "id": "4RtFv4rNaOfg"
      },
      "execution_count": null,
      "outputs": []
    },
    {
      "cell_type": "code",
      "source": [
        "# Evaluate loaded SavedModel format\n",
        "loaded_model_6_SavedModel.evaluate(val_sentences, val_labels)"
      ],
      "metadata": {
        "colab": {
          "base_uri": "https://localhost:8080/"
        },
        "id": "cZS8mGA9aR44",
        "outputId": "ebe1f9f4-3dc7-4af2-85c1-b0dd6a5dba73"
      },
      "execution_count": null,
      "outputs": [
        {
          "output_type": "stream",
          "name": "stdout",
          "text": [
            "24/24 [==============================] - 1s 11ms/step - loss: 0.4287 - accuracy: 0.8136\n"
          ]
        },
        {
          "output_type": "execute_result",
          "data": {
            "text/plain": [
              "[0.4287264049053192, 0.8136482834815979]"
            ]
          },
          "metadata": {},
          "execution_count": 118
        }
      ]
    },
    {
      "cell_type": "markdown",
      "source": [
        "# Finding the most wrong examples"
      ],
      "metadata": {
        "id": "0VQgqc-TaTgH"
      }
    },
    {
      "cell_type": "markdown",
      "source": [
        " Find the samples the model got most wrong, meaning, what predictions had a high prediction probability but turned out to be wrong"
      ],
      "metadata": {
        "id": "d0Xmp22zaYzO"
      }
    },
    {
      "cell_type": "code",
      "source": [
        "# Create dataframe with validation sentences and best performing model predictions\n",
        "val_df = pd.DataFrame({\"text\": val_sentences,\n",
        "                       \"target\": val_labels,\n",
        "                       \"pred\": model_6_preds, # Best performing model\n",
        "                       \"pred_prob\": tf.squeeze(model_6_pred_probs)})\n",
        "val_df.head()"
      ],
      "metadata": {
        "colab": {
          "base_uri": "https://localhost:8080/",
          "height": 206
        },
        "id": "ctKqsn2_ahh2",
        "outputId": "f9b092df-2dec-45d4-aa75-38782ffc6863"
      },
      "execution_count": null,
      "outputs": [
        {
          "output_type": "execute_result",
          "data": {
            "text/plain": [
              "                                                text  target  pred  pred_prob\n",
              "0  DFR EP016 Monthly Meltdown - On Dnbheaven 2015...       0   0.0   0.152370\n",
              "1  FedEx no longer to transport bioterror germs i...       0   1.0   0.746171\n",
              "2  Gunmen kill four in El Salvador bus attack: Su...       1   1.0   0.988099\n",
              "3  @camilacabello97 Internally and externally scr...       1   0.0   0.185158\n",
              "4  Radiation emergency #preparedness starts with ...       1   1.0   0.716856"
            ],
            "text/html": [
              "\n",
              "  <div id=\"df-ebef2f6a-4ddd-49ab-9cba-05c576e137c0\">\n",
              "    <div class=\"colab-df-container\">\n",
              "      <div>\n",
              "<style scoped>\n",
              "    .dataframe tbody tr th:only-of-type {\n",
              "        vertical-align: middle;\n",
              "    }\n",
              "\n",
              "    .dataframe tbody tr th {\n",
              "        vertical-align: top;\n",
              "    }\n",
              "\n",
              "    .dataframe thead th {\n",
              "        text-align: right;\n",
              "    }\n",
              "</style>\n",
              "<table border=\"1\" class=\"dataframe\">\n",
              "  <thead>\n",
              "    <tr style=\"text-align: right;\">\n",
              "      <th></th>\n",
              "      <th>text</th>\n",
              "      <th>target</th>\n",
              "      <th>pred</th>\n",
              "      <th>pred_prob</th>\n",
              "    </tr>\n",
              "  </thead>\n",
              "  <tbody>\n",
              "    <tr>\n",
              "      <th>0</th>\n",
              "      <td>DFR EP016 Monthly Meltdown - On Dnbheaven 2015...</td>\n",
              "      <td>0</td>\n",
              "      <td>0.0</td>\n",
              "      <td>0.152370</td>\n",
              "    </tr>\n",
              "    <tr>\n",
              "      <th>1</th>\n",
              "      <td>FedEx no longer to transport bioterror germs i...</td>\n",
              "      <td>0</td>\n",
              "      <td>1.0</td>\n",
              "      <td>0.746171</td>\n",
              "    </tr>\n",
              "    <tr>\n",
              "      <th>2</th>\n",
              "      <td>Gunmen kill four in El Salvador bus attack: Su...</td>\n",
              "      <td>1</td>\n",
              "      <td>1.0</td>\n",
              "      <td>0.988099</td>\n",
              "    </tr>\n",
              "    <tr>\n",
              "      <th>3</th>\n",
              "      <td>@camilacabello97 Internally and externally scr...</td>\n",
              "      <td>1</td>\n",
              "      <td>0.0</td>\n",
              "      <td>0.185158</td>\n",
              "    </tr>\n",
              "    <tr>\n",
              "      <th>4</th>\n",
              "      <td>Radiation emergency #preparedness starts with ...</td>\n",
              "      <td>1</td>\n",
              "      <td>1.0</td>\n",
              "      <td>0.716856</td>\n",
              "    </tr>\n",
              "  </tbody>\n",
              "</table>\n",
              "</div>\n",
              "      <button class=\"colab-df-convert\" onclick=\"convertToInteractive('df-ebef2f6a-4ddd-49ab-9cba-05c576e137c0')\"\n",
              "              title=\"Convert this dataframe to an interactive table.\"\n",
              "              style=\"display:none;\">\n",
              "        \n",
              "  <svg xmlns=\"http://www.w3.org/2000/svg\" height=\"24px\"viewBox=\"0 0 24 24\"\n",
              "       width=\"24px\">\n",
              "    <path d=\"M0 0h24v24H0V0z\" fill=\"none\"/>\n",
              "    <path d=\"M18.56 5.44l.94 2.06.94-2.06 2.06-.94-2.06-.94-.94-2.06-.94 2.06-2.06.94zm-11 1L8.5 8.5l.94-2.06 2.06-.94-2.06-.94L8.5 2.5l-.94 2.06-2.06.94zm10 10l.94 2.06.94-2.06 2.06-.94-2.06-.94-.94-2.06-.94 2.06-2.06.94z\"/><path d=\"M17.41 7.96l-1.37-1.37c-.4-.4-.92-.59-1.43-.59-.52 0-1.04.2-1.43.59L10.3 9.45l-7.72 7.72c-.78.78-.78 2.05 0 2.83L4 21.41c.39.39.9.59 1.41.59.51 0 1.02-.2 1.41-.59l7.78-7.78 2.81-2.81c.8-.78.8-2.07 0-2.86zM5.41 20L4 18.59l7.72-7.72 1.47 1.35L5.41 20z\"/>\n",
              "  </svg>\n",
              "      </button>\n",
              "      \n",
              "  <style>\n",
              "    .colab-df-container {\n",
              "      display:flex;\n",
              "      flex-wrap:wrap;\n",
              "      gap: 12px;\n",
              "    }\n",
              "\n",
              "    .colab-df-convert {\n",
              "      background-color: #E8F0FE;\n",
              "      border: none;\n",
              "      border-radius: 50%;\n",
              "      cursor: pointer;\n",
              "      display: none;\n",
              "      fill: #1967D2;\n",
              "      height: 32px;\n",
              "      padding: 0 0 0 0;\n",
              "      width: 32px;\n",
              "    }\n",
              "\n",
              "    .colab-df-convert:hover {\n",
              "      background-color: #E2EBFA;\n",
              "      box-shadow: 0px 1px 2px rgba(60, 64, 67, 0.3), 0px 1px 3px 1px rgba(60, 64, 67, 0.15);\n",
              "      fill: #174EA6;\n",
              "    }\n",
              "\n",
              "    [theme=dark] .colab-df-convert {\n",
              "      background-color: #3B4455;\n",
              "      fill: #D2E3FC;\n",
              "    }\n",
              "\n",
              "    [theme=dark] .colab-df-convert:hover {\n",
              "      background-color: #434B5C;\n",
              "      box-shadow: 0px 1px 3px 1px rgba(0, 0, 0, 0.15);\n",
              "      filter: drop-shadow(0px 1px 2px rgba(0, 0, 0, 0.3));\n",
              "      fill: #FFFFFF;\n",
              "    }\n",
              "  </style>\n",
              "\n",
              "      <script>\n",
              "        const buttonEl =\n",
              "          document.querySelector('#df-ebef2f6a-4ddd-49ab-9cba-05c576e137c0 button.colab-df-convert');\n",
              "        buttonEl.style.display =\n",
              "          google.colab.kernel.accessAllowed ? 'block' : 'none';\n",
              "\n",
              "        async function convertToInteractive(key) {\n",
              "          const element = document.querySelector('#df-ebef2f6a-4ddd-49ab-9cba-05c576e137c0');\n",
              "          const dataTable =\n",
              "            await google.colab.kernel.invokeFunction('convertToInteractive',\n",
              "                                                     [key], {});\n",
              "          if (!dataTable) return;\n",
              "\n",
              "          const docLinkHtml = 'Like what you see? Visit the ' +\n",
              "            '<a target=\"_blank\" href=https://colab.research.google.com/notebooks/data_table.ipynb>data table notebook</a>'\n",
              "            + ' to learn more about interactive tables.';\n",
              "          element.innerHTML = '';\n",
              "          dataTable['output_type'] = 'display_data';\n",
              "          await google.colab.output.renderOutput(dataTable, element);\n",
              "          const docLink = document.createElement('div');\n",
              "          docLink.innerHTML = docLinkHtml;\n",
              "          element.appendChild(docLink);\n",
              "        }\n",
              "      </script>\n",
              "    </div>\n",
              "  </div>\n",
              "  "
            ]
          },
          "metadata": {},
          "execution_count": 119
        }
      ]
    },
    {
      "cell_type": "code",
      "source": [
        "# Find the wrong predictions (where target != pred) and sort by prediction probabilities\n",
        "most_wrong = val_df[val_df[\"target\"] != val_df[\"pred\"]].sort_values(\"pred_prob\", ascending=False)\n",
        "most_wrong[:10]"
      ],
      "metadata": {
        "colab": {
          "base_uri": "https://localhost:8080/",
          "height": 363
        },
        "id": "HuHvZAYkamvG",
        "outputId": "ddf6d1e7-557a-4b97-f309-671b931de492"
      },
      "execution_count": null,
      "outputs": [
        {
          "output_type": "execute_result",
          "data": {
            "text/plain": [
              "                                                  text  target  pred  \\\n",
              "31   ? High Skies - Burning Buildings ? http://t.co...       0   1.0   \n",
              "759  FedEx will no longer transport bioterror patho...       0   1.0   \n",
              "49   @madonnamking RSPCA site multiple 7 story high...       0   1.0   \n",
              "628  @noah_anyname That's where the concentration c...       0   1.0   \n",
              "393  @SonofLiberty357 all illuminated by the bright...       0   1.0   \n",
              "209  Ashes 2015: AustraliaÛªs collapse at Trent Br...       0   1.0   \n",
              "109  [55436] 1950 LIONEL TRAINS SMOKE LOCOMOTIVES W...       0   1.0   \n",
              "251  @AshGhebranious civil rights continued in the ...       0   1.0   \n",
              "144                                 The Sound of Arson       0   1.0   \n",
              "698  åÈMGN-AFRICAå¨ pin:263789F4 åÈ Correction: Ten...       0   1.0   \n",
              "\n",
              "     pred_prob  \n",
              "31    0.904926  \n",
              "759   0.862160  \n",
              "49    0.842515  \n",
              "628   0.840320  \n",
              "393   0.828434  \n",
              "209   0.813758  \n",
              "109   0.796642  \n",
              "251   0.785459  \n",
              "144   0.770191  \n",
              "698   0.759123  "
            ],
            "text/html": [
              "\n",
              "  <div id=\"df-8cbd2f01-1c74-41bc-90af-cbd930d298d0\">\n",
              "    <div class=\"colab-df-container\">\n",
              "      <div>\n",
              "<style scoped>\n",
              "    .dataframe tbody tr th:only-of-type {\n",
              "        vertical-align: middle;\n",
              "    }\n",
              "\n",
              "    .dataframe tbody tr th {\n",
              "        vertical-align: top;\n",
              "    }\n",
              "\n",
              "    .dataframe thead th {\n",
              "        text-align: right;\n",
              "    }\n",
              "</style>\n",
              "<table border=\"1\" class=\"dataframe\">\n",
              "  <thead>\n",
              "    <tr style=\"text-align: right;\">\n",
              "      <th></th>\n",
              "      <th>text</th>\n",
              "      <th>target</th>\n",
              "      <th>pred</th>\n",
              "      <th>pred_prob</th>\n",
              "    </tr>\n",
              "  </thead>\n",
              "  <tbody>\n",
              "    <tr>\n",
              "      <th>31</th>\n",
              "      <td>? High Skies - Burning Buildings ? http://t.co...</td>\n",
              "      <td>0</td>\n",
              "      <td>1.0</td>\n",
              "      <td>0.904926</td>\n",
              "    </tr>\n",
              "    <tr>\n",
              "      <th>759</th>\n",
              "      <td>FedEx will no longer transport bioterror patho...</td>\n",
              "      <td>0</td>\n",
              "      <td>1.0</td>\n",
              "      <td>0.862160</td>\n",
              "    </tr>\n",
              "    <tr>\n",
              "      <th>49</th>\n",
              "      <td>@madonnamking RSPCA site multiple 7 story high...</td>\n",
              "      <td>0</td>\n",
              "      <td>1.0</td>\n",
              "      <td>0.842515</td>\n",
              "    </tr>\n",
              "    <tr>\n",
              "      <th>628</th>\n",
              "      <td>@noah_anyname That's where the concentration c...</td>\n",
              "      <td>0</td>\n",
              "      <td>1.0</td>\n",
              "      <td>0.840320</td>\n",
              "    </tr>\n",
              "    <tr>\n",
              "      <th>393</th>\n",
              "      <td>@SonofLiberty357 all illuminated by the bright...</td>\n",
              "      <td>0</td>\n",
              "      <td>1.0</td>\n",
              "      <td>0.828434</td>\n",
              "    </tr>\n",
              "    <tr>\n",
              "      <th>209</th>\n",
              "      <td>Ashes 2015: AustraliaÛªs collapse at Trent Br...</td>\n",
              "      <td>0</td>\n",
              "      <td>1.0</td>\n",
              "      <td>0.813758</td>\n",
              "    </tr>\n",
              "    <tr>\n",
              "      <th>109</th>\n",
              "      <td>[55436] 1950 LIONEL TRAINS SMOKE LOCOMOTIVES W...</td>\n",
              "      <td>0</td>\n",
              "      <td>1.0</td>\n",
              "      <td>0.796642</td>\n",
              "    </tr>\n",
              "    <tr>\n",
              "      <th>251</th>\n",
              "      <td>@AshGhebranious civil rights continued in the ...</td>\n",
              "      <td>0</td>\n",
              "      <td>1.0</td>\n",
              "      <td>0.785459</td>\n",
              "    </tr>\n",
              "    <tr>\n",
              "      <th>144</th>\n",
              "      <td>The Sound of Arson</td>\n",
              "      <td>0</td>\n",
              "      <td>1.0</td>\n",
              "      <td>0.770191</td>\n",
              "    </tr>\n",
              "    <tr>\n",
              "      <th>698</th>\n",
              "      <td>åÈMGN-AFRICAå¨ pin:263789F4 åÈ Correction: Ten...</td>\n",
              "      <td>0</td>\n",
              "      <td>1.0</td>\n",
              "      <td>0.759123</td>\n",
              "    </tr>\n",
              "  </tbody>\n",
              "</table>\n",
              "</div>\n",
              "      <button class=\"colab-df-convert\" onclick=\"convertToInteractive('df-8cbd2f01-1c74-41bc-90af-cbd930d298d0')\"\n",
              "              title=\"Convert this dataframe to an interactive table.\"\n",
              "              style=\"display:none;\">\n",
              "        \n",
              "  <svg xmlns=\"http://www.w3.org/2000/svg\" height=\"24px\"viewBox=\"0 0 24 24\"\n",
              "       width=\"24px\">\n",
              "    <path d=\"M0 0h24v24H0V0z\" fill=\"none\"/>\n",
              "    <path d=\"M18.56 5.44l.94 2.06.94-2.06 2.06-.94-2.06-.94-.94-2.06-.94 2.06-2.06.94zm-11 1L8.5 8.5l.94-2.06 2.06-.94-2.06-.94L8.5 2.5l-.94 2.06-2.06.94zm10 10l.94 2.06.94-2.06 2.06-.94-2.06-.94-.94-2.06-.94 2.06-2.06.94z\"/><path d=\"M17.41 7.96l-1.37-1.37c-.4-.4-.92-.59-1.43-.59-.52 0-1.04.2-1.43.59L10.3 9.45l-7.72 7.72c-.78.78-.78 2.05 0 2.83L4 21.41c.39.39.9.59 1.41.59.51 0 1.02-.2 1.41-.59l7.78-7.78 2.81-2.81c.8-.78.8-2.07 0-2.86zM5.41 20L4 18.59l7.72-7.72 1.47 1.35L5.41 20z\"/>\n",
              "  </svg>\n",
              "      </button>\n",
              "      \n",
              "  <style>\n",
              "    .colab-df-container {\n",
              "      display:flex;\n",
              "      flex-wrap:wrap;\n",
              "      gap: 12px;\n",
              "    }\n",
              "\n",
              "    .colab-df-convert {\n",
              "      background-color: #E8F0FE;\n",
              "      border: none;\n",
              "      border-radius: 50%;\n",
              "      cursor: pointer;\n",
              "      display: none;\n",
              "      fill: #1967D2;\n",
              "      height: 32px;\n",
              "      padding: 0 0 0 0;\n",
              "      width: 32px;\n",
              "    }\n",
              "\n",
              "    .colab-df-convert:hover {\n",
              "      background-color: #E2EBFA;\n",
              "      box-shadow: 0px 1px 2px rgba(60, 64, 67, 0.3), 0px 1px 3px 1px rgba(60, 64, 67, 0.15);\n",
              "      fill: #174EA6;\n",
              "    }\n",
              "\n",
              "    [theme=dark] .colab-df-convert {\n",
              "      background-color: #3B4455;\n",
              "      fill: #D2E3FC;\n",
              "    }\n",
              "\n",
              "    [theme=dark] .colab-df-convert:hover {\n",
              "      background-color: #434B5C;\n",
              "      box-shadow: 0px 1px 3px 1px rgba(0, 0, 0, 0.15);\n",
              "      filter: drop-shadow(0px 1px 2px rgba(0, 0, 0, 0.3));\n",
              "      fill: #FFFFFF;\n",
              "    }\n",
              "  </style>\n",
              "\n",
              "      <script>\n",
              "        const buttonEl =\n",
              "          document.querySelector('#df-8cbd2f01-1c74-41bc-90af-cbd930d298d0 button.colab-df-convert');\n",
              "        buttonEl.style.display =\n",
              "          google.colab.kernel.accessAllowed ? 'block' : 'none';\n",
              "\n",
              "        async function convertToInteractive(key) {\n",
              "          const element = document.querySelector('#df-8cbd2f01-1c74-41bc-90af-cbd930d298d0');\n",
              "          const dataTable =\n",
              "            await google.colab.kernel.invokeFunction('convertToInteractive',\n",
              "                                                     [key], {});\n",
              "          if (!dataTable) return;\n",
              "\n",
              "          const docLinkHtml = 'Like what you see? Visit the ' +\n",
              "            '<a target=\"_blank\" href=https://colab.research.google.com/notebooks/data_table.ipynb>data table notebook</a>'\n",
              "            + ' to learn more about interactive tables.';\n",
              "          element.innerHTML = '';\n",
              "          dataTable['output_type'] = 'display_data';\n",
              "          await google.colab.output.renderOutput(dataTable, element);\n",
              "          const docLink = document.createElement('div');\n",
              "          docLink.innerHTML = docLinkHtml;\n",
              "          element.appendChild(docLink);\n",
              "        }\n",
              "      </script>\n",
              "    </div>\n",
              "  </div>\n",
              "  "
            ]
          },
          "metadata": {},
          "execution_count": 120
        }
      ]
    },
    {
      "cell_type": "code",
      "source": [
        "# Check the false positives (model predicted 1 when should've been 0)\n",
        "for row in most_wrong[:10].itertuples(): # loop through the top 10 rows (change the index to view different rows)\n",
        "  _, text, target, pred, prob = row\n",
        "  print(f\"Target: {target}, Pred: {int(pred)}, Prob: {prob}\")\n",
        "  print(f\"Text:\\n{text}\\n\")\n",
        "  print(\"----\\n\")"
      ],
      "metadata": {
        "colab": {
          "base_uri": "https://localhost:8080/"
        },
        "id": "GmgszGyWazQm",
        "outputId": "6cb47cec-d6ff-44bc-b3ab-2a2843e1bd1b"
      },
      "execution_count": null,
      "outputs": [
        {
          "output_type": "stream",
          "name": "stdout",
          "text": [
            "Target: 0, Pred: 1, Prob: 0.9049258232116699\n",
            "Text:\n",
            "? High Skies - Burning Buildings ? http://t.co/uVq41i3Kx2 #nowplaying\n",
            "\n",
            "----\n",
            "\n",
            "Target: 0, Pred: 1, Prob: 0.8621602654457092\n",
            "Text:\n",
            "FedEx will no longer transport bioterror pathogens in wake of anthrax lab mishaps http://t.co/lHpgxc4b8J\n",
            "\n",
            "----\n",
            "\n",
            "Target: 0, Pred: 1, Prob: 0.8425152897834778\n",
            "Text:\n",
            "@madonnamking RSPCA site multiple 7 story high rise buildings next to low density character residential in an area that floods\n",
            "\n",
            "----\n",
            "\n",
            "Target: 0, Pred: 1, Prob: 0.8403202891349792\n",
            "Text:\n",
            "@noah_anyname That's where the concentration camps and mass murder come in. \n",
            " \n",
            "EVERY. FUCKING. TIME.\n",
            "\n",
            "----\n",
            "\n",
            "Target: 0, Pred: 1, Prob: 0.8284343481063843\n",
            "Text:\n",
            "@SonofLiberty357 all illuminated by the brightly burning buildings all around the town!\n",
            "\n",
            "----\n",
            "\n",
            "Target: 0, Pred: 1, Prob: 0.8137577772140503\n",
            "Text:\n",
            "Ashes 2015: AustraliaÛªs collapse at Trent Bridge among worst in history: England bundled out Australia for 60 ... http://t.co/t5TrhjUAU0\n",
            "\n",
            "----\n",
            "\n",
            "Target: 0, Pred: 1, Prob: 0.7966423630714417\n",
            "Text:\n",
            "[55436] 1950 LIONEL TRAINS SMOKE LOCOMOTIVES WITH MAGNE-TRACTION INSTRUCTIONS http://t.co/xEZBs3sq0y http://t.co/C2x0QoKGlY\n",
            "\n",
            "----\n",
            "\n",
            "Target: 0, Pred: 1, Prob: 0.7854585647583008\n",
            "Text:\n",
            "@AshGhebranious civil rights continued in the 60s. And what about trans-generational trauma? if anything we should listen to the Americans.\n",
            "\n",
            "----\n",
            "\n",
            "Target: 0, Pred: 1, Prob: 0.7701914310455322\n",
            "Text:\n",
            "The Sound of Arson\n",
            "\n",
            "----\n",
            "\n",
            "Target: 0, Pred: 1, Prob: 0.7591227889060974\n",
            "Text:\n",
            "åÈMGN-AFRICAå¨ pin:263789F4 åÈ Correction: Tent Collapse Story: Correction: Tent Collapse story åÈ http://t.co/fDJUYvZMrv @wizkidayo\n",
            "\n",
            "----\n",
            "\n"
          ]
        }
      ]
    },
    {
      "cell_type": "code",
      "source": [
        "# Check the most wrong false negatives (model predicted 0 when should've predict 1)\n",
        "for row in most_wrong[-10:].itertuples():\n",
        "  _, text, target, pred, prob = row\n",
        "  print(f\"Target: {target}, Pred: {int(pred)}, Prob: {prob}\")\n",
        "  print(f\"Text:\\n{text}\\n\")\n",
        "  print(\"----\\n\")"
      ],
      "metadata": {
        "colab": {
          "base_uri": "https://localhost:8080/"
        },
        "id": "TonxJQzGbAxe",
        "outputId": "c4550de7-aa79-490a-8f0e-7f7303eb70a2"
      },
      "execution_count": null,
      "outputs": [
        {
          "output_type": "stream",
          "name": "stdout",
          "text": [
            "Target: 1, Pred: 0, Prob: 0.0615425631403923\n",
            "Text:\n",
            "Lucas Duda is Ghost Rider. Not the Nic Cage version but an actual 'engulfed in flames' badass. #Mets\n",
            "\n",
            "----\n",
            "\n",
            "Target: 1, Pred: 0, Prob: 0.05836540088057518\n",
            "Text:\n",
            "Next May I'll be free...from school from obligations like family.... Best of all that damn curfew...\n",
            "\n",
            "----\n",
            "\n",
            "Target: 1, Pred: 0, Prob: 0.05819017440080643\n",
            "Text:\n",
            "@BoyInAHorsemask its a panda trapped in a dogs body\n",
            "\n",
            "----\n",
            "\n",
            "Target: 1, Pred: 0, Prob: 0.054131440818309784\n",
            "Text:\n",
            "@willienelson We need help! Horses will die!Please RT &amp; sign petition!Take a stand &amp; be a voice for them! #gilbert23 https://t.co/e8dl1lNCVu\n",
            "\n",
            "----\n",
            "\n",
            "Target: 1, Pred: 0, Prob: 0.05393725633621216\n",
            "Text:\n",
            "You can never escape me. Bullets don't harm me. Nothing harms me. But I know pain. I know pain. Sometimes I share it. With someone like you.\n",
            "\n",
            "----\n",
            "\n",
            "Target: 1, Pred: 0, Prob: 0.047552745789289474\n",
            "Text:\n",
            "I get to smoke my shit in peace\n",
            "\n",
            "----\n",
            "\n",
            "Target: 1, Pred: 0, Prob: 0.03873808681964874\n",
            "Text:\n",
            "Reddit Will Now QuarantineÛ_ http://t.co/pkUAMXw6pm #onlinecommunities #reddit #amageddon #freespeech #Business http://t.co/PAWvNJ4sAP\n",
            "\n",
            "----\n",
            "\n",
            "Target: 1, Pred: 0, Prob: 0.03836718574166298\n",
            "Text:\n",
            "@SoonerMagic_ I mean I'm a fan but I don't need a girl sounding off like a damn siren\n",
            "\n",
            "----\n",
            "\n",
            "Target: 1, Pred: 0, Prob: 0.030815349891781807\n",
            "Text:\n",
            "Why are you deluged with low self-image? Take the quiz: http://t.co/XsPqdOrIqj http://t.co/CQYvFR4UCy\n",
            "\n",
            "----\n",
            "\n",
            "Target: 1, Pred: 0, Prob: 0.02887958474457264\n",
            "Text:\n",
            "Ron &amp; Fez - Dave's High School Crush https://t.co/aN3W16c8F6 via @YouTube\n",
            "\n",
            "----\n",
            "\n"
          ]
        }
      ]
    },
    {
      "cell_type": "markdown",
      "source": [
        "#### Looks like the ground truths for these False Negatives aren't correct....."
      ],
      "metadata": {
        "id": "l95lqZ9sbGv8"
      }
    },
    {
      "cell_type": "markdown",
      "source": [
        "# Making predictions on the test dataset\n",
        "\n",
        "\n",
        "We don't have labels for the test dataset so we're going to have to make some predictions and inspect them for ourselves."
      ],
      "metadata": {
        "id": "6IK6SBFZbUMr"
      }
    },
    {
      "cell_type": "code",
      "source": [
        "# Making predictions on the test dataset\n",
        "test_sentences = test_df[\"text\"].to_list()\n",
        "test_samples = random.sample(test_sentences, 10)\n",
        "for test_sample in test_samples:\n",
        "  pred_prob = tf.squeeze(model_6.predict([test_sample])) # has to be list\n",
        "  pred = tf.round(pred_prob)\n",
        "  print(f\"Pred: {int(pred)}, Prob: {pred_prob}\")\n",
        "  print(f\"Text:\\n{test_sample}\\n\")\n",
        "  print(\"----\\n\")"
      ],
      "metadata": {
        "colab": {
          "base_uri": "https://localhost:8080/"
        },
        "id": "P1H8VX2XbX18",
        "outputId": "33d4ce9b-8b58-4761-ac5a-d74bd7ce93d7"
      },
      "execution_count": null,
      "outputs": [
        {
          "output_type": "stream",
          "name": "stdout",
          "text": [
            "1/1 [==============================] - 0s 78ms/step\n",
            "Pred: 0, Prob: 0.09091482311487198\n",
            "Text:\n",
            "Lupe know how to rap about social issues and not be boring.  American Terrorist All Black Everything and Little weapon are good examples\n",
            "\n",
            "----\n",
            "\n",
            "1/1 [==============================] - 0s 61ms/step\n",
            "Pred: 1, Prob: 0.6997971534729004\n",
            "Text:\n",
            "@twlldun @peterjukes It's a very good piece. And I agree the failure of post-war planning was the catastrophe.\n",
            "\n",
            "----\n",
            "\n",
            "1/1 [==============================] - 0s 65ms/step\n",
            "Pred: 0, Prob: 0.0411415733397007\n",
            "Text:\n",
            "Tonight It's Going To Be Mayhem @ #4PlayThursdays. Everybody Free w/ Text. 1716 I ST NW (18+) http://t.co/iW2OTzQFkH\n",
            "\n",
            "----\n",
            "\n",
            "1/1 [==============================] - 0s 69ms/step\n",
            "Pred: 0, Prob: 0.3763648569583893\n",
            "Text:\n",
            "ThorCon: A Thorium Molten Salt Reactor System that can be built Now https://t.co/K90M1qoE9q #thorium #Auspol #climate #nuclearrcSA #nuclear\n",
            "\n",
            "----\n",
            "\n",
            "1/1 [==============================] - 0s 60ms/step\n",
            "Pred: 1, Prob: 0.746320366859436\n",
            "Text:\n",
            "#LMÛªs @frauncestavern named one of the historic properties granted $$ by @NYGovCuomo to repair #Sandy damage http://t.co/OcAdC8vFyF\n",
            "\n",
            "----\n",
            "\n",
            "1/1 [==============================] - 0s 68ms/step\n",
            "Pred: 0, Prob: 0.05421101301908493\n",
            "Text:\n",
            "@VacantLDN this may be a peculiar compliment but I would be incapable of doing my research w/out the desolate headspace your music provides\n",
            "\n",
            "----\n",
            "\n",
            "1/1 [==============================] - 0s 143ms/step\n",
            "Pred: 1, Prob: 0.5084542632102966\n",
            "Text:\n",
            "Fairfax Co. investigating firefighter Khalil Abdul-Rasheed for Facebook post saying police shld be put in body bags\n",
            "\n",
            "http://t.co/VpvskCIyro\n",
            "\n",
            "----\n",
            "\n",
            "1/1 [==============================] - 0s 135ms/step\n",
            "Pred: 1, Prob: 0.5895124077796936\n",
            "Text:\n",
            "Apocalypse no! Why artists should not go into the #Fukushima exclusion zone \n",
            "http://t.co/3zqL0qbLUw\n",
            "#nuclear #ura\n",
            "\n",
            "----\n",
            "\n",
            "1/1 [==============================] - 0s 193ms/step\n",
            "Pred: 0, Prob: 0.07872961461544037\n",
            "Text:\n",
            "Oops! I say he picked the right car to try hijacking.  https://t.co/SoMgI7hwli\n",
            "\n",
            "----\n",
            "\n",
            "1/1 [==============================] - 0s 57ms/step\n",
            "Pred: 1, Prob: 0.9128972291946411\n",
            "Text:\n",
            "Two giant cranes holding a bridge collapse into nearby homes http://t.co/Mqm46H6G8b\n",
            "\n",
            "----\n",
            "\n"
          ]
        }
      ]
    },
    {
      "cell_type": "markdown",
      "source": [
        "# Predicting on Tweets from the wild"
      ],
      "metadata": {
        "id": "0dV1U1jgbZOT"
      }
    },
    {
      "cell_type": "code",
      "source": [
        "# Turn Tweet into string\n",
        "kevins_tweet = \"Listen to understand, not to respond\""
      ],
      "metadata": {
        "id": "l-5uWe4Hbm3y"
      },
      "execution_count": null,
      "outputs": []
    },
    {
      "cell_type": "code",
      "source": [
        "def predict_on_sentence(model, sentence):\n",
        "  \"\"\"\n",
        "  Uses model to make a prediction on sentence.\n",
        "\n",
        "  Returns the sentence, the predicted label and the prediction probability.\n",
        "  \"\"\"\n",
        "  pred_prob = model.predict([sentence])\n",
        "  pred_label = tf.squeeze(tf.round(pred_prob)).numpy()\n",
        "  print(f\"Pred: {pred_label}\", \"(real disaster)\" if pred_label > 0 else \"(not real disaster)\", f\"Prob: {pred_prob[0][0]}\")\n",
        "  print(f\"Text:\\n{sentence}\")"
      ],
      "metadata": {
        "id": "NWgTxTeTboAa"
      },
      "execution_count": null,
      "outputs": []
    },
    {
      "cell_type": "code",
      "source": [
        "# Make a prediction on Tweet from the wild\n",
        "predict_on_sentence(model=model_6, # use the USE model\n",
        "                    sentence=kevins_tweet)"
      ],
      "metadata": {
        "colab": {
          "base_uri": "https://localhost:8080/"
        },
        "id": "2I0C-7xNbo8q",
        "outputId": "823a9184-f5e0-49ce-f2e7-c4e141c56751"
      },
      "execution_count": null,
      "outputs": [
        {
          "output_type": "stream",
          "name": "stdout",
          "text": [
            "1/1 [==============================] - 0s 38ms/step\n",
            "Pred: 0.0 (not real disaster) Prob: 0.13829046487808228\n",
            "Text:\n",
            "Listen to understand, not to respond\n"
          ]
        }
      ]
    },
    {
      "cell_type": "code",
      "source": [
        "# Some examples of disaster tweets\n",
        "\n",
        "# Source - https://twitter.com/BeirutCityGuide/status/1290696551376007168\n",
        "beirut_tweet_1 = \"Reports that the smoke in Beirut sky contains nitric acid, which is toxic. Please share and refrain from stepping outside unless urgent. #Lebanon\"\n",
        "\n",
        "# Source - https://twitter.com/BeirutCityGuide/status/1290773498743476224\n",
        "beirut_tweet_2 = \"#Beirut declared a “devastated city”, two-week state of emergency officially declared. #Lebanon\""
      ],
      "metadata": {
        "id": "VP-QWgKrbriq"
      },
      "execution_count": null,
      "outputs": []
    },
    {
      "cell_type": "code",
      "source": [
        "# Predict on diaster Tweet 1\n",
        "predict_on_sentence(model=model_6, \n",
        "                    sentence=beirut_tweet_1)"
      ],
      "metadata": {
        "colab": {
          "base_uri": "https://localhost:8080/"
        },
        "id": "R3hMZzOjb5_S",
        "outputId": "4284fedc-fea7-4a8f-ae4e-52bff24355a1"
      },
      "execution_count": null,
      "outputs": [
        {
          "output_type": "stream",
          "name": "stdout",
          "text": [
            "1/1 [==============================] - 0s 58ms/step\n",
            "Pred: 1.0 (real disaster) Prob: 0.9624468684196472\n",
            "Text:\n",
            "Reports that the smoke in Beirut sky contains nitric acid, which is toxic. Please share and refrain from stepping outside unless urgent. #Lebanon\n"
          ]
        }
      ]
    },
    {
      "cell_type": "code",
      "source": [
        "# Predict on diaster Tweet 2\n",
        "predict_on_sentence(model=model_6, \n",
        "                    sentence=beirut_tweet_2)"
      ],
      "metadata": {
        "colab": {
          "base_uri": "https://localhost:8080/"
        },
        "id": "Wmjgy8wAb6OB",
        "outputId": "e665576d-e809-43ea-c45d-951132c1ddda"
      },
      "execution_count": null,
      "outputs": [
        {
          "output_type": "stream",
          "name": "stdout",
          "text": [
            "1/1 [==============================] - 0s 143ms/step\n",
            "Pred: 1.0 (real disaster) Prob: 0.9696242213249207\n",
            "Text:\n",
            "#Beirut declared a “devastated city”, two-week state of emergency officially declared. #Lebanon\n"
          ]
        }
      ]
    },
    {
      "cell_type": "markdown",
      "source": [
        "# The speed/score tradeoff"
      ],
      "metadata": {
        "id": "67trKb5_b7DJ"
      }
    },
    {
      "cell_type": "markdown",
      "source": [
        "The point here is to illustrate the best model you find through experimentation, might not be the model you end up using in production."
      ],
      "metadata": {
        "id": "jte4DQMab_fi"
      }
    },
    {
      "cell_type": "code",
      "source": [
        "# Calculate the time of predictions\n",
        "import time\n",
        "def pred_timer(model, samples):\n",
        "  \"\"\"\n",
        "  Times how long a model takes to make predictions on samples.\n",
        "  \n",
        "  Args:\n",
        "  ----\n",
        "  model = a trained model\n",
        "  sample = a list of samples\n",
        "\n",
        "  Returns:\n",
        "  ----\n",
        "  total_time = total elapsed time for model to make predictions on samples\n",
        "  time_per_pred = time in seconds per single sample\n",
        "  \"\"\"\n",
        "  start_time = time.perf_counter() # get start time\n",
        "  model.predict(samples) # make predictions\n",
        "  end_time = time.perf_counter() # get finish time\n",
        "  total_time = end_time-start_time # calculate how long predictions took to make\n",
        "  time_per_pred = total_time/len(val_sentences) # find prediction time per sample\n",
        "  return total_time, time_per_pred"
      ],
      "metadata": {
        "id": "mKJClJxlcJXw"
      },
      "execution_count": null,
      "outputs": []
    },
    {
      "cell_type": "code",
      "source": [
        "# Calculate TF Hub Sentence Encoder prediction times\n",
        "model_6_total_pred_time, model_6_time_per_pred = pred_timer(model_6, val_sentences)\n",
        "model_6_total_pred_time, model_6_time_per_pred"
      ],
      "metadata": {
        "colab": {
          "base_uri": "https://localhost:8080/"
        },
        "id": "3OoEmyjJcK0B",
        "outputId": "0bf44d42-5bdb-439f-f44b-2e97af0464b3"
      },
      "execution_count": null,
      "outputs": [
        {
          "output_type": "stream",
          "name": "stdout",
          "text": [
            "24/24 [==============================] - 0s 11ms/step\n"
          ]
        },
        {
          "output_type": "execute_result",
          "data": {
            "text/plain": [
              "(0.34234011199987435, 0.00044926523884497945)"
            ]
          },
          "metadata": {},
          "execution_count": 135
        }
      ]
    },
    {
      "cell_type": "code",
      "source": [
        "# Calculate Naive Bayes prediction times\n",
        "baseline_total_pred_time, baseline_time_per_pred = pred_timer(model_0, val_sentences)\n",
        "baseline_total_pred_time, baseline_time_per_pred"
      ],
      "metadata": {
        "colab": {
          "base_uri": "https://localhost:8080/"
        },
        "id": "-8kQw8y3cMPp",
        "outputId": "c330cdc4-c1f9-4efa-c3ed-229e3a7bc1ce"
      },
      "execution_count": null,
      "outputs": [
        {
          "output_type": "execute_result",
          "data": {
            "text/plain": [
              "(0.025784134000332415, 3.383744619466196e-05)"
            ]
          },
          "metadata": {},
          "execution_count": 136
        }
      ]
    },
    {
      "cell_type": "markdown",
      "source": [
        "\n",
        "It seems with our current hardware (Google Colab notebook) our best performing model takes over 10x the time to make predictions as our baseline model.\n",
        "\n",
        "Is that extra prediction time worth it?"
      ],
      "metadata": {
        "id": "oOVmAO-gcNZZ"
      }
    },
    {
      "cell_type": "markdown",
      "source": [
        "Let's compare time per prediction versus our model's F1-scores."
      ],
      "metadata": {
        "id": "NCbPYGqgcZqM"
      }
    },
    {
      "cell_type": "code",
      "source": [
        "import matplotlib.pyplot as plt\n",
        "\n",
        "plt.figure(figsize=(10, 7))\n",
        "plt.scatter(baseline_time_per_pred, baseline_results[\"f1\"], label=\"baseline\")\n",
        "plt.scatter(model_6_time_per_pred, model_6_results[\"f1\"], label=\"tf_hub_sentence_encoder\")\n",
        "plt.legend()\n",
        "plt.title(\"F1-score versus time per prediction\")\n",
        "plt.xlabel(\"Time per prediction\")\n",
        "plt.ylabel(\"F1-Score\");"
      ],
      "metadata": {
        "colab": {
          "base_uri": "https://localhost:8080/",
          "height": 458
        },
        "id": "CtI7GL5CcT-I",
        "outputId": "9d77f60b-057a-4100-c106-42c5eedf07a8"
      },
      "execution_count": null,
      "outputs": [
        {
          "output_type": "display_data",
          "data": {
            "text/plain": [
              "<Figure size 720x504 with 1 Axes>"
            ],
            "image/png": "[encoded data removed]"
          },
          "metadata": {
            "needs_background": "light"
          }
        }
      ]
    },
    {
      "cell_type": "markdown",
      "source": [
        "![08-ideal-performance-speed-of-pred-tradeoff-highlighted.png](data:image/png;base64,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)"
      ],
      "metadata": {
        "id": "4rR-WcC2cagg"
      }
    },
    {
      "cell_type": "markdown",
      "source": [
        "In our case, there's a clear tradeoff for time per prediction and performance. Our best performing model takes an order of magnitude longer per prediction but only results in a few F1-score point increase."
      ],
      "metadata": {
        "id": "4hgNBV1acw12"
      }
    }
  ]
}